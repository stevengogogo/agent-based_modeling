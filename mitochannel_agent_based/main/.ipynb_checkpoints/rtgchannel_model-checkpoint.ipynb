{
 "cells": [
  {
   "cell_type": "markdown",
   "metadata": {},
   "source": [
    "# Mathematical Modeling of Mitochondrial Retrograde Response\n",
    "Documentation: [Mathematical-modeling-of-retrograde-signalling](Mathematical-modeling-of-retrograde-signalling.md)"
   ]
  },
  {
   "cell_type": "code",
   "execution_count": 276,
   "metadata": {},
   "outputs": [],
   "source": [
    "from sympy import *\n",
    "import numpy as np\n",
    "from scipy.integrate import odeint\n",
    "#init_printing(use_latex='png') #Print latex in sympy\n",
    "init_printing() "
   ]
  },
  {
   "cell_type": "markdown",
   "metadata": {},
   "source": [
    "## List of channel Parameters"
   ]
  },
  {
   "cell_type": "code",
   "execution_count": 225,
   "metadata": {},
   "outputs": [],
   "source": [
    "# time\n",
    "t = Symbol('t') \n",
    "# Input Signal\n",
    "s = Symbol('s', Function=True)(t)\n",
    "# Vector form of channel V\n",
    "v = []\n",
    "# v = [v1,...,v16]\n",
    "v.append( Symbol('[Rtg2]_{C}^{ina}',Function=True)(t) )      \n",
    "v.append( Symbol('[Rtg2]_{C}^{act}',Function=True)(t) )      \n",
    "v.append( Symbol('[Rtg3]_{C}^{P}',Function=True)(t)   )\n",
    "v.append( Symbol('[Rtg3]_{C}^{U}',Function=True)(t) )\n",
    "v.append( Symbol('[Rtg3]_{N}^{P}',Function=True)(t) )\n",
    "v.append( Symbol('[Rtg3]_{N}^{U}',Function=True)(t) )\n",
    "v.append( Symbol('[Rtg1]_{C}',Function=True)(t) )\n",
    "v.append( Symbol('[Rtg1]_{N}',Function=True)(t) )\n",
    "v.append( Symbol('[Rtg1/3]_{C}^{P}',Function=True)(t) )\n",
    "v.append( Symbol('[Rtg1/3]_{C}^{U}',Function=True)(t) )\n",
    "v.append( Symbol('[Rtg1/3]_{N}^{P}',Function=True)(t) )\n",
    "v.append( Symbol('[Rtg1/3]_{N}^{U}',Function=True)(t) )\n",
    "v.append( Symbol('[Bmh]_{C}',Function=True)(t) )\n",
    "v.append( Symbol('[Bmh-Mks1]_{C}',Function=True)(t) )\n",
    "v.append( Symbol('[Mks1-Rtg2]_{C}^{ina}',Function=True)(t) )\n",
    "v.append( Symbol('[Mks1-Rtg2]_{C}^{act}',Function=True)(t) )\n",
    "v.append( Symbol('[Mks1]_{C}',Function=True)(t) )"
   ]
  },
  {
   "cell_type": "code",
   "execution_count": 247,
   "metadata": {},
   "outputs": [
    {
     "data": {
      "image/png": "[encoded data removed]",
      "text/plain": [
       "⎡  [Rtg2]_{C}__{ina}(t)   ⎤\n",
       "⎢                         ⎥\n",
       "⎢  [Rtg2]_{C}__{act}(t)   ⎥\n",
       "⎢                         ⎥\n",
       "⎢   [Rtg3]_{C}__{P}(t)    ⎥\n",
       "⎢                         ⎥\n",
       "⎢   [Rtg3]_{C}__{U}(t)    ⎥\n",
       "⎢                         ⎥\n",
       "⎢   [Rtg3]_{N}__{P}(t)    ⎥\n",
       "⎢                         ⎥\n",
       "⎢   [Rtg3]_{N}__{U}(t)    ⎥\n",
       "⎢                         ⎥\n",
       "⎢      [Rtg1]_{C}(t)      ⎥\n",
       "⎢                         ⎥\n",
       "⎢      [Rtg1]_{N}(t)      ⎥\n",
       "⎢                         ⎥\n",
       "⎢  [Rtg1/3]_{C}__{P}(t)   ⎥\n",
       "⎢                         ⎥\n",
       "⎢  [Rtg1/3]_{C}__{U}(t)   ⎥\n",
       "⎢                         ⎥\n",
       "⎢  [Rtg1/3]_{N}__{P}(t)   ⎥\n",
       "⎢                         ⎥\n",
       "⎢  [Rtg1/3]_{N}__{U}(t)   ⎥\n",
       "⎢                         ⎥\n",
       "⎢      [Bmh]_{C}(t)       ⎥\n",
       "⎢                         ⎥\n",
       "⎢    [Bmh-Mks1]_{C}(t)    ⎥\n",
       "⎢                         ⎥\n",
       "⎢[Mks1-Rtg2]_{C}__{ina}(t)⎥\n",
       "⎢                         ⎥\n",
       "⎢[Mks1-Rtg2]_{C}__{act}(t)⎥\n",
       "⎢                         ⎥\n",
       "⎣      [Mks1]_{C}(t)      ⎦"
      ]
     },
     "execution_count": 247,
     "metadata": {},
     "output_type": "execute_result"
    }
   ],
   "source": [
    "# List index in math and sympy vector \n",
    "Matrix(v)"
   ]
  },
  {
   "cell_type": "markdown",
   "metadata": {},
   "source": [
    "## Reactions of RTG pathway"
   ]
  },
  {
   "cell_type": "code",
   "execution_count": 55,
   "metadata": {},
   "outputs": [
    {
     "data": {
      "text/plain": [
       "'[Mks1-Rtg2]_{C}^{act}'"
      ]
     },
     "execution_count": 55,
     "metadata": {},
     "output_type": "execute_result"
    }
   ],
   "source": [
    "str(v[15])[:-3]"
   ]
  },
  {
   "cell_type": "markdown",
   "metadata": {},
   "source": [
    "### Functions of converting reaction to vector form"
   ]
  },
  {
   "cell_type": "code",
   "execution_count": 56,
   "metadata": {},
   "outputs": [],
   "source": [
    "# Converting operation\n",
    "def to_stoi_matrix(reactions, products, v, **kwags):\n",
    "    stoi_vecs = np.array([])\n",
    "    for reac, prod in zip(reactions, products):\n",
    "        stoi_vecs = np.append(stoi_vecs, to_stoi_vec(reac,prod,v))\n",
    "    stoi_m = stoi_vecs.reshape(len(reactions),-1)\n",
    "    return np.matrix(stoi_m.transpose())\n",
    "    \n",
    "def to_stoi_vec(reac, prod, v):\n",
    "    \"\"\"\n",
    "    Convert reaction to stoichiometry vector form N = arr*V\n",
    "    Argument:\n",
    "            reac: sympy expression for reagents\n",
    "            prod: sympy expression for products\n",
    "            v:    list of all chemical component\n",
    "    Return:        \n",
    "            arr:  linear combination vector for v\n",
    "    \"\"\"\n",
    "    t = Symbol('t')\n",
    "    reac_dic = reac.as_coefficients_dict() # Ouput dictionary of algebraic and coefficients\n",
    "    prod_dic = prod.as_coefficients_dict()\n",
    "    arr = np.zeros(len(v))\n",
    "    # Replace regents' coefficients\n",
    "    for item in reac_dic.keys():\n",
    "        index = v.index(Symbol(str(item)[:-3],Function=True)(t))\n",
    "        arr[index] = -1 * reac_dic[item] # create vector\n",
    "    # Replace products' coefficients. multiply with -1\n",
    "    for item in prod_dic.keys():\n",
    "        index = v.index(Symbol(str(item)[:-3],Function=True)(t))\n",
    "        arr[index] = 1 * prod_dic[item] # create vector\n",
    "    return arr\n",
    "\n",
    "# Interaction model\n",
    "def hill(s, k, ka, n):\n",
    "    \"\"\"\n",
    "    Mathematical Equation of Hill function for Sympy alegraic computaton\n",
    "    \n",
    "    Argument:\n",
    "            s:  substrate \n",
    "            k:  raction rate\n",
    "            ka: dissociaton constant\n",
    "            n:  hill coefficient\n",
    "    \n",
    "    Return:\n",
    "            hillexp: sympy expression \n",
    "    \"\"\"\n",
    "    hillexp = k * ((s ** n) / (ka + s ** n))\n",
    "    return hillexp\n",
    "\n",
    "# List of reactions\n",
    "def r1(v, s, k1, ka1, n1, **param):\n",
    "    reac = v[1-1]\n",
    "    prod = v[2-1]\n",
    "    rate = hill(s, k1, ka1, n1)\n",
    "    return reac, prod, rate\n",
    "\n",
    "def r2(v, k2, **param):\n",
    "    reac = v[2-1]\n",
    "    prod = v[1-1]\n",
    "    rate = v[2-1] * k2\n",
    "    return reac, prod, rate\n",
    "\n",
    "def r3(v, k3, kn3, **param):\n",
    "    reac = v[17-1] + v[1-1]\n",
    "    prod = v[15-1]\n",
    "    rate = k3 * v[17-1] * v[1-1] - kn3 * v[15-1]\n",
    "    return reac, prod, rate\n",
    "\n",
    "def r4(v, k4, kn4, **param):\n",
    "    reac = v[17-1] + v[2-1]\n",
    "    prod = v[16-1]\n",
    "    rate = k4 * v[17-1] * v[2-1] - kn4 * v[16-1]\n",
    "    return reac, prod, rate\n",
    "\n",
    "def r5(v, k5, kn5, **param):\n",
    "    reac = v[17-1] + v[13-1]\n",
    "    prod = v[14-1]\n",
    "    rate = k5 * v[17-1] * v[13-1] - kn5 * v[14-1]\n",
    "    return reac, prod, rate\n",
    "\n",
    "def r6(v, k6, ka6, n6, **param):\n",
    "    reac = v[4-1]\n",
    "    prod = v[3-1]\n",
    "    rate = hill(v[14-1],k6,ka6,n6)\n",
    "    return reac, prod, rate\n",
    "\n",
    "def r7(v, k7, **param):\n",
    "    reac = v[3-1]\n",
    "    prod = v[4-1]\n",
    "    rate = k7 * v[3-1]\n",
    "    return reac, prod, rate\n",
    "\n",
    "def r8(v, k8, kn8, **param):\n",
    "    reac = v[5-1]\n",
    "    prod = v[6-1]\n",
    "    rate = k8 * v[5-1] - kn8 * v[6-1]\n",
    "    return reac, prod, rate\n",
    "\n",
    "def r9(v, k9, kn9, **param):\n",
    "    reac = v[4-1]\n",
    "    prod = v[6-1]\n",
    "    rate = k9 * v[4-1] - kn9 * v[6-1]\n",
    "    return reac, prod, rate\n",
    "\n",
    "def r10(v, k10, kn10, **param): \n",
    "    reac = v[3-1]\n",
    "    prod = v[5-1]\n",
    "    rate = k10 * v[3-1] - kn10 * v[5-1]\n",
    "    return reac, prod, rate\n",
    "\n",
    "def r11(v, k11, kn11, **param):\n",
    "    reac = v[4-1] + v[7-1]\n",
    "    prod = v[10-1]\n",
    "    rate = k11 * v[4-1] * v[7-1] - kn11 * v[10-1]\n",
    "    return reac, prod, rate\n",
    "\n",
    "def r12(v, k12, kn12, **param):\n",
    "    reac = v[3-1] + v[7-1]\n",
    "    prod = v[9-1]\n",
    "    rate = k12 * v[3-1] * v[7-1] - kn12 * v[9-1]\n",
    "    return reac, prod, rate\n",
    "\n",
    "def r13(v, k13, kn13, **param):\n",
    "    reac = v[6-1] + v[8-1]\n",
    "    prod = v[12-1]\n",
    "    rate = k13 * v[6-1] * v[8-1] - kn13 * v[12-1]\n",
    "    return reac, prod, rate\n",
    "\n",
    "def r14(v, k14, kn14, **param):\n",
    "    reac = v[5-1] + v[8-1]\n",
    "    prod = v[11-1]\n",
    "    rate = k14 * v[5-1] * v[8-1] - kn14 * v[11-1]\n",
    "    return reac, prod, rate\n",
    "\n",
    "def r15(v, k15, kn15, **param):\n",
    "    reac = v[10-1]\n",
    "    prod = v[12-1]\n",
    "    rate = k15 * v[10-1] - kn15 * v[12-1]\n",
    "    return reac, prod, rate\n",
    "\n",
    "def r16(v, k16, kn16, **param):\n",
    "    reac = v[9-1]\n",
    "    prod = v[11-1]\n",
    "    rate = k16 * v[9-1] - kn16 * v[11-1]\n",
    "    return reac, prod, rate"
   ]
  },
  {
   "cell_type": "markdown",
   "metadata": {},
   "source": [
    "## Stoichiometry matrix\n",
    "\n",
    "Turorial: [Introduction of Stoichiometry matrix](https://en.wikipedia.org/wiki/Stoichiometry)\n",
    "Also see: [Reactions of RTG Pathway](Mathematical-modeling-of-retrograde-signalling.md)\n",
    "\n",
    "$\\frac{d\\vec{S}}{dt} = \\textbf{N}\\vec{r}$\n",
    "\n",
    "$r = (rate1,...,rate_m)$\n",
    "\n",
    "$s = (s_1,...,s_n)$\n",
    "\n",
    "N = n x m matrix\n",
    "\n",
    "|Notation|name|\n",
    "|---|---|\n",
    "|N|stoichiometry matrix|\n",
    "|r|rate vector|\n",
    "|S|species vector|"
   ]
  },
  {
   "cell_type": "markdown",
   "metadata": {},
   "source": [
    "### Reactions"
   ]
  },
  {
   "cell_type": "code",
   "execution_count": 241,
   "metadata": {},
   "outputs": [],
   "source": [
    "reactions = [r1,r2,r3,r4,r5,r6,r7,r8,r9,r10,r11,r12,r13,r14,r15,r16]"
   ]
  },
  {
   "cell_type": "markdown",
   "metadata": {},
   "source": [
    "### Parameters"
   ]
  },
  {
   "cell_type": "code",
   "execution_count": 58,
   "metadata": {},
   "outputs": [],
   "source": [
    "param = {\n",
    "    'k1': Symbol('k1'),\n",
    "    'ka1':Symbol('ka1'),\n",
    "    'n1': Symbol('n1'),\n",
    "    'k2': Symbol('k2'),\n",
    "    'k3': Symbol('k3'),\n",
    "    'kn3':Symbol('kn3'),\n",
    "    'k4': Symbol('k4'),\n",
    "    'kn4':Symbol('kn4'),\n",
    "    'k5': Symbol('k5'),\n",
    "    'kn5':Symbol('kn5'),\n",
    "    'k6': Symbol('k6'),\n",
    "    'ka6':Symbol('ka6'),\n",
    "    'n6':Symbol('n6'),\n",
    "    'k7':Symbol('k7'),\n",
    "    'k8':Symbol('k8'),\n",
    "    'kn8':Symbol('kn8'),\n",
    "    'k9':Symbol('k9'),\n",
    "    'kn9':Symbol('kn9'),\n",
    "    'k10':Symbol('k10'),\n",
    "    'kn10':Symbol('kn10'),\n",
    "    'k11':Symbol('k11'),\n",
    "    'kn11':Symbol('kn11'),\n",
    "    'k12':Symbol('k12'),\n",
    "    'kn12':Symbol('kn12'),\n",
    "    'k13':Symbol('k13'),\n",
    "    'kn13':Symbol('kn13'),\n",
    "    'k14':Symbol('k14'),\n",
    "    'kn14':Symbol('kn14'),\n",
    "    'k15':Symbol('k15'),\n",
    "    'kn15':Symbol('kn15'),\n",
    "    'k16':Symbol('k16'),\n",
    "    'kn16':Symbol('kn16'),\n",
    "}\n"
   ]
  },
  {
   "cell_type": "markdown",
   "metadata": {},
   "source": [
    "### Stoicshiometry Matrix"
   ]
  },
  {
   "cell_type": "code",
   "execution_count": 59,
   "metadata": {},
   "outputs": [],
   "source": [
    "# Retrive reagents, products, rates\n",
    "reacs = [] \n",
    "prods = []\n",
    "rates = []\n",
    "reac, prod, rate  = reactions[0](v, s,**param)\n",
    "reacs.append(reac); prods.append(prod); rates.append(rate)\n",
    "for reaction in reactions[1:]:\n",
    "    reac, prod, rate = reaction(v, **param)\n",
    "    reacs.append(reac); prods.append(prod); rates.append(rate)\n",
    "\n",
    "# RTG Pathway reaction info\n",
    "rtg_reactions = {\n",
    "    'reactions': reacs,\n",
    "    'products': prods,\n",
    "    'rates': rates,\n",
    "    'v': v\n",
    "}\n",
    "# Stoichiometry Matrix\n",
    "stoi_m = to_stoi_matrix(**rtg_reactions)"
   ]
  },
  {
   "cell_type": "code",
   "execution_count": 60,
   "metadata": {},
   "outputs": [
    {
     "name": "stdout",
     "output_type": "stream",
     "text": [
      "The stoichiometry matrix of RTG Pathway \n",
      "   R1  R2  R3  R4  R5  R6  R7  R8  R9 R10 R11 R12 R13 R14 R15 R16\n",
      "[[-1.  1. -1.  0.  0.  0.  0.  0.  0.  0.  0.  0.  0.  0.  0.  0.]\n",
      " [ 1. -1.  0. -1.  0.  0.  0.  0.  0.  0.  0.  0.  0.  0.  0.  0.]\n",
      " [ 0.  0.  0.  0.  0.  1. -1.  0.  0. -1.  0. -1.  0.  0.  0.  0.]\n",
      " [ 0.  0.  0.  0.  0. -1.  1.  0. -1.  0. -1.  0.  0.  0.  0.  0.]\n",
      " [ 0.  0.  0.  0.  0.  0.  0. -1.  0.  1.  0.  0.  0. -1.  0.  0.]\n",
      " [ 0.  0.  0.  0.  0.  0.  0.  1.  1.  0.  0.  0. -1.  0.  0.  0.]\n",
      " [ 0.  0.  0.  0.  0.  0.  0.  0.  0.  0. -1. -1.  0.  0.  0.  0.]\n",
      " [ 0.  0.  0.  0.  0.  0.  0.  0.  0.  0.  0.  0. -1. -1.  0.  0.]\n",
      " [ 0.  0.  0.  0.  0.  0.  0.  0.  0.  0.  0.  1.  0.  0.  0. -1.]\n",
      " [ 0.  0.  0.  0.  0.  0.  0.  0.  0.  0.  1.  0.  0.  0. -1.  0.]\n",
      " [ 0.  0.  0.  0.  0.  0.  0.  0.  0.  0.  0.  0.  0.  1.  0.  1.]\n",
      " [ 0.  0.  0.  0.  0.  0.  0.  0.  0.  0.  0.  0.  1.  0.  1.  0.]\n",
      " [ 0.  0.  0.  0. -1.  0.  0.  0.  0.  0.  0.  0.  0.  0.  0.  0.]\n",
      " [ 0.  0.  0.  0.  1.  0.  0.  0.  0.  0.  0.  0.  0.  0.  0.  0.]\n",
      " [ 0.  0.  1.  0.  0.  0.  0.  0.  0.  0.  0.  0.  0.  0.  0.  0.]\n",
      " [ 0.  0.  0.  1.  0.  0.  0.  0.  0.  0.  0.  0.  0.  0.  0.  0.]\n",
      " [ 0.  0. -1. -1. -1.  0.  0.  0.  0.  0.  0.  0.  0.  0.  0.  0.]]\n"
     ]
    }
   ],
   "source": [
    "print('The stoichiometry matrix of RTG Pathway','\\n','  R1  R2  R3  R4  R5  R6  R7  R8  R9 R10 R11 R12 R13 R14 R15 R16')\n",
    "print(stoi_m)"
   ]
  },
  {
   "cell_type": "markdown",
   "metadata": {},
   "source": [
    "### Rate Vector"
   ]
  },
  {
   "cell_type": "code",
   "execution_count": 61,
   "metadata": {},
   "outputs": [],
   "source": [
    "rate_m = np.matrix(rates).transpose()"
   ]
  },
  {
   "cell_type": "code",
   "execution_count": 75,
   "metadata": {},
   "outputs": [],
   "source": [
    "# tuple(rate_m.tolist())"
   ]
  },
  {
   "cell_type": "markdown",
   "metadata": {},
   "source": [
    "## first order of species\n",
    "\n",
    "$\\frac{d}{dt}\\vec{S} = \\textbf{N} \\textbf{R}$"
   ]
  },
  {
   "cell_type": "code",
   "execution_count": 261,
   "metadata": {},
   "outputs": [],
   "source": [
    "# ODE system\n",
    "ds = stoi_m * rate_m\n",
    "#eqs = Eq(diff(s,t),0)\n",
    "#eqs = Eq(0,0)\n",
    "ode_v = [] \n",
    "for i in range(0, ds.shape[0]):\n",
    "    #ode_v.append(Eq(diff(v[i],t),ds[i,0]))\n",
    "    ode_v.append(Eq(0,ds[i,0]))"
   ]
  },
  {
   "cell_type": "code",
   "execution_count": 262,
   "metadata": {},
   "outputs": [
    {
     "data": {
      "image/png": "[encoded data removed]",
      "text/plain": [
       "⎡                                                              n₁             \n",
       "⎢                                                      1.0⋅k₁⋅s  (t)          \n",
       "⎢                                                0 = - ───────────── + 1.0⋅k₂⋅\n",
       "⎢                                                              n₁             \n",
       "⎢                                                       ka₁ + s  (t)          \n",
       "⎢                                                                             \n",
       "⎢                                                             n₁              \n",
       "⎢                                                     1.0⋅k₁⋅s  (t)           \n",
       "⎢                                                 0 = ───────────── - 1.0⋅k₂⋅[\n",
       "⎢                                                             n₁              \n",
       "⎢                                                      ka₁ + s  (t)           \n",
       "⎢                                                                             \n",
       "⎢                                                                             \n",
       "⎢                                                                             \n",
       "⎢                0 = -1.0⋅k₁₀⋅[Rtg3]_{C}__{P}(t) - 1.0⋅k₁₂⋅[Rtg1]_{C}(t)⋅[Rtg3\n",
       "⎢                                                                             \n",
       "⎢                                                                             \n",
       "⎢                                                                             \n",
       "⎢                                                                             \n",
       "⎢                                                                 1.0⋅k₆⋅[Bmh-\n",
       "⎢                 0 = -1.0⋅k₁₁⋅[Rtg1]_{C}(t)⋅[Rtg3]_{C}__{U}(t) - ────────────\n",
       "⎢                                                                             \n",
       "⎢                                                                 ka₆ + [Bmh-M\n",
       "⎢                                                                             \n",
       "⎢                 0 = 1.0⋅k₁₀⋅[Rtg3]_{C}__{P}(t) - 1.0⋅k₁₄⋅[Rtg1]_{N}(t)⋅[Rtg3\n",
       "⎢                                                                             \n",
       "⎢                 0 = -1.0⋅k₁₃⋅[Rtg1]_{N}(t)⋅[Rtg3]_{N}__{U}(t) + 1.0⋅k₈⋅[Rtg3\n",
       "⎢                                                                             \n",
       "⎢                                     0 = -1.0⋅k₁₁⋅[Rtg1]_{C}(t)⋅[Rtg3]_{C}__{\n",
       "⎢                                                                             \n",
       "⎢                                     0 = -1.0⋅k₁₃⋅[Rtg1]_{N}(t)⋅[Rtg3]_{N}__{\n",
       "⎢                                                                             \n",
       "⎢                                           0 = 1.0⋅k₁₂⋅[Rtg1]_{C}(t)⋅[Rtg3]_{\n",
       "⎢                                                                             \n",
       "⎢                                           0 = 1.0⋅k₁₁⋅[Rtg1]_{C}(t)⋅[Rtg3]_{\n",
       "⎢                                                                             \n",
       "⎢                                           0 = 1.0⋅k₁₄⋅[Rtg1]_{N}(t)⋅[Rtg3]_{\n",
       "⎢                                                                             \n",
       "⎢                                           0 = 1.0⋅k₁₃⋅[Rtg1]_{N}(t)⋅[Rtg3]_{\n",
       "⎢                                                                             \n",
       "⎢                                                                             \n",
       "⎢                                                                             \n",
       "⎢                                                                             \n",
       "⎢                                                                             \n",
       "⎢                                                                        0 = 1\n",
       "⎢                                                                             \n",
       "⎢                                                                        0 = 1\n",
       "⎢                                                                             \n",
       "⎣0 = -1.0⋅k₃⋅[Mks1]_{C}(t)⋅[Rtg2]_{C}__{ina}(t) - 1.0⋅k₄⋅[Mks1]_{C}(t)⋅[Rtg2]_\n",
       "\n",
       "                                                                              \n",
       "                                                                              \n",
       "[Rtg2]_{C}__{act}(t) - 1.0⋅k₃⋅[Mks1]_{C}(t)⋅[Rtg2]_{C}__{ina}(t) + 1.0⋅kn₃⋅[Mk\n",
       "                                                                              \n",
       "                                                                              \n",
       "                                                                              \n",
       "                                                                              \n",
       "                                                                              \n",
       "Rtg2]_{C}__{act}(t) - 1.0⋅k₄⋅[Mks1]_{C}(t)⋅[Rtg2]_{C}__{act}(t) + 1.0⋅kn₄⋅[Mks\n",
       "                                                                              \n",
       "                                                                              \n",
       "                                                                              \n",
       "                                     n₆                                       \n",
       "                1.0⋅k₆⋅[Bmh-Mks1]_{C}  (t)                                    \n",
       "]_{C}__{P}(t) + ────────────────────────── - 1.0⋅k₇⋅[Rtg3]_{C}__{P}(t) + 1.0⋅k\n",
       "                                    n₆                                        \n",
       "                ka₆ + [Bmh-Mks1]_{C}  (t)                                     \n",
       "                                                                              \n",
       "         n₆                                                                   \n",
       "Mks1]_{C}  (t)                                                                \n",
       "────────────── + 1.0⋅k₇⋅[Rtg3]_{C}__{P}(t) - 1.0⋅k₉⋅[Rtg3]_{C}__{U}(t) + 1.0⋅k\n",
       "        n₆                                                                    \n",
       "ks1]_{C}  (t)                                                                 \n",
       "                                                                              \n",
       "]_{N}__{P}(t) - 1.0⋅k₈⋅[Rtg3]_{N}__{P}(t) - 1.0⋅kn₁₀⋅[Rtg3]_{N}__{P}(t) + 1.0⋅\n",
       "                                                                              \n",
       "]_{N}__{P}(t) + 1.0⋅k₉⋅[Rtg3]_{C}__{U}(t) + 1.0⋅kn₁₃⋅[Rtg1/3]_{N}__{U}(t) - 1.\n",
       "                                                                              \n",
       "U}(t) - 1.0⋅k₁₂⋅[Rtg1]_{C}(t)⋅[Rtg3]_{C}__{P}(t) + 1.0⋅kn₁₁⋅[Rtg1/3]_{C}__{U}(\n",
       "                                                                              \n",
       "U}(t) - 1.0⋅k₁₄⋅[Rtg1]_{N}(t)⋅[Rtg3]_{N}__{P}(t) + 1.0⋅kn₁₃⋅[Rtg1/3]_{N}__{U}(\n",
       "                                                                              \n",
       "C}__{P}(t) - 1.0⋅k₁₆⋅[Rtg1/3]_{C}__{P}(t) - 1.0⋅kn₁₂⋅[Rtg1/3]_{C}__{P}(t) + 1.\n",
       "                                                                              \n",
       "C}__{U}(t) - 1.0⋅k₁₅⋅[Rtg1/3]_{C}__{U}(t) - 1.0⋅kn₁₁⋅[Rtg1/3]_{C}__{U}(t) + 1.\n",
       "                                                                              \n",
       "N}__{P}(t) + 1.0⋅k₁₆⋅[Rtg1/3]_{C}__{P}(t) - 1.0⋅kn₁₄⋅[Rtg1/3]_{N}__{P}(t) - 1.\n",
       "                                                                              \n",
       "N}__{U}(t) + 1.0⋅k₁₅⋅[Rtg1/3]_{C}__{U}(t) - 1.0⋅kn₁₃⋅[Rtg1/3]_{N}__{U}(t) - 1.\n",
       "                                                                              \n",
       "   0 = -1.0⋅k₅⋅[Bmh]_{C}(t)⋅[Mks1]_{C}(t) + 1.0⋅kn₅⋅[Bmh-Mks1]_{C}(t)         \n",
       "                                                                              \n",
       "   0 = 1.0⋅k₅⋅[Bmh]_{C}(t)⋅[Mks1]_{C}(t) - 1.0⋅kn₅⋅[Bmh-Mks1]_{C}(t)          \n",
       "                                                                              \n",
       ".0⋅k₃⋅[Mks1]_{C}(t)⋅[Rtg2]_{C}__{ina}(t) - 1.0⋅kn₃⋅[Mks1-Rtg2]_{C}__{ina}(t)  \n",
       "                                                                              \n",
       ".0⋅k₄⋅[Mks1]_{C}(t)⋅[Rtg2]_{C}__{act}(t) - 1.0⋅kn₄⋅[Mks1-Rtg2]_{C}__{act}(t)  \n",
       "                                                                              \n",
       "{C}__{act}(t) - 1.0⋅k₅⋅[Bmh]_{C}(t)⋅[Mks1]_{C}(t) + 1.0⋅kn₃⋅[Mks1-Rtg2]_{C}__{\n",
       "\n",
       "                                                                       ⎤\n",
       "                                                                       ⎥\n",
       "s1-Rtg2]_{C}__{ina}(t)                                                 ⎥\n",
       "                                                                       ⎥\n",
       "                                                                       ⎥\n",
       "                                                                       ⎥\n",
       "                                                                       ⎥\n",
       "                                                                       ⎥\n",
       "1-Rtg2]_{C}__{act}(t)                                                  ⎥\n",
       "                                                                       ⎥\n",
       "                                                                       ⎥\n",
       "                                                                       ⎥\n",
       "                                                                       ⎥\n",
       "                                                                       ⎥\n",
       "n₁₀⋅[Rtg3]_{N}__{P}(t) + 1.0⋅kn₁₂⋅[Rtg1/3]_{C}__{P}(t)                 ⎥\n",
       "                                                                       ⎥\n",
       "                                                                       ⎥\n",
       "                                                                       ⎥\n",
       "                                                                       ⎥\n",
       "                                                                       ⎥\n",
       "n₁₁⋅[Rtg1/3]_{C}__{U}(t) + 1.0⋅kn₉⋅[Rtg3]_{N}__{U}(t)                  ⎥\n",
       "                                                                       ⎥\n",
       "                                                                       ⎥\n",
       "                                                                       ⎥\n",
       "kn₁₄⋅[Rtg1/3]_{N}__{P}(t) + 1.0⋅kn₈⋅[Rtg3]_{N}__{U}(t)                 ⎥\n",
       "                                                                       ⎥\n",
       "0⋅kn₈⋅[Rtg3]_{N}__{U}(t) - 1.0⋅kn₉⋅[Rtg3]_{N}__{U}(t)                  ⎥\n",
       "                                                                       ⎥\n",
       "t) + 1.0⋅kn₁₂⋅[Rtg1/3]_{C}__{P}(t)                                     ⎥\n",
       "                                                                       ⎥\n",
       "t) + 1.0⋅kn₁₄⋅[Rtg1/3]_{N}__{P}(t)                                     ⎥\n",
       "                                                                       ⎥\n",
       "0⋅kn₁₆⋅[Rtg1/3]_{N}__{P}(t)                                            ⎥\n",
       "                                                                       ⎥\n",
       "0⋅kn₁₅⋅[Rtg1/3]_{N}__{U}(t)                                            ⎥\n",
       "                                                                       ⎥\n",
       "0⋅kn₁₆⋅[Rtg1/3]_{N}__{P}(t)                                            ⎥\n",
       "                                                                       ⎥\n",
       "0⋅kn₁₅⋅[Rtg1/3]_{N}__{U}(t)                                            ⎥\n",
       "                                                                       ⎥\n",
       "                                                                       ⎥\n",
       "                                                                       ⎥\n",
       "                                                                       ⎥\n",
       "                                                                       ⎥\n",
       "                                                                       ⎥\n",
       "                                                                       ⎥\n",
       "                                                                       ⎥\n",
       "                                                                       ⎥\n",
       "ina}(t) + 1.0⋅kn₄⋅[Mks1-Rtg2]_{C}__{act}(t) + 1.0⋅kn₅⋅[Bmh-Mks1]_{C}(t)⎦"
      ]
     },
     "execution_count": 262,
     "metadata": {},
     "output_type": "execute_result"
    }
   ],
   "source": [
    "Matrix(ode_v)"
   ]
  },
  {
   "cell_type": "code",
   "execution_count": null,
   "metadata": {},
   "outputs": [],
   "source": [
    "%%time\n",
    "sol_steady = solve([ode_v[0], ode_v[1],ode_v[2], ode_v[3],ode_v[4], ode_v[5],ode_v[6], ode_v[7],\n",
    "      ode_v[8], ode_v[9],ode_v[10], ode_v[11],ode_v[12], ode_v[13],ode_v[14], ode_v[15], ode_v[16] ],v)\n",
    "\n",
    "with open(\"sol_steady.txt\", \"w\") as outf:\n",
    "    for i in sol_steady:\n",
    "        print(str(i))\n",
    "        outf.write(str(i))"
   ]
  },
  {
   "cell_type": "markdown",
   "metadata": {},
   "source": [
    "## State-space system \n",
    "\n",
    "References: [Scipy tutorial](https://docs.scipy.org/doc/scipy/reference/tutorial/signal.html), [from state-space to transfer function](https://docs.scipy.org/doc/scipy/reference/generated/scipy.signal.ss2tf.html)\n",
    "\n",
    "A system can be linearized by the following equations:\n",
    "\n",
    "$\\frac{d}{dt}\\textbf{x} = f(\\textbf{x}(t),\\textbf{u}(t)) = \\textbf{A}x(t) + \\textbf{B}u(t) $\n",
    "\n",
    "$y(t) = h(\\textbf{x}(t),\\textbf{u}(t)) = \\textbf{C}x(t) + \\textbf{D}u(t)$"
   ]
  },
  {
   "cell_type": "code",
   "execution_count": 235,
   "metadata": {},
   "outputs": [],
   "source": [
    "# Matrix A\n",
    "y_a = Matrix(v)\n",
    "x_a = Matrix(ds)\n",
    "A = x_a.jacobian(y_a)\n",
    "\n",
    "# Matrix B\n",
    "y_b = Matrix([s])\n",
    "x_b = Matrix(ds)\n",
    "B = x_b.jacobian(y_b)\n",
    "\n",
    "# Matrix C\n",
    "C = Matrix([[0,0,0,0,0,0,0,0,0,0,1,1,0,0,0,0,0]]).T # Sum of Rtg1/3 in nucleus\n",
    "\n",
    "# Matrix D\n",
    "\n",
    "D = Matrix([0])"
   ]
  },
  {
   "cell_type": "code",
   "execution_count": 257,
   "metadata": {},
   "outputs": [
    {
     "name": "stdout",
     "output_type": "stream",
     "text": [
      "\\left[\\begin{matrix}0\\\\0\\\\0\\\\0\\\\0\\\\0\\\\0\\\\0\\\\0\\\\0\\\\1\\\\1\\\\0\\\\0\\\\0\\\\0\\\\0\\end{matrix}\\right]\n"
     ]
    }
   ],
   "source": [
    "print(latex(C))"
   ]
  },
  {
   "cell_type": "code",
   "execution_count": 237,
   "metadata": {},
   "outputs": [
    {
     "data": {
      "image/png": "[encoded data removed]",
      "text/plain": [
       "⎡               n₁                   2⋅n₁    ⎤\n",
       "⎢    1.0⋅k₁⋅n₁⋅s  (t)     1.0⋅k₁⋅n₁⋅s    (t) ⎥\n",
       "⎢- ─────────────────── + ────────────────────⎥\n",
       "⎢  ⎛       n₁   ⎞                      2     ⎥\n",
       "⎢  ⎝ka₁ + s  (t)⎠⋅s(t)   ⎛       n₁   ⎞      ⎥\n",
       "⎢                        ⎝ka₁ + s  (t)⎠ ⋅s(t)⎥\n",
       "⎢                                            ⎥\n",
       "⎢              n₁                   2⋅n₁     ⎥\n",
       "⎢   1.0⋅k₁⋅n₁⋅s  (t)     1.0⋅k₁⋅n₁⋅s    (t)  ⎥\n",
       "⎢ ─────────────────── - ──────────────────── ⎥\n",
       "⎢ ⎛       n₁   ⎞                      2      ⎥\n",
       "⎢ ⎝ka₁ + s  (t)⎠⋅s(t)   ⎛       n₁   ⎞       ⎥\n",
       "⎢                       ⎝ka₁ + s  (t)⎠ ⋅s(t) ⎥\n",
       "⎢                                            ⎥\n",
       "⎢                     0                      ⎥\n",
       "⎢                                            ⎥\n",
       "⎢                     0                      ⎥\n",
       "⎢                                            ⎥\n",
       "⎢                     0                      ⎥\n",
       "⎢                                            ⎥\n",
       "⎢                     0                      ⎥\n",
       "⎢                                            ⎥\n",
       "⎢                     0                      ⎥\n",
       "⎢                                            ⎥\n",
       "⎢                     0                      ⎥\n",
       "⎢                                            ⎥\n",
       "⎢                     0                      ⎥\n",
       "⎢                                            ⎥\n",
       "⎢                     0                      ⎥\n",
       "⎢                                            ⎥\n",
       "⎢                     0                      ⎥\n",
       "⎢                                            ⎥\n",
       "⎢                     0                      ⎥\n",
       "⎢                                            ⎥\n",
       "⎢                     0                      ⎥\n",
       "⎢                                            ⎥\n",
       "⎢                     0                      ⎥\n",
       "⎢                                            ⎥\n",
       "⎢                     0                      ⎥\n",
       "⎢                                            ⎥\n",
       "⎢                     0                      ⎥\n",
       "⎢                                            ⎥\n",
       "⎣                     0                      ⎦"
      ]
     },
     "execution_count": 237,
     "metadata": {},
     "output_type": "execute_result"
    }
   ],
   "source": [
    "B"
   ]
  },
  {
   "cell_type": "code",
   "execution_count": 238,
   "metadata": {},
   "outputs": [
    {
     "data": {
      "image/png": "[encoded data removed]",
      "text/plain": [
       "⎡0⎤\n",
       "⎢ ⎥\n",
       "⎢0⎥\n",
       "⎢ ⎥\n",
       "⎢0⎥\n",
       "⎢ ⎥\n",
       "⎢0⎥\n",
       "⎢ ⎥\n",
       "⎢0⎥\n",
       "⎢ ⎥\n",
       "⎢0⎥\n",
       "⎢ ⎥\n",
       "⎢0⎥\n",
       "⎢ ⎥\n",
       "⎢0⎥\n",
       "⎢ ⎥\n",
       "⎢0⎥\n",
       "⎢ ⎥\n",
       "⎢0⎥\n",
       "⎢ ⎥\n",
       "⎢1⎥\n",
       "⎢ ⎥\n",
       "⎢1⎥\n",
       "⎢ ⎥\n",
       "⎢0⎥\n",
       "⎢ ⎥\n",
       "⎢0⎥\n",
       "⎢ ⎥\n",
       "⎢0⎥\n",
       "⎢ ⎥\n",
       "⎢0⎥\n",
       "⎢ ⎥\n",
       "⎣0⎦"
      ]
     },
     "execution_count": 238,
     "metadata": {},
     "output_type": "execute_result"
    }
   ],
   "source": [
    "C"
   ]
  },
  {
   "cell_type": "code",
   "execution_count": 234,
   "metadata": {},
   "outputs": [
    {
     "data": {
      "image/png": "[encoded data removed]",
      "text/plain": [
       "[0]"
      ]
     },
     "execution_count": 234,
     "metadata": {},
     "output_type": "execute_result"
    }
   ],
   "source": [
    "D"
   ]
  },
  {
   "cell_type": "code",
   "execution_count": 260,
   "metadata": {},
   "outputs": [],
   "source": [
    "from scipy.signal import ss2tf\n",
    "# ss2tf(A,B,C,D)"
   ]
  },
  {
   "cell_type": "code",
   "execution_count": null,
   "metadata": {},
   "outputs": [],
   "source": []
  }
 ],
 "metadata": {
  "kernelspec": {
   "display_name": "Python 3",
   "language": "python",
   "name": "python3"
  },
  "language_info": {
   "codemirror_mode": {
    "name": "ipython",
    "version": 3
   },
   "file_extension": ".py",
   "mimetype": "text/x-python",
   "name": "python",
   "nbconvert_exporter": "python",
   "pygments_lexer": "ipython3",
   "version": "3.6.4"
  }
 },
 "nbformat": 4,
 "nbformat_minor": 2
}
