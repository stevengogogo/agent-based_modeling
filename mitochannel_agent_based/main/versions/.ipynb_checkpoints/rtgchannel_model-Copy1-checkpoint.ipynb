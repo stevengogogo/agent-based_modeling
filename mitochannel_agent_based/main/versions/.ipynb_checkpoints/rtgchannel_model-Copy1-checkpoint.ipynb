{
 "cells": [
  {
   "cell_type": "markdown",
   "metadata": {},
   "source": [
    "# Mathematical Modeling of Mitochondrial Retrograde Response\n",
    "Documentation: [Mathematical-modeling-of-retrograde-signalling](Mathematical-modeling-of-retrograde-signalling.md)"
   ]
  },
  {
   "cell_type": "code",
   "execution_count": 314,
   "metadata": {},
   "outputs": [],
   "source": [
    "from sympy import *\n",
    "import numpy as np\n",
    "from scipy.integrate import odeint\n",
    "init_printing() #Print latex in sympy"
   ]
  },
  {
   "cell_type": "markdown",
   "metadata": {},
   "source": [
    "## List of channel Parameters"
   ]
  },
  {
   "cell_type": "code",
   "execution_count": 320,
   "metadata": {},
   "outputs": [],
   "source": [
    "# Input Signal\n",
    "s = Symbol('s', Function=True)\n",
    "# Vector form of channel V\n",
    "v = []\n",
    "# v = [v1,...,v16]\n",
    "v.append( Symbol('[Rtg2]_{C}^{ina}',Function=True) )      \n",
    "v.append( Symbol('[Rtg2]_{C}^{act}',Function=True) )      \n",
    "v.append( Symbol('[Rtg3]_{C}^{P}',Function=True)   )\n",
    "v.append( Symbol('[Rtg3]_{C}^{U}',Function=True) )\n",
    "v.append( Symbol('[Rtg3]_{N}^{P}',Function=True) )\n",
    "v.append( Symbol('[Rtg3]_{N}^{U}',Function=True) )\n",
    "v.append( Symbol('[Rtg1]_{C}',Function=True) )\n",
    "v.append( Symbol('[Rtg1]_{N}',Function=True) )\n",
    "v.append( Symbol('[Rtg1/3]_{C}^{P}',Function=True) )\n",
    "v.append( Symbol('[Rtg1/3]_{C}^{U}',Function=True) )\n",
    "v.append( Symbol('[Rtg1/3]_{N}^{P}',Function=True) )\n",
    "v.append( Symbol('[Rtg1/3]_{N}^{U}',Function=True) )\n",
    "v.append( Symbol('[Bmh]_{C}',Function=True) )\n",
    "v.append( Symbol('[Bmh-Mks1]_{C}',Function=True) )\n",
    "v.append( Symbol('[Mks1-Rtg2]_{C}^{ina}',Function=True) )\n",
    "v.append( Symbol('[Mks1-Rtg2]_{C}^{act}',Function=True) )\n",
    "v.append( Symbol('[Mks1]_{C}',Function=True) )"
   ]
  },
  {
   "cell_type": "code",
   "execution_count": 321,
   "metadata": {},
   "outputs": [
    {
     "name": "stdout",
     "output_type": "stream",
     "text": [
      "s\n",
      "V 1 := [Rtg2]_{C}^{ina}\n",
      "V 2 := [Rtg2]_{C}^{act}\n",
      "V 3 := [Rtg3]_{C}^{P}\n",
      "V 4 := [Rtg3]_{C}^{U}\n",
      "V 5 := [Rtg3]_{N}^{P}\n",
      "V 6 := [Rtg3]_{N}^{U}\n",
      "V 7 := [Rtg1]_{C}\n",
      "V 8 := [Rtg1]_{N}\n",
      "V 9 := [Rtg1/3]_{C}^{P}\n",
      "V 10 := [Rtg1/3]_{C}^{U}\n",
      "V 11 := [Rtg1/3]_{N}^{P}\n",
      "V 12 := [Rtg1/3]_{N}^{U}\n",
      "V 13 := [Bmh]_{C}\n",
      "V 14 := [Bmh-Mks1]_{C}\n",
      "V 15 := [Mks1-Rtg2]_{C}^{ina}\n",
      "V 16 := [Mks1-Rtg2]_{C}^{act}\n",
      "V 17 := [Mks1]_{C}\n"
     ]
    }
   ],
   "source": [
    "# List index in math and sympy vector \n",
    "print(s)\n",
    "for i in range(0,len(v)):\n",
    "    print('V',i+1,':=', v[i]) # Note: V1 := V[0]"
   ]
  },
  {
   "cell_type": "markdown",
   "metadata": {},
   "source": [
    "## Reactions of RTG pathway"
   ]
  },
  {
   "cell_type": "markdown",
   "metadata": {},
   "source": [
    "### Functions of converting reaction to vector form"
   ]
  },
  {
   "cell_type": "code",
   "execution_count": 315,
   "metadata": {},
   "outputs": [],
   "source": [
    "# Converting operation\n",
    "def to_stoi_matrix(reactions, products, v, **kwags):\n",
    "    stoi_vecs = np.array([])\n",
    "    for reac, prod in zip(reactions, products):\n",
    "        stoi_vecs = np.append(stoi_vecs, to_stoi_vec(reac,prod,v))\n",
    "    stoi_m = stoi_vecs.reshape(len(reactions),-1)\n",
    "    return np.matrix(stoi_m.transpose())\n",
    "    \n",
    "def to_stoi_vec(reac, prod, v):\n",
    "    \"\"\"\n",
    "    Convert reaction to stoichiometry vector form N = arr*V\n",
    "    Argument:\n",
    "            reac: sympy expression for reagents\n",
    "            prod: sympy expression for products\n",
    "            v:    list of all chemical component\n",
    "    Return:        \n",
    "            arr:  linear combination vector for v\n",
    "    \"\"\"\n",
    "    reac_dic = reac.as_coefficients_dict() # Ouput dictionary of algebraic and coefficients\n",
    "    prod_dic = prod.as_coefficients_dict()\n",
    "    arr = np.zeros(len(v))\n",
    "    # Replace regents' coefficients\n",
    "    for item in reac_dic.keys():\n",
    "        index = v.index(Symbol(str(item),Function=True))\n",
    "        arr[index] = -1 * reac_dic[item] # create vector\n",
    "    # Replace products' coefficients. multiply with -1\n",
    "    for item in prod_dic.keys():\n",
    "        index = v.index(Symbol(str(item),Function=True))\n",
    "        arr[index] = 1 * prod_dic[item] # create vector\n",
    "    return arr\n",
    "\n",
    "# Interaction model\n",
    "def hill(s, k, ka, n):\n",
    "    \"\"\"\n",
    "    Mathematical Equation of Hill function for Sympy alegraic computaton\n",
    "    \n",
    "    Argument:\n",
    "            s:  substrate \n",
    "            k:  raction rate\n",
    "            ka: dissociaton constant\n",
    "            n:  hill coefficient\n",
    "    \n",
    "    Return:\n",
    "            hillexp: sympy expression \n",
    "    \"\"\"\n",
    "    hillexp = k * ((s**n) / (ka + s**n))\n",
    "    return hillexp\n",
    "\n",
    "# List of reactions\n",
    "def r1(v, s, k1, ka1, n1, **param):\n",
    "    reac = v[1-1]\n",
    "    prod = v[2-1]\n",
    "    rate = hill(s, k1, ka1, n1)\n",
    "    return reac, prod, rate\n",
    "\n",
    "def r2(v,k2, **param):\n",
    "    reac = v[2-1]\n",
    "    prod = v[1-1]\n",
    "    rate = v[2-1] * k2\n",
    "    return reac, prod, rate\n",
    "\n",
    "def r3(v,k3, kn3, **param):\n",
    "    reac = v[17-1] + v[1-1]\n",
    "    prod = v[15-1]\n",
    "    rate = k3 * v[17-1] * v[1-1] - kn3 * v[15-1]\n",
    "    return reac, prod, rate\n",
    "\n",
    "def r4(v, k4, kn4, **param):\n",
    "    reac = v[17-1] + v[2-1]\n",
    "    prod = v[16-1]\n",
    "    rate = k4 * v[17-1] * v[2-1] - kn4 * v[16-1]\n",
    "    return reac, prod, rate\n",
    "\n",
    "def r5(v, k5, kn5, **param):\n",
    "    reac = v[17-1] + v[13-1]\n",
    "    prod = v[14-1]\n",
    "    rate = k5 * v[17-1] * v[13-1] - kn5 * prod\n",
    "    return reac, prod, rate\n",
    "\n",
    "def r6(v, k6, ka6, n6, **param):\n",
    "    reac = v[4-1]\n",
    "    prod = v[3-1]\n",
    "    rate = hill(v[14-1],k6,ka6,n6)\n",
    "    return reac, prod, rate\n",
    "\n",
    "def r7(v, k7, **param):\n",
    "    reac = v[3-1]\n",
    "    prod = v[4-1]\n",
    "    rate = k7 * v[3-1] \n",
    "    return reac, prod, rate\n",
    "\n",
    "def r8(v,k8, kn8, **param):\n",
    "    reac = v[5-1]\n",
    "    prod = v[6-1]\n",
    "    rate = k8 * v[5-1] - kn8 * v[6-1]\n",
    "    return reac, prod, rate\n",
    "\n",
    "def r9(v,k9, kn9, **param):\n",
    "    reac = v[4-1]\n",
    "    prod = v[6-1]\n",
    "    rate = k9 * v[4-1] - kn9 * v[6-1]\n",
    "    return reac, prod, rate\n",
    "\n",
    "def r10(v,k10, kn10, **param):\n",
    "    reac = v[3-1]\n",
    "    prod = v[5-1]\n",
    "    rate = k10 * v[3-1] - kn10 * v[5-1]\n",
    "    return reac, prod, rate\n",
    "\n",
    "def r11(v, k11, kn11, **param):\n",
    "    reac = v[4-1] + v[7-1]\n",
    "    prod = v[10-1]\n",
    "    rate = k11 * v[4-1] * v[7-1] - kn11 * v[10-1]\n",
    "    return reac, prod, rate\n",
    "\n",
    "def r12(v, k12, kn12, **param):\n",
    "    reac = v[3-1] + v[7-1]\n",
    "    prod = v[9-1]\n",
    "    rate = k12 * v[3-1] * v[7-1] - kn12 * v[9-1]\n",
    "    return reac, prod, rate\n",
    "\n",
    "def r13(v,k13, kn13, **param):\n",
    "    reac = v[6-1] + v[8-1]\n",
    "    prod = v[12-1]\n",
    "    rate = k13 * v[6-1] * v[8-1] - kn13 * v[12-1]\n",
    "    return reac, prod, rate\n",
    "\n",
    "def r14(v, k14, kn14, **param):\n",
    "    reac = v[5-1] + v[8-1]\n",
    "    prod = v[11-1]\n",
    "    rate = k14 * v[5-1] * v[8-1] - kn14 * v[11-1]\n",
    "    return reac, prod, rate\n",
    "\n",
    "def r15(v, k15, kn15, **param):\n",
    "    reac = v[10-1]\n",
    "    prod = v[12-1]\n",
    "    rate = k15 * v[10-1] - kn15 * v[12-1]\n",
    "    return reac, prod, rate\n",
    "\n",
    "def r16(v,k16, kn16, **param):\n",
    "    reac = v[9-1]\n",
    "    prod = v[11-1]\n",
    "    rate = k16 * v[9-1] - kn16 * v[11-1]\n",
    "    return reac, prod, rate"
   ]
  },
  {
   "cell_type": "markdown",
   "metadata": {},
   "source": [
    "## Stoichiometry matrix\n",
    "\n",
    "Turorial: [Introduction of Stoichiometry matrix](https://en.wikipedia.org/wiki/Stoichiometry)\n",
    "Also see: [Reactions of RTG Pathway](Mathematical-modeling-of-retrograde-signalling.md)\n",
    "\n",
    "$\\frac{d\\vec{S}}{dt} = \\textbf{N}\\vec{r}$\n",
    "\n",
    "$r = (rate1,...,rate_m)$\n",
    "\n",
    "$s = (s_1,...,s_n)$\n",
    "\n",
    "N = n x m matrix\n",
    "\n",
    "|Notation|name|\n",
    "|---|---|\n",
    "|N|stoichiometry matrix|\n",
    "|r|rate vector|\n",
    "|S|species vector|"
   ]
  },
  {
   "cell_type": "markdown",
   "metadata": {},
   "source": [
    "### Reactions"
   ]
  },
  {
   "cell_type": "code",
   "execution_count": 299,
   "metadata": {},
   "outputs": [],
   "source": [
    "reactions = [r1,r2,r3,r4,r5,r6,r7,r8,r9,r10,r11,r12,r13,r14,r15,r16]"
   ]
  },
  {
   "cell_type": "markdown",
   "metadata": {},
   "source": [
    "### Parameters"
   ]
  },
  {
   "cell_type": "code",
   "execution_count": 316,
   "metadata": {},
   "outputs": [],
   "source": [
    "param = {\n",
    "    'k1': Symbol('k1'),\n",
    "    'ka1':Symbol('ka1'),\n",
    "    'n1': Symbol('n1'),\n",
    "    'k2': Symbol('k2'),\n",
    "    'k3': Symbol('k3'),\n",
    "    'kn3':Symbol('kn3'),\n",
    "    'k4': Symbol('k4'),\n",
    "    'kn4':Symbol('kn4'),\n",
    "    'k5': Symbol('k5'),\n",
    "    'kn5':Symbol('kn5'),\n",
    "    'k6': Symbol('k6'),\n",
    "    'ka6':Symbol('ka6'),\n",
    "    'n6':Symbol('n6'),\n",
    "    'k7':Symbol('k7'),\n",
    "    'k8':Symbol('k8'),\n",
    "    'kn8':Symbol('kn8'),\n",
    "    'k9':Symbol('k9'),\n",
    "    'kn9':Symbol('kn9'),\n",
    "    'k10':Symbol('k10'),\n",
    "    'kn10':Symbol('kn10'),\n",
    "    'k11':Symbol('k11'),\n",
    "    'kn11':Symbol('kn11'),\n",
    "    'k12':Symbol('k12'),\n",
    "    'kn12':Symbol('kn12'),\n",
    "    'k13':Symbol('k13'),\n",
    "    'kn13':Symbol('kn13'),\n",
    "    'k14':Symbol('k14'),\n",
    "    'kn14':Symbol('kn14'),\n",
    "    'k15':Symbol('k15'),\n",
    "    'kn15':Symbol('kn15'),\n",
    "    'k16':Symbol('k16'),\n",
    "    'kn16':Symbol('kn16'),\n",
    "    't':Symbol('t') #Time\n",
    "}\n"
   ]
  },
  {
   "cell_type": "markdown",
   "metadata": {},
   "source": [
    "### Stoicshiometry Matrix"
   ]
  },
  {
   "cell_type": "code",
   "execution_count": 301,
   "metadata": {},
   "outputs": [],
   "source": [
    "# Retrive reagents, products, rates\n",
    "reacs = [] \n",
    "prods = []\n",
    "rates = []\n",
    "reac, prod, rate  = reactions[0](v,s,**param)\n",
    "reacs.append(reac); prods.append(prod); rates.append(rate)\n",
    "for reaction in reactions[1:]:\n",
    "    reac, prod, rate = reaction(v, **param)\n",
    "    reacs.append(reac); prods.append(prod); rates.append(rate)\n",
    "\n",
    "# RTG Pathway reaction info\n",
    "rtg_reactions = {\n",
    "    'reactions': reacs,\n",
    "    'products': prods,\n",
    "    'rates': rates,\n",
    "    'v': v\n",
    "}\n",
    "# Stoichiometry Matrix\n",
    "stoi_m = to_stoi_matrix(**rtg_reactions)"
   ]
  },
  {
   "cell_type": "code",
   "execution_count": 302,
   "metadata": {},
   "outputs": [
    {
     "name": "stdout",
     "output_type": "stream",
     "text": [
      "The stoichiometry matrix of RTG Pathway \n",
      "   R1  R2  R3  R4  R5  R6  R7  R8  R9 R10 R11 R12 R13 R14 R15 R16\n",
      "[[-1.  1. -1.  0.  0.  0.  0.  0.  0.  0.  0.  0.  0.  0.  0.  0.]\n",
      " [ 1. -1.  0. -1.  0.  0.  0.  0.  0.  0.  0.  0.  0.  0.  0.  0.]\n",
      " [ 0.  0.  0.  0.  0.  1. -1.  0.  0. -1.  0. -1.  0.  0.  0.  0.]\n",
      " [ 0.  0.  0.  0.  0. -1.  1.  0. -1.  0. -1.  0.  0.  0.  0.  0.]\n",
      " [ 0.  0.  0.  0.  0.  0.  0. -1.  0.  1.  0.  0.  0. -1.  0.  0.]\n",
      " [ 0.  0.  0.  0.  0.  0.  0.  1.  1.  0.  0.  0. -1.  0.  0.  0.]\n",
      " [ 0.  0.  0.  0.  0.  0.  0.  0.  0.  0. -1. -1.  0.  0.  0.  0.]\n",
      " [ 0.  0.  0.  0.  0.  0.  0.  0.  0.  0.  0.  0. -1. -1.  0.  0.]\n",
      " [ 0.  0.  0.  0.  0.  0.  0.  0.  0.  0.  0.  1.  0.  0.  0. -1.]\n",
      " [ 0.  0.  0.  0.  0.  0.  0.  0.  0.  0.  1.  0.  0.  0. -1.  0.]\n",
      " [ 0.  0.  0.  0.  0.  0.  0.  0.  0.  0.  0.  0.  0.  1.  0.  1.]\n",
      " [ 0.  0.  0.  0.  0.  0.  0.  0.  0.  0.  0.  0.  1.  0.  1.  0.]\n",
      " [ 0.  0.  0.  0. -1.  0.  0.  0.  0.  0.  0.  0.  0.  0.  0.  0.]\n",
      " [ 0.  0.  0.  0.  1.  0.  0.  0.  0.  0.  0.  0.  0.  0.  0.  0.]\n",
      " [ 0.  0.  1.  0.  0.  0.  0.  0.  0.  0.  0.  0.  0.  0.  0.  0.]\n",
      " [ 0.  0.  0.  1.  0.  0.  0.  0.  0.  0.  0.  0.  0.  0.  0.  0.]\n",
      " [ 0.  0. -1. -1. -1.  0.  0.  0.  0.  0.  0.  0.  0.  0.  0.  0.]]\n"
     ]
    }
   ],
   "source": [
    "print('The stoichiometry matrix of RTG Pathway','\\n','  R1  R2  R3  R4  R5  R6  R7  R8  R9 R10 R11 R12 R13 R14 R15 R16')\n",
    "print(stoi_m)"
   ]
  },
  {
   "cell_type": "markdown",
   "metadata": {},
   "source": [
    "### Rate Vector"
   ]
  },
  {
   "cell_type": "code",
   "execution_count": 303,
   "metadata": {},
   "outputs": [],
   "source": [
    "rate_m = np.matrix(rates).transpose()"
   ]
  },
  {
   "cell_type": "markdown",
   "metadata": {},
   "source": [
    "## first order of species\n",
    "\n",
    "$\\frac{d}{dt}\\vec{S} = \\textbf{N} \\textbf{R}$"
   ]
  },
  {
   "cell_type": "code",
   "execution_count": 304,
   "metadata": {},
   "outputs": [
    {
     "name": "stdout",
     "output_type": "stream",
     "text": [
      "\\frac{d}{d t} [Rtg2]_{C}^{ina} = 1.0 [Mks1-Rtg2]_{C}^{ina} kn_{3} - 1.0 [Mks1]_{C} [Rtg2]_{C}^{ina} k_{3} + 1.0 [Rtg2]_{C}^{act} k_{2} - \\frac{1.0 k_{1} s^{n_{1}}}{ka_{1} + s^{n_{1}}} \n",
      "\n",
      "\\frac{d}{d t} [Rtg2]_{C}^{ina} = 1.0 [Mks1-Rtg2]_{C}^{ina} kn_{3} - 1.0 [Mks1]_{C} [Rtg2]_{C}^{ina} k_{3} + 1.0 [Rtg2]_{C}^{act} k_{2} - \\frac{1.0 k_{1} s^{n_{1}}}{ka_{1} + s^{n_{1}}} \n",
      "\n",
      "\\frac{d}{d t} [Rtg2]_{C}^{ina} = 1.0 [Mks1-Rtg2]_{C}^{ina} kn_{3} - 1.0 [Mks1]_{C} [Rtg2]_{C}^{ina} k_{3} + 1.0 [Rtg2]_{C}^{act} k_{2} - \\frac{1.0 k_{1} s^{n_{1}}}{ka_{1} + s^{n_{1}}} \n",
      "\n",
      "\\frac{d}{d t} [Rtg2]_{C}^{ina} = 1.0 [Mks1-Rtg2]_{C}^{ina} kn_{3} - 1.0 [Mks1]_{C} [Rtg2]_{C}^{ina} k_{3} + 1.0 [Rtg2]_{C}^{act} k_{2} - \\frac{1.0 k_{1} s^{n_{1}}}{ka_{1} + s^{n_{1}}} \n",
      "\n",
      "\\frac{d}{d t} [Rtg2]_{C}^{ina} = 1.0 [Mks1-Rtg2]_{C}^{ina} kn_{3} - 1.0 [Mks1]_{C} [Rtg2]_{C}^{ina} k_{3} + 1.0 [Rtg2]_{C}^{act} k_{2} - \\frac{1.0 k_{1} s^{n_{1}}}{ka_{1} + s^{n_{1}}} \n",
      "\n",
      "\\frac{d}{d t} [Rtg2]_{C}^{ina} = 1.0 [Mks1-Rtg2]_{C}^{ina} kn_{3} - 1.0 [Mks1]_{C} [Rtg2]_{C}^{ina} k_{3} + 1.0 [Rtg2]_{C}^{act} k_{2} - \\frac{1.0 k_{1} s^{n_{1}}}{ka_{1} + s^{n_{1}}} \n",
      "\n",
      "\\frac{d}{d t} [Rtg2]_{C}^{ina} = 1.0 [Mks1-Rtg2]_{C}^{ina} kn_{3} - 1.0 [Mks1]_{C} [Rtg2]_{C}^{ina} k_{3} + 1.0 [Rtg2]_{C}^{act} k_{2} - \\frac{1.0 k_{1} s^{n_{1}}}{ka_{1} + s^{n_{1}}} \n",
      "\n",
      "\\frac{d}{d t} [Rtg2]_{C}^{ina} = 1.0 [Mks1-Rtg2]_{C}^{ina} kn_{3} - 1.0 [Mks1]_{C} [Rtg2]_{C}^{ina} k_{3} + 1.0 [Rtg2]_{C}^{act} k_{2} - \\frac{1.0 k_{1} s^{n_{1}}}{ka_{1} + s^{n_{1}}} \n",
      "\n",
      "\\frac{d}{d t} [Rtg2]_{C}^{ina} = 1.0 [Mks1-Rtg2]_{C}^{ina} kn_{3} - 1.0 [Mks1]_{C} [Rtg2]_{C}^{ina} k_{3} + 1.0 [Rtg2]_{C}^{act} k_{2} - \\frac{1.0 k_{1} s^{n_{1}}}{ka_{1} + s^{n_{1}}} \n",
      "\n",
      "\\frac{d}{d t} [Rtg2]_{C}^{ina} = 1.0 [Mks1-Rtg2]_{C}^{ina} kn_{3} - 1.0 [Mks1]_{C} [Rtg2]_{C}^{ina} k_{3} + 1.0 [Rtg2]_{C}^{act} k_{2} - \\frac{1.0 k_{1} s^{n_{1}}}{ka_{1} + s^{n_{1}}} \n",
      "\n",
      "\\frac{d}{d t} [Rtg2]_{C}^{ina} = 1.0 [Mks1-Rtg2]_{C}^{ina} kn_{3} - 1.0 [Mks1]_{C} [Rtg2]_{C}^{ina} k_{3} + 1.0 [Rtg2]_{C}^{act} k_{2} - \\frac{1.0 k_{1} s^{n_{1}}}{ka_{1} + s^{n_{1}}} \n",
      "\n",
      "\\frac{d}{d t} [Rtg2]_{C}^{ina} = 1.0 [Mks1-Rtg2]_{C}^{ina} kn_{3} - 1.0 [Mks1]_{C} [Rtg2]_{C}^{ina} k_{3} + 1.0 [Rtg2]_{C}^{act} k_{2} - \\frac{1.0 k_{1} s^{n_{1}}}{ka_{1} + s^{n_{1}}} \n",
      "\n",
      "\\frac{d}{d t} [Rtg2]_{C}^{ina} = 1.0 [Mks1-Rtg2]_{C}^{ina} kn_{3} - 1.0 [Mks1]_{C} [Rtg2]_{C}^{ina} k_{3} + 1.0 [Rtg2]_{C}^{act} k_{2} - \\frac{1.0 k_{1} s^{n_{1}}}{ka_{1} + s^{n_{1}}} \n",
      "\n",
      "\\frac{d}{d t} [Rtg2]_{C}^{ina} = 1.0 [Mks1-Rtg2]_{C}^{ina} kn_{3} - 1.0 [Mks1]_{C} [Rtg2]_{C}^{ina} k_{3} + 1.0 [Rtg2]_{C}^{act} k_{2} - \\frac{1.0 k_{1} s^{n_{1}}}{ka_{1} + s^{n_{1}}} \n",
      "\n",
      "\\frac{d}{d t} [Rtg2]_{C}^{ina} = 1.0 [Mks1-Rtg2]_{C}^{ina} kn_{3} - 1.0 [Mks1]_{C} [Rtg2]_{C}^{ina} k_{3} + 1.0 [Rtg2]_{C}^{act} k_{2} - \\frac{1.0 k_{1} s^{n_{1}}}{ka_{1} + s^{n_{1}}} \n",
      "\n",
      "\\frac{d}{d t} [Rtg2]_{C}^{ina} = 1.0 [Mks1-Rtg2]_{C}^{ina} kn_{3} - 1.0 [Mks1]_{C} [Rtg2]_{C}^{ina} k_{3} + 1.0 [Rtg2]_{C}^{act} k_{2} - \\frac{1.0 k_{1} s^{n_{1}}}{ka_{1} + s^{n_{1}}} \n",
      "\n",
      "\\frac{d}{d t} [Rtg2]_{C}^{ina} = 1.0 [Mks1-Rtg2]_{C}^{ina} kn_{3} - 1.0 [Mks1]_{C} [Rtg2]_{C}^{ina} k_{3} + 1.0 [Rtg2]_{C}^{act} k_{2} - \\frac{1.0 k_{1} s^{n_{1}}}{ka_{1} + s^{n_{1}}} \n",
      "\n"
     ]
    }
   ],
   "source": [
    "# Ouput in LATEX code\n",
    "t = Symbol('t')\n",
    "ode_v = []\n",
    "for i in range(0, ds.shape[0]):\n",
    "    ode_v.append(Eq(Derivative(v[0],t),ds[0,0]))\n",
    "    print(latex(ode_v[-1]),'\\n') "
   ]
  },
  {
   "cell_type": "markdown",
   "metadata": {},
   "source": [
    "# UNDER CONSTRUCTION"
   ]
  },
  {
   "cell_type": "code",
   "execution_count": 313,
   "metadata": {},
   "outputs": [
    {
     "ename": "ValueError",
     "evalue": "The function cannot be automatically detected for -1.0*[Mks1-Rtg2]_{C}^{ina}*kn3 + 1.0*[Mks1]_{C}*[Rtg2]_{C}^{ina}*k3 - 1.0*[Rtg2]_{C}^{act}*k2 + 1.0*k1*s**n1/(ka1 + s**n1) + Derivative([Rtg2]_{C}^{ina}, t).",
     "output_type": "error",
     "traceback": [
      "\u001b[0;31m---------------------------------------------------------------------------\u001b[0m",
      "\u001b[0;31mValueError\u001b[0m                                Traceback (most recent call last)",
      "\u001b[0;32m<ipython-input-313-c3b1c8de2fa8>\u001b[0m in \u001b[0;36m<module>\u001b[0;34m()\u001b[0m\n\u001b[1;32m      1\u001b[0m \u001b[0;32mfrom\u001b[0m \u001b[0msympy\u001b[0m \u001b[0;32mimport\u001b[0m \u001b[0mFunction\u001b[0m\u001b[0;34m,\u001b[0m \u001b[0mdsolve\u001b[0m\u001b[0;34m,\u001b[0m \u001b[0mEq\u001b[0m\u001b[0;34m,\u001b[0m \u001b[0mDerivative\u001b[0m\u001b[0;34m,\u001b[0m \u001b[0msin\u001b[0m\u001b[0;34m,\u001b[0m \u001b[0mcos\u001b[0m\u001b[0;34m,\u001b[0m \u001b[0msymbols\u001b[0m\u001b[0;34m\u001b[0m\u001b[0m\n\u001b[1;32m      2\u001b[0m \u001b[0;31m#from sympy.abc import x\u001b[0m\u001b[0;34m\u001b[0m\u001b[0;34m\u001b[0m\u001b[0m\n\u001b[0;32m----> 3\u001b[0;31m \u001b[0mdsolve\u001b[0m\u001b[0;34m(\u001b[0m\u001b[0mode_v\u001b[0m\u001b[0;34m[\u001b[0m\u001b[0;36m0\u001b[0m\u001b[0;34m]\u001b[0m\u001b[0;34m)\u001b[0m\u001b[0;34m\u001b[0m\u001b[0m\n\u001b[0m",
      "\u001b[0;32m~/anaconda3/lib/python3.6/site-packages/sympy/solvers/ode.py\u001b[0m in \u001b[0;36mdsolve\u001b[0;34m(eq, func, hint, simplify, ics, xi, eta, x0, n, **kwargs)\u001b[0m\n\u001b[1;32m    623\u001b[0m         hints = _desolve(eq, func=func,\n\u001b[1;32m    624\u001b[0m             \u001b[0mhint\u001b[0m\u001b[0;34m=\u001b[0m\u001b[0mhint\u001b[0m\u001b[0;34m,\u001b[0m \u001b[0msimplify\u001b[0m\u001b[0;34m=\u001b[0m\u001b[0;32mTrue\u001b[0m\u001b[0;34m,\u001b[0m \u001b[0mxi\u001b[0m\u001b[0;34m=\u001b[0m\u001b[0mxi\u001b[0m\u001b[0;34m,\u001b[0m \u001b[0meta\u001b[0m\u001b[0;34m=\u001b[0m\u001b[0meta\u001b[0m\u001b[0;34m,\u001b[0m \u001b[0mtype\u001b[0m\u001b[0;34m=\u001b[0m\u001b[0;34m'ode'\u001b[0m\u001b[0;34m,\u001b[0m \u001b[0mics\u001b[0m\u001b[0;34m=\u001b[0m\u001b[0mics\u001b[0m\u001b[0;34m,\u001b[0m\u001b[0;34m\u001b[0m\u001b[0m\n\u001b[0;32m--> 625\u001b[0;31m             x0=x0, n=n, **kwargs)\n\u001b[0m\u001b[1;32m    626\u001b[0m \u001b[0;34m\u001b[0m\u001b[0m\n\u001b[1;32m    627\u001b[0m         \u001b[0meq\u001b[0m \u001b[0;34m=\u001b[0m \u001b[0mhints\u001b[0m\u001b[0;34m.\u001b[0m\u001b[0mpop\u001b[0m\u001b[0;34m(\u001b[0m\u001b[0;34m'eq'\u001b[0m\u001b[0;34m,\u001b[0m \u001b[0meq\u001b[0m\u001b[0;34m)\u001b[0m\u001b[0;34m\u001b[0m\u001b[0m\n",
      "\u001b[0;32m~/anaconda3/lib/python3.6/site-packages/sympy/solvers/deutils.py\u001b[0m in \u001b[0;36m_desolve\u001b[0;34m(eq, func, hint, ics, simplify, **kwargs)\u001b[0m\n\u001b[1;32m    173\u001b[0m     \u001b[0;31m# preprocess the equation and find func if not given\u001b[0m\u001b[0;34m\u001b[0m\u001b[0;34m\u001b[0m\u001b[0m\n\u001b[1;32m    174\u001b[0m     \u001b[0;32mif\u001b[0m \u001b[0mprep\u001b[0m \u001b[0;32mor\u001b[0m \u001b[0mfunc\u001b[0m \u001b[0;32mis\u001b[0m \u001b[0;32mNone\u001b[0m\u001b[0;34m:\u001b[0m\u001b[0;34m\u001b[0m\u001b[0m\n\u001b[0;32m--> 175\u001b[0;31m         \u001b[0meq\u001b[0m\u001b[0;34m,\u001b[0m \u001b[0mfunc\u001b[0m \u001b[0;34m=\u001b[0m \u001b[0m_preprocess\u001b[0m\u001b[0;34m(\u001b[0m\u001b[0meq\u001b[0m\u001b[0;34m,\u001b[0m \u001b[0mfunc\u001b[0m\u001b[0;34m)\u001b[0m\u001b[0;34m\u001b[0m\u001b[0m\n\u001b[0m\u001b[1;32m    176\u001b[0m         \u001b[0mprep\u001b[0m \u001b[0;34m=\u001b[0m \u001b[0;32mFalse\u001b[0m\u001b[0;34m\u001b[0m\u001b[0m\n\u001b[1;32m    177\u001b[0m \u001b[0;34m\u001b[0m\u001b[0m\n",
      "\u001b[0;32m~/anaconda3/lib/python3.6/site-packages/sympy/solvers/deutils.py\u001b[0m in \u001b[0;36m_preprocess\u001b[0;34m(expr, func, hint)\u001b[0m\n\u001b[1;32m     75\u001b[0m         \u001b[0;32mif\u001b[0m \u001b[0mlen\u001b[0m\u001b[0;34m(\u001b[0m\u001b[0mfuncs\u001b[0m\u001b[0;34m)\u001b[0m \u001b[0;34m!=\u001b[0m \u001b[0;36m1\u001b[0m\u001b[0;34m:\u001b[0m\u001b[0;34m\u001b[0m\u001b[0m\n\u001b[1;32m     76\u001b[0m             raise ValueError('The function cannot be '\n\u001b[0;32m---> 77\u001b[0;31m                 'automatically detected for %s.' % expr)\n\u001b[0m\u001b[1;32m     78\u001b[0m         \u001b[0mfunc\u001b[0m \u001b[0;34m=\u001b[0m \u001b[0mfuncs\u001b[0m\u001b[0;34m.\u001b[0m\u001b[0mpop\u001b[0m\u001b[0;34m(\u001b[0m\u001b[0;34m)\u001b[0m\u001b[0;34m\u001b[0m\u001b[0m\n\u001b[1;32m     79\u001b[0m     \u001b[0mfvars\u001b[0m \u001b[0;34m=\u001b[0m \u001b[0mset\u001b[0m\u001b[0;34m(\u001b[0m\u001b[0mfunc\u001b[0m\u001b[0;34m.\u001b[0m\u001b[0margs\u001b[0m\u001b[0;34m)\u001b[0m\u001b[0;34m\u001b[0m\u001b[0m\n",
      "\u001b[0;31mValueError\u001b[0m: The function cannot be automatically detected for -1.0*[Mks1-Rtg2]_{C}^{ina}*kn3 + 1.0*[Mks1]_{C}*[Rtg2]_{C}^{ina}*k3 - 1.0*[Rtg2]_{C}^{act}*k2 + 1.0*k1*s**n1/(ka1 + s**n1) + Derivative([Rtg2]_{C}^{ina}, t)."
     ]
    }
   ],
   "source": [
    "from sympy import Function, dsolve, Eq, Derivative, sin, cos, symbols\n",
    "#from sympy.abc import x\n",
    "dsolve(ode_v[0])"
   ]
  },
  {
   "cell_type": "code",
   "execution_count": 312,
   "metadata": {},
   "outputs": [
    {
     "data": {
      "image/png": "[encoded data removed]",
      "text/latex": [
       "$$\\frac{d}{d t} [Rtg2]_{C}^{ina} = 1.0 [Mks1-Rtg2]_{C}^{ina} kn_{3} - 1.0 [Mks1]_{C} [Rtg2]_{C}^{ina} k_{3} + 1.0 [Rtg2]_{C}^{act} k_{2} - \\frac{1.0 k_{1} s^{n_{1}}}{ka_{1} + s^{n_{1}}}$$"
      ],
      "text/plain": [
       "                                                                              \n",
       "d                                                                             \n",
       "──([Rtg2]_{C}__{ina}) = 1.0⋅[Mks1-Rtg2]_{C}__{ina}⋅kn₃ - 1.0⋅[Mks1]_{C}⋅[Rtg2]\n",
       "dt                                                                            \n",
       "                                                                              \n",
       "\n",
       "                                                    n₁\n",
       "                                            1.0⋅k₁⋅s  \n",
       "_{C}__{ina}⋅k₃ + 1.0⋅[Rtg2]_{C}__{act}⋅k₂ - ──────────\n",
       "                                                   n₁ \n",
       "                                            ka₁ + s   "
      ]
     },
     "execution_count": 312,
     "metadata": {},
     "output_type": "execute_result"
    }
   ],
   "source": [
    "ode_v[0]"
   ]
  },
  {
   "cell_type": "code",
   "execution_count": 306,
   "metadata": {},
   "outputs": [
    {
     "data": {
      "image/png": "[encoded data removed]",
      "text/latex": [
       "$$V{\\left (t \\right )} = C_{1} - \\frac{1.0 t}{ka_{1} + s^{n_{1}}} \\left(- [Mks1-Rtg2]_{C}^{ina} ka_{1} kn_{3} - [Mks1-Rtg2]_{C}^{ina} kn_{3} s^{n_{1}} + [Mks1]_{C} [Rtg2]_{C}^{ina} k_{3} ka_{1} + [Mks1]_{C} [Rtg2]_{C}^{ina} k_{3} s^{n_{1}} - [Rtg2]_{C}^{act} k_{2} ka_{1} - [Rtg2]_{C}^{act} k_{2} s^{n_{1}} + k_{1} s^{n_{1}}\\right)$$"
      ],
      "text/plain": [
       "                  ⎛                                                           \n",
       "            1.0⋅t⋅⎝-[Mks1-Rtg2]_{C}__{ina}⋅ka₁⋅kn₃ - [Mks1-Rtg2]_{C}__{ina}⋅kn\n",
       "V(t) = C₁ - ──────────────────────────────────────────────────────────────────\n",
       "                                                                              \n",
       "                                                                              \n",
       "\n",
       "   n₁                                                                         \n",
       "₃⋅s   + [Mks1]_{C}⋅[Rtg2]_{C}__{ina}⋅k₃⋅ka₁ + [Mks1]_{C}⋅[Rtg2]_{C}__{ina}⋅k₃⋅\n",
       "──────────────────────────────────────────────────────────────────────────────\n",
       "                                          n₁                                  \n",
       "                                   ka₁ + s                                    \n",
       "\n",
       " n₁                                                    n₁       n₁⎞\n",
       "s   - [Rtg2]_{C}__{act}⋅k₂⋅ka₁ - [Rtg2]_{C}__{act}⋅k₂⋅s   + k₁⋅s  ⎠\n",
       "───────────────────────────────────────────────────────────────────\n",
       "                                                                   \n",
       "                                                                   "
      ]
     },
     "execution_count": 306,
     "metadata": {},
     "output_type": "execute_result"
    }
   ],
   "source": [
    "from sympy import Function, dsolve, Eq, Derivative, sin, cos, symbols\n",
    "from sympy.abc import x\n",
    "t = Symbol('t')\n",
    "v = Function('V')\n",
    "dsolve(Derivative(v(t),t) - ds[0,0], v(t))"
   ]
  },
  {
   "cell_type": "code",
   "execution_count": 307,
   "metadata": {},
   "outputs": [
    {
     "data": {
      "image/png": "[encoded data removed]",
      "text/latex": [
       "$$9 f{\\left (x \\right )} + \\frac{d^{2}}{d x^{2}}  f{\\left (x \\right )} = f{\\left (x \\right )}$$"
      ],
      "text/plain": [
       "           2             \n",
       "          d              \n",
       "9⋅f(x) + ───(f(x)) = f(x)\n",
       "           2             \n",
       "         dx              "
      ]
     },
     "execution_count": 307,
     "metadata": {},
     "output_type": "execute_result"
    }
   ],
   "source": [
    "Eq(Derivative(f(x), x, x) + 9*f(x), f(x))"
   ]
  },
  {
   "cell_type": "code",
   "execution_count": 308,
   "metadata": {},
   "outputs": [
    {
     "ename": "TypeError",
     "evalue": "'UndefinedFunction' object does not support indexing",
     "output_type": "error",
     "traceback": [
      "\u001b[0;31m---------------------------------------------------------------------------\u001b[0m",
      "\u001b[0;31mTypeError\u001b[0m                                 Traceback (most recent call last)",
      "\u001b[0;32m<ipython-input-308-d07c77b32a21>\u001b[0m in \u001b[0;36m<module>\u001b[0;34m()\u001b[0m\n\u001b[0;32m----> 1\u001b[0;31m \u001b[0mdsolve\u001b[0m\u001b[0;34m(\u001b[0m\u001b[0mode_v\u001b[0m\u001b[0;34m[\u001b[0m\u001b[0;36m0\u001b[0m\u001b[0;34m]\u001b[0m\u001b[0;34m,\u001b[0m \u001b[0mv\u001b[0m\u001b[0;34m[\u001b[0m\u001b[0;36m0\u001b[0m\u001b[0;34m]\u001b[0m\u001b[0;34m)\u001b[0m\u001b[0;34m\u001b[0m\u001b[0m\n\u001b[0m",
      "\u001b[0;31mTypeError\u001b[0m: 'UndefinedFunction' object does not support indexing"
     ]
    }
   ],
   "source": [
    "dsolve(ode_v[0], v[0])"
   ]
  },
  {
   "cell_type": "code",
   "execution_count": null,
   "metadata": {},
   "outputs": [],
   "source": [
    "eq1 = Eq()"
   ]
  }
 ],
 "metadata": {
  "kernelspec": {
   "display_name": "Python 3",
   "language": "python",
   "name": "python3"
  },
  "language_info": {
   "codemirror_mode": {
    "name": "ipython",
    "version": 3
   },
   "file_extension": ".py",
   "mimetype": "text/x-python",
   "name": "python",
   "nbconvert_exporter": "python",
   "pygments_lexer": "ipython3",
   "version": "3.6.4"
  }
 },
 "nbformat": 4,
 "nbformat_minor": 2
}
