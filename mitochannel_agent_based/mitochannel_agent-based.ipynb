{
 "cells": [
  {
   "cell_type": "code",
   "execution_count": 49,
   "metadata": {},
   "outputs": [],
   "source": [
    "%matplotlib inline\n",
    "import pandas as pd\n",
    "import numpy as np\n",
    "import matplotlib.pyplot as plt\n",
    "import seaborn as sns\n",
    "import pyNetLogo as nl"
   ]
  },
  {
   "cell_type": "markdown",
   "metadata": {},
   "source": [
    "Link to the reference Netlogo \n",
    "\n",
    "Ref: [Agent-Based Modeling of Mitochondria Links Sub-Cellular Dynamics to Cellular Homeostasis and Heterogeneity\n",
    "](https://doi.org/10.1371/journal.pone.0168198)"
   ]
  },
  {
   "cell_type": "code",
   "execution_count": 42,
   "metadata": {},
   "outputs": [],
   "source": [
    "netlogo = nl.NetLogoLink(gui=False)\n",
    "netlogo.load_model(r'ref/mitochondrial-model_v6.nlogo')"
   ]
  },
  {
   "cell_type": "code",
   "execution_count": 43,
   "metadata": {},
   "outputs": [],
   "source": [
    "netlogo.command('setup')"
   ]
  },
  {
   "cell_type": "code",
   "execution_count": 59,
   "metadata": {},
   "outputs": [],
   "source": [
    "x = netlogo.report('map [s -> [xcor] of s] sort mitos')\n",
    "y = netlogo.report('map [s -> [ycor] of s] sort mitos')"
   ]
  },
  {
   "cell_type": "code",
   "execution_count": 60,
   "metadata": {},
   "outputs": [
    {
     "data": {
      "image/png": "[encoded data removed]",
      "text/plain": [
       "<matplotlib.figure.Figure at 0x10e282ef0>"
      ]
     },
     "metadata": {},
     "output_type": "display_data"
    }
   ],
   "source": [
    "fig, ax = plt.subplots(1)\n",
    "\n",
    "plt.title('Mitochondria Location')\n",
    "ax.scatter(x, y, s=4)\n",
    "ax.set_xlabel('xcor')\n",
    "ax.set_ylabel('ycor')\n",
    "ax.set_aspect('equal')\n",
    "\n",
    "plt.show()"
   ]
  },
  {
   "cell_type": "code",
   "execution_count": 62,
   "metadata": {},
   "outputs": [],
   "source": [
    "# Report damage level\n",
    "cr = netlogo.report('map [s -> [damage_level] of s] sort mitos')\n",
    "id = netlogo.report('map [s -> [who] of s] sort mitos')"
   ]
  },
  {
   "cell_type": "code",
   "execution_count": 63,
   "metadata": {},
   "outputs": [
    {
     "name": "stdout",
     "output_type": "stream",
     "text": [
      "[0. 0. 0. 0. 0. 0. 0. 0. 0. 0. 0. 0. 0. 0. 0. 0. 0. 0. 0. 0. 0. 0. 0. 0.\n",
      " 0. 0. 0. 0. 0. 0. 0. 0. 0. 0. 0. 0. 0. 0. 0. 0. 0. 0. 0. 0. 0. 0. 0. 0.\n",
      " 0. 0. 0. 0. 0. 0. 0. 0. 0. 0. 0. 0. 0. 0. 0. 0. 0. 0. 0. 0. 0. 0. 0. 0.\n",
      " 0. 0. 0. 0. 0. 0. 0. 0. 0. 0. 0. 0. 0. 0. 0. 0. 0. 0. 0. 0. 0. 0. 0. 0.\n",
      " 0. 0. 0. 0. 0. 0. 0. 0. 0. 0. 0. 0. 0. 0. 0. 0. 0. 0. 0. 0. 0. 0. 0. 0.\n",
      " 0. 0. 0. 0. 0. 0. 0. 0. 0. 0. 0. 0. 0. 0. 0. 0. 0. 0. 0. 0. 0. 0. 0. 0.\n",
      " 0. 0. 0. 0. 0. 0. 0. 0. 0. 0. 0. 0. 0. 0. 0. 0. 0. 0. 0. 0. 0. 0. 0. 0.\n",
      " 0. 0. 0. 0.]\n",
      "[  3.   4.   5.   6.   7.   8.   9.  10.  11.  12.  13.  14.  15.  16.\n",
      "  17.  18.  19.  20.  21.  22.  23.  24.  25.  26.  27.  28.  29.  30.\n",
      "  31.  32.  33.  34.  35.  36.  37.  38.  39.  40.  41.  42.  43.  44.\n",
      "  45.  46.  47.  48.  49.  50.  51.  52.  53.  54.  55.  56.  57.  58.\n",
      "  59.  60.  61.  62.  63.  64.  65.  66.  67.  68.  69.  70.  71.  72.\n",
      "  73.  74.  75.  76.  77.  78.  79.  80.  81.  82.  83.  84.  85.  86.\n",
      "  87.  88.  89.  90.  91.  92.  93.  94.  95.  96.  97.  98.  99. 100.\n",
      " 101. 102. 103. 104. 105. 106. 107. 108. 109. 110. 111. 112. 113. 114.\n",
      " 115. 116. 117. 118. 119. 120. 121. 122. 123. 124. 125. 126. 127. 128.\n",
      " 129. 130. 131. 132. 133. 134. 135. 136. 137. 138. 139. 140. 141. 142.\n",
      " 143. 144. 145. 146. 147. 148. 149. 150. 151. 152. 153. 154. 155. 156.\n",
      " 157. 158. 159. 160. 161. 162. 163. 164. 165. 166. 167. 168. 169. 170.\n",
      " 171. 172. 173. 174.]\n"
     ]
    }
   ],
   "source": [
    "print(cr)\n",
    "print(id)"
   ]
  },
  {
   "cell_type": "code",
   "execution_count": 66,
   "metadata": {},
   "outputs": [
    {
     "data": {
      "text/plain": [
       "array([1., 4., 9.])"
      ]
     },
     "execution_count": 66,
     "metadata": {},
     "output_type": "execute_result"
    }
   ],
   "source": [
    "netlogo.report('map [s -> s * s] [1 2 3]')"
   ]
  },
  {
   "cell_type": "code",
   "execution_count": null,
   "metadata": {},
   "outputs": [],
   "source": []
  }
 ],
 "metadata": {
  "kernelspec": {
   "display_name": "Python 3",
   "language": "python",
   "name": "python3"
  },
  "language_info": {
   "codemirror_mode": {
    "name": "ipython",
    "version": 3
   },
   "file_extension": ".py",
   "mimetype": "text/x-python",
   "name": "python",
   "nbconvert_exporter": "python",
   "pygments_lexer": "ipython3",
   "version": "3.6.4"
  }
 },
 "nbformat": 4,
 "nbformat_minor": 2
}
