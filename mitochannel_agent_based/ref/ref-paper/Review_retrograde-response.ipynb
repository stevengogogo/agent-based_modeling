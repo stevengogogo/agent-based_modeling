{
 "cells": [
  {
   "cell_type": "markdown",
   "metadata": {},
   "source": [
    "# 1. Review- [The yeast retrograde response as a model of intracellular signaling of mitochondrial dysfunction](https://www.frontiersin.org/articles/10.3389/fphys.2012.00139/full)\n",
    "\n",
    "__Abstract__:\n",
    "Mitochondrial dysfunction activates intracellular signaling pathways that impact yeast\n",
    "longevity, and the best known of these pathways is the retrograde response. More recently,\n",
    "similar responses have been discerned in other systems, from invertebrates to human cells.\n",
    "However, the identity of the signal transducers is either unknown or apparently diverse,\n",
    "contrasting with the well-established signaling module of the yeast retrograde response.\n",
    "On the other hand, it has become equally clear that several other pathways and processes\n",
    "interact with the retrograde response, embedding it in a network responsive to a variety\n",
    "of cellular states. An examination of this network supports the notion that the master regulator\n",
    "NFκB aggregated a variety of mitochondria-related cellular responses at some point\n",
    "in evolution and has become the retrograde transcription factor. This has significant consequences\n",
    "for how we view some of the deficits associated with aging, such as inflammation.\n",
    "The support for NFκB as the retrograde response transcription factor is not only based on\n",
    "functional analyses. It is bolstered by the fact that NFκB can regulate Myc–Max, which is\n",
    "activated in human cells with dysfunctional mitochondria and impacts cellular metabolism.\n",
    "Myc–Max is homologous to the yeast retrograde response transcription factor Rtg1–Rtg3.\n",
    "Further research will be needed to disentangle the pro-aging from the anti-aging effects of\n",
    "NFκB. Interestingly, this is also a challenge for the complete understanding of the yeast\n",
    "retrograde response."
   ]
  },
  {
   "cell_type": "markdown",
   "metadata": {},
   "source": [
    "<img src='img/MT_retrograde/retrograde-pathway.jpg'>"
   ]
  },
  {
   "cell_type": "markdown",
   "metadata": {},
   "source": [
    "# 2. Review- [Mitochondria-to-Nuclear Signaling Is Regulated by the Subcellular Localization of the Transcription Factors Rtg1p and Rtg3p](https://www.ncbi.nlm.nih.gov/pmc/articles/PMC14906/pdf/mk002103.pdf)\n",
    "\n",
    "__Abstract__:\n",
    " Cells modulate the expression of nuclear genes in response to changes in the functional state of mitochondria, an interorganelle communication pathway called retrograde regulation. In yeast, expression of theCIT2 gene shows a typical retrograde response in that its expression is dramat-ically increased in cells with dysfunctional mitochondria, such as inro petites. Three genes control this  signaling  pathway:RTG1andRTG3 ,  which  encode  basic  helix-loop-helix  leucine  zipper transcription  factors  that  bind  as  heterodimer  to  theCIT2upstream  activation  site,  andRTG2 , which encodes a protein of unknown function. We show that in respiratory-competent (r1 ) cells in whichCIT2 expression is low, Rtg1p and Rtg3p exist as a complex largely in the cytoplasm, and inropetites in whichCIT2 expression is high, they exist as a complex predominantly localized in the  nucleus.  Cytoplasmic  Rtg3p  is  multiply  phosphorylated  and  becomes  partially  dephospho-rylated  when  localized  in  the  nucleus.  Rtg2p,  which  is  cytoplasmic  in  bothr1andro cells,  is required for the dephosphorylation and nuclear localization of Rtg3p. Interaction of Rtg3p with Rtg1p is required to retain Rtg3p in the cytoplasm ofr1 cells; in the absence of such interaction, nuclear localization and dephosphorylation of Rtg3p is independent of Rtg2p. Our data show that Rtg1p acts as both a positive and negative regulator of the retrograde response and that Rtg2p acts to transduce mitochondrial signals affecting the phosphorylation state and subcellular localization of Rtg3p\n",
    " \n",
    "<img src='img/MT_retrograde/rtg-delete.png'>\n",
    "<img src='img/MT_retrograde/translocate-hypo.png'>"
   ]
  },
  {
   "cell_type": "code",
   "execution_count": null,
   "metadata": {},
   "outputs": [],
   "source": []
  },
  {
   "cell_type": "markdown",
   "metadata": {},
   "source": [
    "# 3. Review- [Tunable Signal Processing Through Modular Control of Transcription Factor Translocation](http://science.sciencemag.org/content/339/6118/460.long)\n",
    "\n",
    "<img src='img/MT_retrograde/translocate1.png'>"
   ]
  },
  {
   "cell_type": "markdown",
   "metadata": {},
   "source": [
    "# 4. RTG Network Analysis from [STRING](https://string-db.org/cgi/network.pl?taskId=bkkTcyhJN03C)\n",
    "<img src='img/MT_retrograde/rtg-net.png'>"
   ]
  },
  {
   "cell_type": "code",
   "execution_count": 1,
   "metadata": {},
   "outputs": [
    {
     "data": {
      "text/html": [
       "\n",
       "        <iframe\n",
       "            width=\"900\"\n",
       "            height=\"800\"\n",
       "            src=\"20170417_Information Transduction Capacity of Mitochondrial Retrograde Signaling.pdf\"\n",
       "            frameborder=\"0\"\n",
       "            allowfullscreen\n",
       "        ></iframe>\n",
       "        "
      ],
      "text/plain": [
       "<IPython.lib.display.IFrame at 0x102963160>"
      ]
     },
     "execution_count": 1,
     "metadata": {},
     "output_type": "execute_result"
    }
   ],
   "source": [
    "from IPython.display import IFrame\n",
    "IFrame(\"20170417_Information Transduction Capacity of Mitochondrial Retrograde Signaling.pdf\", width=900, height=800)"
   ]
  },
  {
   "cell_type": "markdown",
   "metadata": {},
   "source": [
    "# Ｍathematical Model of Retrograde Response\n",
    "\n",
    "__Biochemical Network component__:\n",
    "    \n",
    "1. Input MT with N species:\n",
    "$$MT_1,...,MT_N$$\n",
    "where N is the total number of mitochondria\n",
    "\n",
    "1. Input coding:\n",
    "$$S = \\sum_{i=1}^{N} Volumn_{MT_i} \\times damaged_{MT_i}$$\n",
    "$$Volumn_{MT_i} \\propto size_in_2D$$ real distribution can be derived from [Mitochondrial-netlogo-model](http://journals.plos.org/plosone/article?id=10.1371/journal.pone.0168198) \n",
    "    \n",
    "2. Channel $\\nu$ with M species:\n",
    "   \n",
    "   1. Components:\n",
    "   $$V_1,...,V_M$$where M is the total number of proteins involved in network\n",
    "   \n",
    "   1. Label (in input-to-output order):\n",
    "       1. $V_{1}:=Rtg_2$: \n",
    "           1. [Rtg2](https://www.yeastgenome.org/locus/S000003221) is a sensor of mitochondrial dysfunction.\n",
    "           1. \n",
    "       1. $V_{2}:=TORC1$\n",
    "       1. $V_{3}:=Rtg3_C^{P}$\n",
    "       1. $V_{4}:=Rtg3_C^{U}$\n",
    "       1. $V_{5}:=Rtg1_C$\n",
    "       1. $V_{6}:={Rtg1/3}_C^{P}$\n",
    "       1. $V_{7}:={Rtg1/3}_C^{U}$\n",
    "       1. $V_{8}:={Rtg1/3}_N^{P}$\n",
    "       1. $V_{9}:={Rtg1/3}_N^{U}$\n",
    "       1. $V_{10}:= Bmh1/2-Mks1_{complex}$\n",
    "   \n",
    "   2. ${Rtg1/3}_{c}^{*}$ can activate CIT2 expression, then start retrograde response. *:{p, u} (phosphtate, dephosphated)\n",
    "   \n",
    "   3. Ras2 is ignored and combined to the process of TORC1 inhibition\n",
    "\n",
    "3. Output $X$ with 1 componemt:\n",
    "   1. $X_{1}= {Rtg1/3}_{n}^{*}$\n",
    "   2. $[{Rtg1/3}_{n}^{*}]=[{Rtg1/3}_{n}^{p}]+[{Rtg1/3}_{n}^{u}]$"
   ]
  },
  {
   "cell_type": "markdown",
   "metadata": {},
   "source": [
    "Construct a channel \n",
    "$$x_1 = channel(\\vec{MT}, \\vec{V})$$\n",
    "\n",
    "Necessary requirement needed to fullfill:\n",
    "\n",
    "$$[Rtg3^P_C] > [Rtg3^U_C]\\text{ if }delet3-Rtg1$$"
   ]
  },
  {
   "cell_type": "markdown",
   "metadata": {},
   "source": [
    "Define \n",
    "$$Hill_act(s_{i})=\\frac{}{}$$"
   ]
  },
  {
   "cell_type": "markdown",
   "metadata": {},
   "source": [
    "__Question: How to achieve maximum information transmission under known $\\vec{MT}$__:\n",
    "\n",
    "The model $$[MT_1, MT_2,...,MT_N]->S_1->\\nu->X_1$$ In order to decode $X_1$, the ouput needs to one-to-one mapping to all possibilities of input array, that is, $\\vec{MT}$, there are $2^{N}$ possible combination. "
   ]
  },
  {
   "cell_type": "code",
   "execution_count": null,
   "metadata": {},
   "outputs": [],
   "source": []
  }
 ],
 "metadata": {
  "kernelspec": {
   "display_name": "Python 3",
   "language": "python",
   "name": "python3"
  },
  "language_info": {
   "codemirror_mode": {
    "name": "ipython",
    "version": 3
   },
   "file_extension": ".py",
   "mimetype": "text/x-python",
   "name": "python",
   "nbconvert_exporter": "python",
   "pygments_lexer": "ipython3",
   "version": "3.6.4"
  }
 },
 "nbformat": 4,
 "nbformat_minor": 2
}
