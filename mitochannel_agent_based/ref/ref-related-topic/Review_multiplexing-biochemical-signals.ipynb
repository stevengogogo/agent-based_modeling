{
 "cells": [
  {
   "cell_type": "markdown",
   "metadata": {},
   "source": [
    "# Review- [Multiplexing Biochemical Signals](https://arxiv.org/pdf/1008.0576.pdf)\n",
    "__Abstract__:\n",
    "In this paper we show that living cells can multiplex biochemical signals, i.e. transmit multiple\n",
    "signals through the same signaling pathway simultaneously, and yet respond to them very specifically.\n",
    "We demonstrate how two binary input signals can be encoded in the concentration of a common\n",
    "signaling protein, which is then decoded such that each of the two output signals provides reliable\n",
    "information about one corresponding input. Under biologically relevant conditions the network can\n",
    "reach the maximum amount of information that can be transmitted, which is 2 bits."
   ]
  },
  {
   "cell_type": "markdown",
   "metadata": {},
   "source": [
    "<img src='img/multi/fig1.png'>"
   ]
  },
  {
   "cell_type": "markdown",
   "metadata": {},
   "source": [
    "## Problem Setup\n",
    "Biochemical network consists of \n",
    "1. Input $S$ with N species:        \n",
    "$$S_1,...,S_N$$\n",
    "2. Channel $\\nu$ with M species:\n",
    "$$V_1,...,V_M$$\n",
    "3. Output X with N species:\n",
    "$$X_1,...,X_N$$\n",
    "4. "
   ]
  },
  {
   "cell_type": "code",
   "execution_count": null,
   "metadata": {},
   "outputs": [],
   "source": []
  }
 ],
 "metadata": {
  "kernelspec": {
   "display_name": "Python 3",
   "language": "python",
   "name": "python3"
  },
  "language_info": {
   "codemirror_mode": {
    "name": "ipython",
    "version": 3
   },
   "file_extension": ".py",
   "mimetype": "text/x-python",
   "name": "python",
   "nbconvert_exporter": "python",
   "pygments_lexer": "ipython3",
   "version": "3.6.4"
  }
 },
 "nbformat": 4,
 "nbformat_minor": 2
}
