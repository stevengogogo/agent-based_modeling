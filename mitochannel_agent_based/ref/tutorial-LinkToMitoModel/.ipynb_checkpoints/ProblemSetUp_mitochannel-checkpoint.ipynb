{
 "cells": [
  {
   "cell_type": "markdown",
   "metadata": {},
   "source": [
    "## Package logopack Command for NetLogo model\n",
    "\n",
    "This notebook use logopack package which aims to simplify common usage of pyNetLogo library about [mitochondrial NetLogo model](http://journals.plos.org/plosone/article/file?type=supplementary&id=info:doi/10.1371/journal.pone.0168198.s009)"
   ]
  },
  {
   "cell_type": "code",
   "execution_count": 1,
   "metadata": {},
   "outputs": [],
   "source": [
    "import logopack\n",
    "import pandas as pd"
   ]
  },
  {
   "cell_type": "markdown",
   "metadata": {},
   "source": [
    "## Load & Setup Model"
   ]
  },
  {
   "cell_type": "code",
   "execution_count": 2,
   "metadata": {},
   "outputs": [],
   "source": [
    "mitologo = logopack.linkmodel(r'model/mitochondrial-model_v6.nlogo', setmodel=True)"
   ]
  },
  {
   "cell_type": "markdown",
   "metadata": {},
   "source": [
    "## Report Global Variables"
   ]
  },
  {
   "cell_type": "code",
   "execution_count": 3,
   "metadata": {},
   "outputs": [
    {
     "data": {
      "text/plain": [
       "{'EN_stress_level': 0.0,\n",
       " 'MR_th': 0.0,\n",
       " 'big': 0.5629110268656659,\n",
       " 'counter': 302.163807221807,\n",
       " 'critMass': 1.0,\n",
       " 'cx': 25.0,\n",
       " 'cy': 25.0,\n",
       " 'dam_th': 0.0,\n",
       " 'diam_nuc': 16.666666666666668,\n",
       " 'dim_dom': 50.0,\n",
       " 'ds': 1.0,\n",
       " 'dt': 1.0,\n",
       " 'freq_bioIn': 0.0,\n",
       " 'freq_degIn': 0.0,\n",
       " 'freq_fissionIn': 0.0,\n",
       " 'freq_fusionIn': 0.0,\n",
       " 'hour': 3600.0,\n",
       " 'initial_tot_number': 0.0,\n",
       " 'max_mito_mass': 3.0,\n",
       " 'mid': 0.38194094358382014,\n",
       " 'min_mito_mass': 0.5,\n",
       " 'minute': 60.0,\n",
       " 'mito-step_close': 0.44,\n",
       " 'mito-step_far': 1.0,\n",
       " 'prob_biogenesisIn': 0.0,\n",
       " 'prob_damIn': 0.0,\n",
       " 'prob_fisIn': 0.0,\n",
       " 'prob_fusIn': 0.0,\n",
       " 'sec': 1.0,\n",
       " 'small': 0.06236072028987026,\n",
       " 'totmass': 1.0072126907393557,\n",
       " 'totmassDam': 0.0,\n",
       " 'totmassGreen': 0.0,\n",
       " 'totmassHigh': 0.0,\n",
       " 'totmassLow': 0.0,\n",
       " 'vel_close': 0.0,\n",
       " 'vel_close2': 0.0,\n",
       " 'vel_far': 0.0,\n",
       " 'vel_far2': 0.0}"
      ]
     },
     "execution_count": 3,
     "metadata": {},
     "output_type": "execute_result"
    }
   ],
   "source": [
    "globs = mitologo.repglobal(['cx', 'cy', 'dim_dom', 'diam_nuc', 'dt', 'sec', 'minute', \n",
    "                    'hour', 'ds', 'mito-step_far', 'mito-step_close', 'EN_stress_level', \n",
    "                    'vel_far', 'vel_close', 'vel_far2', 'vel_close2', 'initial_tot_number', \n",
    "                    'MR_th', 'prob_fusIn', 'prob_fisIn', 'prob_biogenesisIn', 'prob_damIn', \n",
    "                    'dam_th', 'totmass', 'critMass', 'min_mito_mass', 'max_mito_mass', 'small',\n",
    "                    'mid', 'big', 'counter', 'freq_fusionIn', 'freq_fissionIn', 'freq_degIn',\n",
    "                    'freq_bioIn', 'totmassGreen', 'totmassDam', 'totmassLow', 'totmassHigh'])\n",
    "globs"
   ]
  },
  {
   "cell_type": "markdown",
   "metadata": {},
   "source": [
    "## Report Agent Variables"
   ]
  },
  {
   "cell_type": "code",
   "execution_count": 17,
   "metadata": {},
   "outputs": [
    {
     "data": {
      "text/html": [
       "<div>\n",
       "<style scoped>\n",
       "    .dataframe tbody tr th:only-of-type {\n",
       "        vertical-align: middle;\n",
       "    }\n",
       "\n",
       "    .dataframe tbody tr th {\n",
       "        vertical-align: top;\n",
       "    }\n",
       "\n",
       "    .dataframe thead th {\n",
       "        text-align: right;\n",
       "    }\n",
       "</style>\n",
       "<table border=\"1\" class=\"dataframe\">\n",
       "  <thead>\n",
       "    <tr style=\"text-align: right;\">\n",
       "      <th></th>\n",
       "      <th>dam</th>\n",
       "      <th>damage_level</th>\n",
       "      <th>mr_level</th>\n",
       "      <th>size</th>\n",
       "      <th>who</th>\n",
       "      <th>xcor</th>\n",
       "      <th>ycor</th>\n",
       "    </tr>\n",
       "  </thead>\n",
       "  <tbody>\n",
       "    <tr>\n",
       "      <th>0</th>\n",
       "      <td>False</td>\n",
       "      <td>52.0</td>\n",
       "      <td>52.0</td>\n",
       "      <td>2.673238</td>\n",
       "      <td>3.0</td>\n",
       "      <td>13.272532</td>\n",
       "      <td>29.115935</td>\n",
       "    </tr>\n",
       "    <tr>\n",
       "      <th>1</th>\n",
       "      <td>False</td>\n",
       "      <td>52.0</td>\n",
       "      <td>52.0</td>\n",
       "      <td>2.947877</td>\n",
       "      <td>4.0</td>\n",
       "      <td>21.486765</td>\n",
       "      <td>13.174096</td>\n",
       "    </tr>\n",
       "    <tr>\n",
       "      <th>2</th>\n",
       "      <td>False</td>\n",
       "      <td>52.0</td>\n",
       "      <td>52.0</td>\n",
       "      <td>1.343312</td>\n",
       "      <td>5.0</td>\n",
       "      <td>13.399277</td>\n",
       "      <td>23.902751</td>\n",
       "    </tr>\n",
       "    <tr>\n",
       "      <th>3</th>\n",
       "      <td>False</td>\n",
       "      <td>52.0</td>\n",
       "      <td>52.0</td>\n",
       "      <td>0.835443</td>\n",
       "      <td>6.0</td>\n",
       "      <td>37.358288</td>\n",
       "      <td>33.808101</td>\n",
       "    </tr>\n",
       "    <tr>\n",
       "      <th>4</th>\n",
       "      <td>False</td>\n",
       "      <td>52.0</td>\n",
       "      <td>52.0</td>\n",
       "      <td>0.769323</td>\n",
       "      <td>7.0</td>\n",
       "      <td>15.032936</td>\n",
       "      <td>44.181962</td>\n",
       "    </tr>\n",
       "  </tbody>\n",
       "</table>\n",
       "</div>"
      ],
      "text/plain": [
       "     dam  damage_level  mr_level      size  who       xcor       ycor\n",
       "0  False          52.0      52.0  2.673238  3.0  13.272532  29.115935\n",
       "1  False          52.0      52.0  2.947877  4.0  21.486765  13.174096\n",
       "2  False          52.0      52.0  1.343312  5.0  13.399277  23.902751\n",
       "3  False          52.0      52.0  0.835443  6.0  37.358288  33.808101\n",
       "4  False          52.0      52.0  0.769323  7.0  15.032936  44.181962"
      ]
     },
     "execution_count": 17,
     "metadata": {},
     "output_type": "execute_result"
    }
   ],
   "source": [
    "agents = mitologo.repagents(breed_name= 'mitos',indexes=['who','xcor','ycor','size','damage_level','mr_level','dam'])\n",
    "pd.DataFrame(agents).head()"
   ]
  },
  {
   "cell_type": "markdown",
   "metadata": {},
   "source": [
    "## Plot "
   ]
  },
  {
   "cell_type": "code",
   "execution_count": 5,
   "metadata": {},
   "outputs": [
    {
     "data": {
      "image/png": "[encoded data removed]",
      "text/plain": [
       "<Figure size 720x720 with 1 Axes>"
      ]
     },
     "metadata": {},
     "output_type": "display_data"
    }
   ],
   "source": [
    "import matplotlib.pyplot as plt\n",
    "fig, ax = mitologo.plotcell(figsize=(10,10))\n",
    "plt.savefig(r'img/plotcell.pdf')"
   ]
  },
  {
   "cell_type": "markdown",
   "metadata": {},
   "source": [
    "## Proceed the model- go command"
   ]
  },
  {
   "cell_type": "markdown",
   "metadata": {},
   "source": [
    "When comparing dic1 and dic2, you can notice that the number of the first id is always increasing. This is due to biogensis and inhilation of mitochondria "
   ]
  },
  {
   "cell_type": "code",
   "execution_count": 6,
   "metadata": {},
   "outputs": [
    {
     "data": {
      "text/plain": [
       "<Figure size 432x288 with 0 Axes>"
      ]
     },
     "metadata": {},
     "output_type": "display_data"
    },
    {
     "data": {
      "image/png": "[encoded data removed]",
      "text/plain": [
       "<Figure size 720x720 with 1 Axes>"
      ]
     },
     "metadata": {},
     "output_type": "display_data"
    },
    {
     "name": "stdout",
     "output_type": "stream",
     "text": [
      "CPU times: user 5.27 s, sys: 87.6 ms, total: 5.35 s\n",
      "Wall time: 2.22 s\n"
     ]
    }
   ],
   "source": [
    "%%time\n",
    "# Proceed 1000 times\n",
    "for i in range(0,1):\n",
    "    plt.figure()\n",
    "    mitologo.go(steps=1000)\n",
    "    dic1 = mitologo.repagents()\n",
    "    mitologo.plotcell(title='Condition on Ticks: '+str(int(mitologo.report('ticks'))))\n",
    "    plt.show()"
   ]
  },
  {
   "cell_type": "markdown",
   "metadata": {},
   "source": [
    "## Interactive widgets"
   ]
  },
  {
   "cell_type": "code",
   "execution_count": 7,
   "metadata": {},
   "outputs": [],
   "source": [
    "# Reset the model \n",
    "mitologo.setup()"
   ]
  },
  {
   "cell_type": "code",
   "execution_count": 10,
   "metadata": {},
   "outputs": [
    {
     "data": {
      "application/vnd.jupyter.widget-view+json": {
       "model_id": "dfa65d9d9eec48f3b69e97867ed04328",
       "version_major": 2,
       "version_minor": 0
      },
      "text/plain": [
       "VBox(children=(Output(layout=Layout(height='300px', width='400px')), Button(description='Next', style=ButtonSt…"
      ]
     },
     "metadata": {},
     "output_type": "display_data"
    }
   ],
   "source": [
    "%matplotlib inline\n",
    "\n",
    "# To prevent automatic figure display when execution of the cell ends\n",
    "%config InlineBackend.close_figures=False \n",
    "\n",
    "import matplotlib.pyplot as plt\n",
    "import numpy as np\n",
    "from matplotlib.patches import Circle\n",
    "from matplotlib.collections import PatchCollection\n",
    "from ipywidgets import Layout, widgets\n",
    "from IPython.display import display,clear_output\n",
    "\n",
    "plt.ioff()\n",
    "ax=plt.gca()\n",
    "out=widgets.Output(layout=Layout(height='300px', width = '400px'))\n",
    "# Add patches\n",
    "patches = []\n",
    "patches.append(Circle((mitologo.glob['cx'],mitologo.glob['cy']),mitologo.glob['diam_nuc']/2.0)) # Nucleus\n",
    "patches.append(Circle((mitologo.glob['cx'],mitologo.glob['cy']),mitologo.glob['dim_dom']/2.0)) # Cell\n",
    "\n",
    "# define collection\n",
    "p = PatchCollection(patches, alpha=0.4)\n",
    "button=widgets.Button(description='Next')\n",
    "vbox=widgets.VBox(children=(out,button))\n",
    "display(vbox)\n",
    "\n",
    "def click(b):\n",
    "    ax.clear()\n",
    "    plt.axis([0, mitologo.glob['dim_dom'], 0, mitologo.glob['dim_dom']])\n",
    "    ax.scatter(mitologo.agents['xcor'], mitologo.agents['ycor'], s=4)\n",
    "    ax.set_xlabel('xcor ($\\mu m$)')\n",
    "    ax.set_ylabel('ycor ($\\mu m$)')\n",
    "    ax.set_aspect('equal')\n",
    "    ax.add_collection(p)\n",
    "    plt.title('Condition on Ticks: '+str(int(mitologo.report('ticks'))))\n",
    "    with out:\n",
    "        mitologo.go(steps=1)\n",
    "        clear_output(wait=True)\n",
    "        display(ax.figure)\n",
    "\n",
    "button.on_click(click)\n",
    "click(None)"
   ]
  }
 ],
 "metadata": {
  "kernelspec": {
   "display_name": "Python 3",
   "language": "python",
   "name": "python3"
  },
  "language_info": {
   "codemirror_mode": {
    "name": "ipython",
    "version": 3
   },
   "file_extension": ".py",
   "mimetype": "text/x-python",
   "name": "python",
   "nbconvert_exporter": "python",
   "pygments_lexer": "ipython3",
   "version": "3.6.4"
  }
 },
 "nbformat": 4,
 "nbformat_minor": 2
}
