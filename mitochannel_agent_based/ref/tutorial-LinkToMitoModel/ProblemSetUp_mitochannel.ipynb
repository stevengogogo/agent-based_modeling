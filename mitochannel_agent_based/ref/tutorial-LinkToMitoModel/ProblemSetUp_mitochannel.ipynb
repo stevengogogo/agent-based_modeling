{
 "cells": [
  {
   "cell_type": "markdown",
   "metadata": {},
   "source": [
    "## Package logopack Command for NetLogo model\n",
    "\n",
    "This notebook use logopack package which aims to simplify common usage of pyNetLogo library about [mitochondrial NetLogo model](http://journals.plos.org/plosone/article/file?type=supplementary&id=info:doi/10.1371/journal.pone.0168198.s009)"
   ]
  },
  {
   "cell_type": "code",
   "execution_count": 2,
   "metadata": {},
   "outputs": [],
   "source": [
    "import logopack\n",
    "import pandas as pd"
   ]
  },
  {
   "cell_type": "markdown",
   "metadata": {},
   "source": [
    "## Load & Setup Model"
   ]
  },
  {
   "cell_type": "code",
   "execution_count": 3,
   "metadata": {},
   "outputs": [],
   "source": [
    "mitologo = logopack.linkmodel(r'model/mitochondrial-model_v6.nlogo', setmodel=True)"
   ]
  },
  {
   "cell_type": "markdown",
   "metadata": {},
   "source": [
    "## Report Global Variables"
   ]
  },
  {
   "cell_type": "code",
   "execution_count": 4,
   "metadata": {},
   "outputs": [],
   "source": [
    "globs = mitologo.repglobal(['cx', 'cy', 'dim_dom', 'diam_nuc', 'dt', 'sec', 'minute', \n",
    "                    'hour', 'ds', 'mito-step_far', 'mito-step_close', 'EN_stress_level', \n",
    "                    'vel_far', 'vel_close', 'vel_far2', 'vel_close2', 'initial_tot_number', \n",
    "                    'MR_th', 'prob_fusIn', 'prob_fisIn', 'prob_biogenesisIn', 'prob_damIn', \n",
    "                    'dam_th', 'totmass', 'critMass', 'min_mito_mass', 'max_mito_mass', 'small',\n",
    "                    'mid', 'big', 'counter', 'freq_fusionIn', 'freq_fissionIn', 'freq_degIn',\n",
    "                    'freq_bioIn', 'totmassGreen', 'totmassDam', 'totmassLow', 'totmassHigh'])\n",
    "#globs"
   ]
  },
  {
   "cell_type": "markdown",
   "metadata": {},
   "source": [
    "## Chemical Diffusion Model\n",
    "\n",
    "The chemical model describe the model of mitochondira and retrograde portein. The following assumption is uesd to simplify the model:\n",
    "\n",
    "1. The activation of retrograde protein is simutaneously linked with mitochondrial health state. \n",
    "    * Signal intensity (Int.)\n",
    "      $$Int_{(x,y)} = $$\n",
    "    \n",
    "2. fefe\n"
   ]
  },
  {
   "cell_type": "code",
   "execution_count": null,
   "metadata": {},
   "outputs": [],
   "source": []
  },
  {
   "cell_type": "code",
   "execution_count": null,
   "metadata": {},
   "outputs": [],
   "source": []
  }
 ],
 "metadata": {
  "kernelspec": {
   "display_name": "Python 3",
   "language": "python",
   "name": "python3"
  },
  "language_info": {
   "codemirror_mode": {
    "name": "ipython",
    "version": 3
   },
   "file_extension": ".py",
   "mimetype": "text/x-python",
   "name": "python",
   "nbconvert_exporter": "python",
   "pygments_lexer": "ipython3",
   "version": "3.6.4"
  }
 },
 "nbformat": 4,
 "nbformat_minor": 2
}
