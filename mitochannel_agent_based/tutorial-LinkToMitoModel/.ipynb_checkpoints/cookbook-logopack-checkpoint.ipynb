{
 "cells": [
  {
   "cell_type": "markdown",
   "metadata": {},
   "source": [
    "## Package logopack Command for NetLogo model\n",
    "\n",
    "This notebook use logopack package which aims to simplify common usage of pyNetLogo library about [mitochondrial NetLogo model](http://journals.plos.org/plosone/article/file?type=supplementary&id=info:doi/10.1371/journal.pone.0168198.s009)\n",
    "\n",
    "![mitomodel_overview](img/mitomodel_overview.png)"
   ]
  },
  {
   "cell_type": "code",
   "execution_count": 1,
   "metadata": {},
   "outputs": [],
   "source": [
    "import logopack\n",
    "import os\n",
    "import pandas as pd"
   ]
  },
  {
   "cell_type": "markdown",
   "metadata": {},
   "source": [
    "## Load & Setup Model\n",
    "\n",
    "Teh linkmodel command link the netlogo model to python object.\n",
    "\n",
    ">Note: In Windows, pyNetLogo can interact with NetLogo GUI. However, Mac is not the case due to pyNetLogo bug. "
   ]
  },
  {
   "cell_type": "code",
   "execution_count": 2,
   "metadata": {},
   "outputs": [],
   "source": [
    "mitologo = logopack.linkmodel(os.path.join('model','mitochondrial-model_v6.nlogo'),gui=False ,setmodel=True)"
   ]
  },
  {
   "cell_type": "markdown",
   "metadata": {},
   "source": [
    "## Report Global Variables\n",
    "\n",
    "In mitochondrial netlogo model, global variables include:\n",
    "\n",
    "Variable_name ; description\n",
    "\n",
    "-  cx                 ;; x coordinate of the cell\n",
    "-  cy                 ;; y coordinate of the cell\n",
    "-  dim_dom            ;; dimension of the domain\n",
    "-  diam_nuc           ;; diameter of the nucelus\n",
    "-  dt                 ;; temporal increment\n",
    "-  sec                ;; second\n",
    "-  minute             ;; minute\n",
    "-  hour               ;; hour\n",
    "-  ds                 ;; spatial increment\n",
    "-  mito-step_far      ;; mitochondrial step\n",
    "-  mito-step_close    ;; mitochondrial step\n",
    "-  EN_stress_level    ;; energetic stress\n",
    "-  vel_far            ;; mitochondrial velocity\n",
    "-  vel_close          ;; mitochondrial velocity\n",
    "-  vel_far2           ;; mitochondrial velocity\n",
    "-  vel_close2         ;; mitochondrial velocity\n",
    "-  initial_tot_number ;; initial mitochondrial number\n",
    "-  MR_th              ;; MR threshold\n",
    "-  prob_fusIn         ;; probability of fusion\n",
    "-  prob_fisIn         ;; probability of fission\n",
    "-  prob_biogenesisIn  ;; probability of biogenesis\n",
    "-  prob_damIn         ;; probability of damage\n",
    "-  dam_th             ;; damage threshold\n",
    "-  totmass            ;; total mass of mitochondria\n",
    "-  critMass           ;; critical mass\n",
    "-  min_mito_mass      ;; min mitochondrial mass\n",
    "-  max_mito_mass      ;; max mitochondrial mass\n",
    "-  small              ;; mitochondria with size <= 1\n",
    "-  mid                ;; mitochondria with size in (1,2]\n",
    "-  big                ;; mitochondria with size > 2\n",
    "-  counter            ;; counter\n",
    "-  freq_fusionIn      ;; fusion frequency\n",
    "-  freq_fissionIn     ;; fission frequency\n",
    "-  freq_degIn         ;; degradation frequency\n",
    "-  freq_bioIn         ;; biogenesis frequency\n",
    "-  arrmito            ;; array of all mitochondria\n",
    "-  arrmitoDam         ;; array of all damaged mitochondria\n",
    "-  totmassGreen       ;; total mass of GFP labeled mitochondria\n",
    "-  totmassDam         ;; total mass of damaged mitochondria\n",
    "-  totmassLow         ;; total mass of low damaged mitochondria\n",
    "-  totmassHigh        ;; total mass of high damaged mitochondria\n"
   ]
  },
  {
   "cell_type": "code",
   "execution_count": 3,
   "metadata": {},
   "outputs": [
    {
     "data": {
      "text/plain": [
       "{'EN_stress_level': 0.0,\n",
       " 'MR_th': 0.0,\n",
       " 'big': 0.6426300870272611,\n",
       " 'counter': 301.4869809997449,\n",
       " 'critMass': 1.0,\n",
       " 'cx': 25.0,\n",
       " 'cy': 25.0,\n",
       " 'dam_th': 0.0,\n",
       " 'diam_nuc': 16.666666666666668,\n",
       " 'dim_dom': 50.0,\n",
       " 'ds': 1.0,\n",
       " 'dt': 1.0,\n",
       " 'freq_bioIn': 0.0,\n",
       " 'freq_degIn': 0.0,\n",
       " 'freq_fissionIn': 0.0,\n",
       " 'freq_fusionIn': 0.0,\n",
       " 'hour': 3600.0,\n",
       " 'initial_tot_number': 0.0,\n",
       " 'max_mito_mass': 3.0,\n",
       " 'mid': 0.2900055508584257,\n",
       " 'min_mito_mass': 0.5,\n",
       " 'minute': 60.0,\n",
       " 'mito-step_close': 0.44,\n",
       " 'mito-step_far': 1.0,\n",
       " 'prob_biogenesisIn': 0.0,\n",
       " 'prob_damIn': 0.0,\n",
       " 'prob_fisIn': 0.0,\n",
       " 'prob_fusIn': 0.0,\n",
       " 'sec': 1.0,\n",
       " 'small': 0.07232096544679616,\n",
       " 'totmass': 1.0049566033324833,\n",
       " 'totmassDam': 0.0,\n",
       " 'totmassGreen': 0.0,\n",
       " 'totmassHigh': 0.0,\n",
       " 'totmassLow': 0.0,\n",
       " 'vel_close': 0.0,\n",
       " 'vel_close2': 0.0,\n",
       " 'vel_far': 0.0,\n",
       " 'vel_far2': 0.0}"
      ]
     },
     "execution_count": 3,
     "metadata": {},
     "output_type": "execute_result"
    }
   ],
   "source": [
    "globs = mitologo.repglobal(['cx', 'cy', 'dim_dom', 'diam_nuc', 'dt', 'sec', 'minute', \n",
    "                    'hour', 'ds', 'mito-step_far', 'mito-step_close', 'EN_stress_level', \n",
    "                    'vel_far', 'vel_close', 'vel_far2', 'vel_close2', 'initial_tot_number', \n",
    "                    'MR_th', 'prob_fusIn', 'prob_fisIn', 'prob_biogenesisIn', 'prob_damIn', \n",
    "                    'dam_th', 'totmass', 'critMass', 'min_mito_mass', 'max_mito_mass', 'small',\n",
    "                    'mid', 'big', 'counter', 'freq_fusionIn', 'freq_fissionIn', 'freq_degIn',\n",
    "                    'freq_bioIn', 'totmassGreen', 'totmassDam', 'totmassLow', 'totmassHigh'])\n",
    "globs"
   ]
  },
  {
   "cell_type": "markdown",
   "metadata": {},
   "source": [
    "## Report Agent Variables\n",
    "\n",
    "#### Agent Types\n",
    "\n",
    "In [mitochondrial NetLogo model](http://journals.plos.org/plosone/article/file?type=supplementary&id=info:doi/10.1371/journal.pone.0168198.s009), agents are defined as \"breeds\" object.\n",
    "\n",
    "<table>\n",
    "  <tr>\n",
    "    <td>Breed Name</td>\n",
    "    <td>Description</td>\n",
    "    <td>Agent Variables</td>\n",
    "  </tr>\n",
    "  <tr>\n",
    "    <td>mitos</td>\n",
    "    <td>Mitochondria</td>\n",
    "    <td>'who','xcor','ycor','size','damage_level','mr_level','dam'</td>\n",
    "  </tr>\n",
    "  <tr>\n",
    "    <td>lysos</td>\n",
    "    <td>lysosomes. When it meets damaged mitochondrion, it will autophage mitochondrion then die. lysosomes' size remain 1.</td>\n",
    "    <td>'who','xcor','ycor','size'</td>\n",
    "  </tr>\n",
    "</table>\n",
    "\n",
    "#### Agent Figures\n",
    "\n",
    "Here is the graph in [mitochondrial NetLogo model](http://journals.plos.org/plosone/article/file?type=supplementary&id=info:doi/10.1371/journal.pone.0168198.s009)\n",
    "\n",
    "<table>\n",
    "  <tr>\n",
    "    <td>Healthy mitochondria</td>\n",
    "    <td>Damaged mitochondria</td>\n",
    "    <td>Ongoing mitochondrial autophagy</td>\n",
    "    <td>Mitochondrial autophagy</td>\n",
    "    <td>Lysosome</td>\n",
    "  </tr>\n",
    "</table>\n",
    "\n",
    "![mitomodel_agent-type](img/mitomodel_agent-type.png)"
   ]
  },
  {
   "cell_type": "code",
   "execution_count": 4,
   "metadata": {},
   "outputs": [
    {
     "data": {
      "text/html": [
       "<div>\n",
       "<style scoped>\n",
       "    .dataframe tbody tr th:only-of-type {\n",
       "        vertical-align: middle;\n",
       "    }\n",
       "\n",
       "    .dataframe tbody tr th {\n",
       "        vertical-align: top;\n",
       "    }\n",
       "\n",
       "    .dataframe thead th {\n",
       "        text-align: right;\n",
       "    }\n",
       "</style>\n",
       "<table border=\"1\" class=\"dataframe\">\n",
       "  <thead>\n",
       "    <tr style=\"text-align: right;\">\n",
       "      <th></th>\n",
       "      <th>dam</th>\n",
       "      <th>damage_level</th>\n",
       "      <th>mr_level</th>\n",
       "      <th>size</th>\n",
       "      <th>who</th>\n",
       "      <th>xcor</th>\n",
       "      <th>ycor</th>\n",
       "    </tr>\n",
       "  </thead>\n",
       "  <tbody>\n",
       "    <tr>\n",
       "      <th>0</th>\n",
       "      <td>False</td>\n",
       "      <td>0.0</td>\n",
       "      <td>0.0</td>\n",
       "      <td>2.797250</td>\n",
       "      <td>3.0</td>\n",
       "      <td>11.870493</td>\n",
       "      <td>43.160949</td>\n",
       "    </tr>\n",
       "    <tr>\n",
       "      <th>1</th>\n",
       "      <td>False</td>\n",
       "      <td>0.0</td>\n",
       "      <td>0.0</td>\n",
       "      <td>0.966918</td>\n",
       "      <td>4.0</td>\n",
       "      <td>29.467739</td>\n",
       "      <td>38.325933</td>\n",
       "    </tr>\n",
       "    <tr>\n",
       "      <th>2</th>\n",
       "      <td>False</td>\n",
       "      <td>0.0</td>\n",
       "      <td>0.0</td>\n",
       "      <td>1.752161</td>\n",
       "      <td>5.0</td>\n",
       "      <td>19.969136</td>\n",
       "      <td>6.990621</td>\n",
       "    </tr>\n",
       "    <tr>\n",
       "      <th>3</th>\n",
       "      <td>False</td>\n",
       "      <td>0.0</td>\n",
       "      <td>0.0</td>\n",
       "      <td>2.217416</td>\n",
       "      <td>6.0</td>\n",
       "      <td>18.183627</td>\n",
       "      <td>18.129426</td>\n",
       "    </tr>\n",
       "    <tr>\n",
       "      <th>4</th>\n",
       "      <td>False</td>\n",
       "      <td>0.0</td>\n",
       "      <td>0.0</td>\n",
       "      <td>1.203423</td>\n",
       "      <td>7.0</td>\n",
       "      <td>18.707740</td>\n",
       "      <td>42.480416</td>\n",
       "    </tr>\n",
       "  </tbody>\n",
       "</table>\n",
       "</div>"
      ],
      "text/plain": [
       "     dam  damage_level  mr_level      size  who       xcor       ycor\n",
       "0  False           0.0       0.0  2.797250  3.0  11.870493  43.160949\n",
       "1  False           0.0       0.0  0.966918  4.0  29.467739  38.325933\n",
       "2  False           0.0       0.0  1.752161  5.0  19.969136   6.990621\n",
       "3  False           0.0       0.0  2.217416  6.0  18.183627  18.129426\n",
       "4  False           0.0       0.0  1.203423  7.0  18.707740  42.480416"
      ]
     },
     "execution_count": 4,
     "metadata": {},
     "output_type": "execute_result"
    }
   ],
   "source": [
    "mitos = mitologo.repagents(breed_name= 'mitos',indexes=['who','xcor','ycor','size','damage_level','mr_level','dam'])\n",
    "pd.DataFrame(mitos).head()"
   ]
  },
  {
   "cell_type": "markdown",
   "metadata": {},
   "source": [
    "## Plot "
   ]
  },
  {
   "cell_type": "code",
   "execution_count": 5,
   "metadata": {},
   "outputs": [
    {
     "data": {
      "image/png": "[encoded data removed]",
      "text/plain": [
       "<Figure size 720x720 with 1 Axes>"
      ]
     },
     "metadata": {},
     "output_type": "display_data"
    }
   ],
   "source": [
    "import matplotlib.pyplot as plt\n",
    "fig, ax = mitologo.plotcell(figsize=(10,10))\n",
    "plt.savefig(r'img/plotcell.pdf')"
   ]
  },
  {
   "cell_type": "markdown",
   "metadata": {},
   "source": [
    "## Proceed the model- go command"
   ]
  },
  {
   "cell_type": "markdown",
   "metadata": {},
   "source": [
    "When comparing dic1 and dic2, you can notice that the number of the first id is always increasing. This is due to biogensis and inhilation of mitochondria "
   ]
  },
  {
   "cell_type": "code",
   "execution_count": 6,
   "metadata": {},
   "outputs": [
    {
     "data": {
      "text/plain": [
       "<Figure size 432x288 with 0 Axes>"
      ]
     },
     "metadata": {},
     "output_type": "display_data"
    },
    {
     "data": {
      "image/png": "[encoded data removed]",
      "text/plain": [
       "<Figure size 720x720 with 1 Axes>"
      ]
     },
     "metadata": {},
     "output_type": "display_data"
    },
    {
     "name": "stdout",
     "output_type": "stream",
     "text": [
      "CPU times: user 13.3 s, sys: 201 ms, total: 13.5 s\n",
      "Wall time: 8.76 s\n"
     ]
    }
   ],
   "source": [
    "%%time\n",
    "# Proceed 10000 times\n",
    "\n",
    "steps = 10000\n",
    "\n",
    "for i in range(0,1):\n",
    "    plt.figure()\n",
    "    mitologo.go(steps=steps)\n",
    "    dic1 = mitologo.repagents()\n",
    "    mitologo.plotcell(title='Condition on Ticks: '+str(int(mitologo.report('ticks'))))\n",
    "    plt.show()"
   ]
  },
  {
   "cell_type": "markdown",
   "metadata": {},
   "source": [
    "## Interactive widgets"
   ]
  },
  {
   "cell_type": "code",
   "execution_count": 7,
   "metadata": {},
   "outputs": [],
   "source": [
    "# Reset the model \n",
    "mitologo.setup()"
   ]
  },
  {
   "cell_type": "code",
   "execution_count": 10,
   "metadata": {},
   "outputs": [
    {
     "data": {
      "application/vnd.jupyter.widget-view+json": {
       "model_id": "f97a248c12b44de8a857bb77542e1b4d",
       "version_major": 2,
       "version_minor": 0
      },
      "text/plain": [
       "VBox(children=(Output(layout=Layout(height='300px', width='400px')), Button(description='Next', style=ButtonSt…"
      ]
     },
     "metadata": {},
     "output_type": "display_data"
    },
    {
     "ename": "NetLogoException",
     "evalue": "None",
     "output_type": "error",
     "traceback": [
      "\u001b[0;31m---------------------------------------------------------------------------\u001b[0m",
      "\u001b[0;31mjava.lang.RuntimeExceptionPyRaisable\u001b[0m      Traceback (most recent call last)",
      "\u001b[0;32m/usr/local/lib/python3.6/site-packages/pyNetLogo/core.py\u001b[0m in \u001b[0;36mreport\u001b[0;34m(self, netlogo_reporter)\u001b[0m\n\u001b[1;32m    302\u001b[0m         \u001b[0;32mtry\u001b[0m\u001b[0;34m:\u001b[0m\u001b[0;34m\u001b[0m\u001b[0m\n\u001b[0;32m--> 303\u001b[0;31m             \u001b[0mresult\u001b[0m \u001b[0;34m=\u001b[0m \u001b[0mself\u001b[0m\u001b[0;34m.\u001b[0m\u001b[0mlink\u001b[0m\u001b[0;34m.\u001b[0m\u001b[0mreport\u001b[0m\u001b[0;34m(\u001b[0m\u001b[0mnetlogo_reporter\u001b[0m\u001b[0;34m)\u001b[0m\u001b[0;34m\u001b[0m\u001b[0m\n\u001b[0m\u001b[1;32m    304\u001b[0m             \u001b[0;32mreturn\u001b[0m \u001b[0mself\u001b[0m\u001b[0;34m.\u001b[0m\u001b[0m_cast_results\u001b[0m\u001b[0;34m(\u001b[0m\u001b[0mresult\u001b[0m\u001b[0;34m)\u001b[0m\u001b[0;34m\u001b[0m\u001b[0m\n",
      "\u001b[0;31mjava.lang.RuntimeExceptionPyRaisable\u001b[0m: java.lang.NullPointerException",
      "\nDuring handling of the above exception, another exception occurred:\n",
      "\u001b[0;31mNetLogoException\u001b[0m                          Traceback (most recent call last)",
      "\u001b[0;32m<ipython-input-10-ce69073cc737>\u001b[0m in \u001b[0;36m<module>\u001b[0;34m()\u001b[0m\n\u001b[1;32m     50\u001b[0m \u001b[0;34m\u001b[0m\u001b[0m\n\u001b[1;32m     51\u001b[0m \u001b[0mbutton\u001b[0m\u001b[0;34m.\u001b[0m\u001b[0mon_click\u001b[0m\u001b[0;34m(\u001b[0m\u001b[0mclick\u001b[0m\u001b[0;34m)\u001b[0m\u001b[0;34m\u001b[0m\u001b[0m\n\u001b[0;32m---> 52\u001b[0;31m \u001b[0mclick\u001b[0m\u001b[0;34m(\u001b[0m\u001b[0;32mNone\u001b[0m\u001b[0;34m)\u001b[0m\u001b[0;34m\u001b[0m\u001b[0m\n\u001b[0m",
      "\u001b[0;32m<ipython-input-10-ce69073cc737>\u001b[0m in \u001b[0;36mclick\u001b[0;34m(b)\u001b[0m\n\u001b[1;32m     34\u001b[0m \u001b[0;34m\u001b[0m\u001b[0m\n\u001b[1;32m     35\u001b[0m     \u001b[0;31m# Report lysosomes\u001b[0m\u001b[0;34m\u001b[0m\u001b[0;34m\u001b[0m\u001b[0m\n\u001b[0;32m---> 36\u001b[0;31m     \u001b[0mlysos\u001b[0m \u001b[0;34m=\u001b[0m \u001b[0mmitologo\u001b[0m\u001b[0;34m.\u001b[0m\u001b[0mrepagents\u001b[0m\u001b[0;34m(\u001b[0m\u001b[0mbreed_name\u001b[0m\u001b[0;34m=\u001b[0m\u001b[0;34m'lysos'\u001b[0m\u001b[0;34m)\u001b[0m\u001b[0;34m\u001b[0m\u001b[0m\n\u001b[0m\u001b[1;32m     37\u001b[0m     \u001b[0;32mif\u001b[0m \u001b[0mlysos\u001b[0m \u001b[0;34m!=\u001b[0m \u001b[0;32mNone\u001b[0m\u001b[0;34m:\u001b[0m\u001b[0;34m\u001b[0m\u001b[0m\n\u001b[1;32m     38\u001b[0m         \u001b[0max\u001b[0m\u001b[0;34m.\u001b[0m\u001b[0mscatter\u001b[0m\u001b[0;34m(\u001b[0m\u001b[0mlysos\u001b[0m\u001b[0;34m[\u001b[0m\u001b[0;34m'xcor'\u001b[0m\u001b[0;34m]\u001b[0m\u001b[0;34m,\u001b[0m \u001b[0mlysos\u001b[0m\u001b[0;34m[\u001b[0m\u001b[0;34m'ycor'\u001b[0m\u001b[0;34m]\u001b[0m\u001b[0;34m,\u001b[0m \u001b[0ms\u001b[0m\u001b[0;34m=\u001b[0m\u001b[0;36m4\u001b[0m\u001b[0;34m,\u001b[0m \u001b[0mmarker\u001b[0m\u001b[0;34m=\u001b[0m\u001b[0;34m'v'\u001b[0m\u001b[0;34m)\u001b[0m\u001b[0;34m\u001b[0m\u001b[0m\n",
      "\u001b[0;32m~/Google Drive/GitHub/agent-based_modeling/mitochannel_agent_based/tutorial-LinkToMitoModel/logopack/linkmodel.py\u001b[0m in \u001b[0;36mrepagents\u001b[0;34m(self, breed_name, indexes)\u001b[0m\n\u001b[1;32m    109\u001b[0m \u001b[0;34m\u001b[0m\u001b[0m\n\u001b[1;32m    110\u001b[0m         \u001b[0;31m# Check breed_name exists. If not, return None\u001b[0m\u001b[0;34m\u001b[0m\u001b[0;34m\u001b[0m\u001b[0m\n\u001b[0;32m--> 111\u001b[0;31m         \u001b[0;32mif\u001b[0m \u001b[0mself\u001b[0m\u001b[0;34m.\u001b[0m\u001b[0mreport\u001b[0m\u001b[0;34m(\u001b[0m\u001b[0;34m'count '\u001b[0m\u001b[0;34m+\u001b[0m\u001b[0mbreed_name\u001b[0m\u001b[0;34m)\u001b[0m \u001b[0;34m==\u001b[0m \u001b[0;36m0.0\u001b[0m\u001b[0;34m:\u001b[0m\u001b[0;34m\u001b[0m\u001b[0m\n\u001b[0m\u001b[1;32m    112\u001b[0m             \u001b[0;32mreturn\u001b[0m \u001b[0;32mNone\u001b[0m\u001b[0;34m\u001b[0m\u001b[0m\n\u001b[1;32m    113\u001b[0m \u001b[0;34m\u001b[0m\u001b[0m\n",
      "\u001b[0;32m/usr/local/lib/python3.6/site-packages/pyNetLogo/core.py\u001b[0m in \u001b[0;36mreport\u001b[0;34m(self, netlogo_reporter)\u001b[0m\n\u001b[1;32m    304\u001b[0m             \u001b[0;32mreturn\u001b[0m \u001b[0mself\u001b[0m\u001b[0;34m.\u001b[0m\u001b[0m_cast_results\u001b[0m\u001b[0;34m(\u001b[0m\u001b[0mresult\u001b[0m\u001b[0;34m)\u001b[0m\u001b[0;34m\u001b[0m\u001b[0m\n\u001b[1;32m    305\u001b[0m         \u001b[0;32mexcept\u001b[0m \u001b[0mjpype\u001b[0m\u001b[0;34m.\u001b[0m\u001b[0mJavaException\u001b[0m \u001b[0;32mas\u001b[0m \u001b[0mex\u001b[0m\u001b[0;34m:\u001b[0m\u001b[0;34m\u001b[0m\u001b[0m\n\u001b[0;32m--> 306\u001b[0;31m             \u001b[0;32mraise\u001b[0m \u001b[0mNetLogoException\u001b[0m\u001b[0;34m(\u001b[0m\u001b[0mex\u001b[0m\u001b[0;34m.\u001b[0m\u001b[0mmessage\u001b[0m\u001b[0;34m(\u001b[0m\u001b[0;34m)\u001b[0m\u001b[0;34m)\u001b[0m\u001b[0;34m\u001b[0m\u001b[0m\n\u001b[0m\u001b[1;32m    307\u001b[0m \u001b[0;34m\u001b[0m\u001b[0m\n\u001b[1;32m    308\u001b[0m     \u001b[0;32mdef\u001b[0m \u001b[0mpatch_report\u001b[0m\u001b[0;34m(\u001b[0m\u001b[0mself\u001b[0m\u001b[0;34m,\u001b[0m \u001b[0mattribute\u001b[0m\u001b[0;34m)\u001b[0m\u001b[0;34m:\u001b[0m\u001b[0;34m\u001b[0m\u001b[0m\n",
      "\u001b[0;31mNetLogoException\u001b[0m: None"
     ]
    }
   ],
   "source": [
    "%matplotlib inline\n",
    "\n",
    "# To prevent automatic figure display when execution of the cell ends\n",
    "%config InlineBackend.close_figures=False \n",
    "\n",
    "import matplotlib.pyplot as plt\n",
    "import numpy as np\n",
    "from matplotlib.patches import Circle\n",
    "from matplotlib.collections import PatchCollection\n",
    "from ipywidgets import Layout, widgets\n",
    "from IPython.display import display,clear_output\n",
    "\n",
    "# ASSIGN STEPS\n",
    "steps = 1000\n",
    "\n",
    "plt.ioff()\n",
    "ax=plt.gca()\n",
    "out=widgets.Output(layout=Layout(height='300px', width = '400px'))\n",
    "# Add patches\n",
    "patches = []\n",
    "patches.append(Circle((mitologo.glob['cx'],mitologo.glob['cy']),mitologo.glob['diam_nuc']/2.0)) # Nucleus\n",
    "patches.append(Circle((mitologo.glob['cx'],mitologo.glob['cy']),mitologo.glob['dim_dom']/2.0)) # Cell\n",
    "\n",
    "# define collection\n",
    "p = PatchCollection(patches, alpha=0.4)\n",
    "button=widgets.Button(description='Next')\n",
    "vbox=widgets.VBox(children=(out,button))\n",
    "display(vbox)\n",
    "\n",
    "def click(b):\n",
    "    ax.clear()\n",
    "    plt.axis([0, mitologo.glob['dim_dom'], 0, mitologo.glob['dim_dom']])\n",
    "    ax.scatter(mitologo.agents['xcor'], mitologo.agents['ycor'], s=4)\n",
    "\n",
    "    ax.set_xlabel('xcor ($\\mu m$)')\n",
    "    ax.set_ylabel('ycor ($\\mu m$)')\n",
    "    ax.set_aspect('equal')\n",
    "    ax.add_collection(p)\n",
    "    plt.title('Condition on Ticks: '+str(int(mitologo.report('ticks'))))\n",
    "    with out:\n",
    "        mitologo.go(steps=steps)\n",
    "        clear_output(wait=True)\n",
    "        display(ax.figure)\n",
    "\n",
    "button.on_click(click)\n",
    "click(None)"
   ]
  },
  {
   "cell_type": "markdown",
   "metadata": {},
   "source": [
    "### Shutdown"
   ]
  },
  {
   "cell_type": "code",
   "execution_count": 9,
   "metadata": {},
   "outputs": [],
   "source": [
    "mitologo.kill_workspace()"
   ]
  }
 ],
 "metadata": {
  "kernelspec": {
   "display_name": "Python 3",
   "language": "python",
   "name": "python3"
  },
  "language_info": {
   "codemirror_mode": {
    "name": "ipython",
    "version": 3
   },
   "file_extension": ".py",
   "mimetype": "text/x-python",
   "name": "python",
   "nbconvert_exporter": "python",
   "pygments_lexer": "ipython3",
   "version": "3.6.4"
  }
 },
 "nbformat": 4,
 "nbformat_minor": 2
}
