{
 "cells": [
  {
   "cell_type": "markdown",
   "metadata": {},
   "source": [
    "## Package logopack Command for NetLogo model\n",
    "\n",
    "This notebook use logopack package which aims to simplify common usage of pyNetLogo library about [mitochondrial NetLogo model](http://journals.plos.org/plosone/article/file?type=supplementary&id=info:doi/10.1371/journal.pone.0168198.s009)\n",
    "\n",
    "![mitomodel_overview](img/mitomodel_overview.png)"
   ]
  },
  {
   "cell_type": "code",
   "execution_count": 1,
   "metadata": {},
   "outputs": [],
   "source": [
    "import logopack\n",
    "import os\n",
    "import pandas as pd"
   ]
  },
  {
   "cell_type": "markdown",
   "metadata": {},
   "source": [
    "## Load & Setup Model\n",
    "\n",
    "Teh linkmodel command link the netlogo model to python object.\n",
    "\n",
    ">Note: In Windows, pyNetLogo can interact with NetLogo GUI. However, Mac is not the case due to pyNetLogo bug. "
   ]
  },
  {
   "cell_type": "code",
   "execution_count": 10,
   "metadata": {},
   "outputs": [],
   "source": [
    "mitologo = logopack.linkmodel(os.path.join('model','mitochondrial-model_v6.nlogo'),gui=False ,setmodel=True)"
   ]
  },
  {
   "cell_type": "markdown",
   "metadata": {},
   "source": [
    "## Report Global Variables\n",
    "\n",
    "In mitochondrial netlogo model, global variables include:\n",
    "\n",
    "Variable_name ; description\n",
    "\n",
    "-  cx                 ;; x coordinate of the cell\n",
    "-  cy                 ;; y coordinate of the cell\n",
    "-  dim_dom            ;; dimension of the domain\n",
    "-  diam_nuc           ;; diameter of the nucelus\n",
    "-  dt                 ;; temporal increment\n",
    "-  sec                ;; second\n",
    "-  minute             ;; minute\n",
    "-  hour               ;; hour\n",
    "-  ds                 ;; spatial increment\n",
    "-  mito-step_far      ;; mitochondrial step\n",
    "-  mito-step_close    ;; mitochondrial step\n",
    "-  EN_stress_level    ;; energetic stress\n",
    "-  vel_far            ;; mitochondrial velocity\n",
    "-  vel_close          ;; mitochondrial velocity\n",
    "-  vel_far2           ;; mitochondrial velocity\n",
    "-  vel_close2         ;; mitochondrial velocity\n",
    "-  initial_tot_number ;; initial mitochondrial number\n",
    "-  MR_th              ;; MR threshold\n",
    "-  prob_fusIn         ;; probability of fusion\n",
    "-  prob_fisIn         ;; probability of fission\n",
    "-  prob_biogenesisIn  ;; probability of biogenesis\n",
    "-  prob_damIn         ;; probability of damage\n",
    "-  dam_th             ;; damage threshold\n",
    "-  totmass            ;; total mass of mitochondria\n",
    "-  critMass           ;; critical mass\n",
    "-  min_mito_mass      ;; min mitochondrial mass\n",
    "-  max_mito_mass      ;; max mitochondrial mass\n",
    "-  small              ;; mitochondria with size <= 1\n",
    "-  mid                ;; mitochondria with size in (1,2]\n",
    "-  big                ;; mitochondria with size > 2\n",
    "-  counter            ;; counter\n",
    "-  freq_fusionIn      ;; fusion frequency\n",
    "-  freq_fissionIn     ;; fission frequency\n",
    "-  freq_degIn         ;; degradation frequency\n",
    "-  freq_bioIn         ;; biogenesis frequency\n",
    "-  arrmito            ;; array of all mitochondria\n",
    "-  arrmitoDam         ;; array of all damaged mitochondria\n",
    "-  totmassGreen       ;; total mass of GFP labeled mitochondria\n",
    "-  totmassDam         ;; total mass of damaged mitochondria\n",
    "-  totmassLow         ;; total mass of low damaged mitochondria\n",
    "-  totmassHigh        ;; total mass of high damaged mitochondria\n"
   ]
  },
  {
   "cell_type": "code",
   "execution_count": 14,
   "metadata": {},
   "outputs": [
    {
     "data": {
      "text/plain": [
       "{'EN_stress_level': 0.0,\n",
       " 'MR_th': 660.0,\n",
       " 'big': 0.0,\n",
       " 'counter': 301.52926677270614,\n",
       " 'critMass': 1.0,\n",
       " 'cx': 25.0,\n",
       " 'cy': 25.0,\n",
       " 'dam_th': 600.0,\n",
       " 'diam_nuc': 16.666666666666668,\n",
       " 'dim_dom': 50.0,\n",
       " 'ds': 1.0,\n",
       " 'dt': 1.0,\n",
       " 'freq_bioIn': 1740.0,\n",
       " 'freq_degIn': 360.0,\n",
       " 'freq_fissionIn': 300.0,\n",
       " 'freq_fusionIn': 300.0,\n",
       " 'hour': 3600.0,\n",
       " 'initial_tot_number': 0.0,\n",
       " 'max_mito_mass': 3.0,\n",
       " 'mid': 0.0048589828498231905,\n",
       " 'min_mito_mass': 0.5,\n",
       " 'minute': 60.0,\n",
       " 'mito-step_close': 0.44,\n",
       " 'mito-step_far': 1.0,\n",
       " 'prob_biogenesisIn': 0.0,\n",
       " 'prob_damIn': 40.0,\n",
       " 'prob_fisIn': 50.0,\n",
       " 'prob_fusIn': 50.0,\n",
       " 'sec': 1.0,\n",
       " 'small': 0.10071103540551733,\n",
       " 'totmass': 0.10557001825534053,\n",
       " 'totmassDam': 0.1495676828543376,\n",
       " 'totmassGreen': 0.0,\n",
       " 'totmassHigh': 0.0,\n",
       " 'totmassLow': 0.0,\n",
       " 'vel_close': 0.32975471660615235,\n",
       " 'vel_close2': 0.00837854224631641,\n",
       " 'vel_far': 0.5717656845086678,\n",
       " 'vel_far2': 0.7889576422253649}"
      ]
     },
     "execution_count": 14,
     "metadata": {},
     "output_type": "execute_result"
    }
   ],
   "source": [
    "globs = mitologo.repglobal(['cx', 'cy', 'dim_dom', 'diam_nuc', 'dt', 'sec', 'minute', \n",
    "                    'hour', 'ds', 'mito-step_far', 'mito-step_close', 'EN_stress_level', \n",
    "                    'vel_far', 'vel_close', 'vel_far2', 'vel_close2', 'initial_tot_number', \n",
    "                    'MR_th', 'prob_fusIn', 'prob_fisIn', 'prob_biogenesisIn', 'prob_damIn', \n",
    "                    'dam_th', 'totmass', 'critMass', 'min_mito_mass', 'max_mito_mass', 'small',\n",
    "                    'mid', 'big', 'counter', 'freq_fusionIn', 'freq_fissionIn', 'freq_degIn',\n",
    "                    'freq_bioIn', 'totmassGreen', 'totmassDam', 'totmassLow', 'totmassHigh'])\n",
    "globs"
   ]
  },
  {
   "cell_type": "markdown",
   "metadata": {},
   "source": [
    "## Report Agent Variables\n",
    "\n",
    "#### Agent Types\n",
    "\n",
    "In [mitochondrial NetLogo model](http://journals.plos.org/plosone/article/file?type=supplementary&id=info:doi/10.1371/journal.pone.0168198.s009), agents are defined as \"breeds\" object.\n",
    "\n",
    "<table>\n",
    "  <tr>\n",
    "    <td>Breed Name</td>\n",
    "    <td>Description</td>\n",
    "    <td>Agent Variables</td>\n",
    "  </tr>\n",
    "  <tr>\n",
    "    <td>mitos</td>\n",
    "    <td>Mitochondria</td>\n",
    "    <td>'who','xcor','ycor','size','damage_level','mr_level','dam'</td>\n",
    "  </tr>\n",
    "  <tr>\n",
    "    <td>lysos</td>\n",
    "    <td>lysosomes. When it meets damaged mitochondrion, it will autophage mitochondrion then die. lysosomes' size remain 1.</td>\n",
    "    <td>'who','xcor','ycor','size'</td>\n",
    "  </tr>\n",
    "</table>\n",
    "\n",
    "#### Agent Figures\n",
    "\n",
    "Here is the graph in [mitochondrial NetLogo model](http://journals.plos.org/plosone/article/file?type=supplementary&id=info:doi/10.1371/journal.pone.0168198.s009)\n",
    "\n",
    "<table>\n",
    "  <tr>\n",
    "    <td>Healthy mitochondria</td>\n",
    "    <td>Damaged mitochondria</td>\n",
    "    <td>Ongoing mitochondrial autophagy</td>\n",
    "    <td>Mitochondrial autophagy</td>\n",
    "    <td>Lysosome</td>\n",
    "  </tr>\n",
    "</table>\n",
    "\n",
    "![mitomodel_agent-type](img/mitomodel_agent-type.png)"
   ]
  },
  {
   "cell_type": "code",
   "execution_count": 4,
   "metadata": {},
   "outputs": [
    {
     "data": {
      "text/html": [
       "<div>\n",
       "<style scoped>\n",
       "    .dataframe tbody tr th:only-of-type {\n",
       "        vertical-align: middle;\n",
       "    }\n",
       "\n",
       "    .dataframe tbody tr th {\n",
       "        vertical-align: top;\n",
       "    }\n",
       "\n",
       "    .dataframe thead th {\n",
       "        text-align: right;\n",
       "    }\n",
       "</style>\n",
       "<table border=\"1\" class=\"dataframe\">\n",
       "  <thead>\n",
       "    <tr style=\"text-align: right;\">\n",
       "      <th></th>\n",
       "      <th>dam</th>\n",
       "      <th>damage_level</th>\n",
       "      <th>mr_level</th>\n",
       "      <th>size</th>\n",
       "      <th>who</th>\n",
       "      <th>xcor</th>\n",
       "      <th>ycor</th>\n",
       "    </tr>\n",
       "  </thead>\n",
       "  <tbody>\n",
       "    <tr>\n",
       "      <th>0</th>\n",
       "      <td>False</td>\n",
       "      <td>0.0</td>\n",
       "      <td>0.0</td>\n",
       "      <td>0.606664</td>\n",
       "      <td>3.0</td>\n",
       "      <td>33.838925</td>\n",
       "      <td>5.788118</td>\n",
       "    </tr>\n",
       "    <tr>\n",
       "      <th>1</th>\n",
       "      <td>False</td>\n",
       "      <td>0.0</td>\n",
       "      <td>0.0</td>\n",
       "      <td>1.978244</td>\n",
       "      <td>4.0</td>\n",
       "      <td>8.427171</td>\n",
       "      <td>39.226555</td>\n",
       "    </tr>\n",
       "    <tr>\n",
       "      <th>2</th>\n",
       "      <td>False</td>\n",
       "      <td>0.0</td>\n",
       "      <td>0.0</td>\n",
       "      <td>0.632903</td>\n",
       "      <td>5.0</td>\n",
       "      <td>38.620313</td>\n",
       "      <td>30.762756</td>\n",
       "    </tr>\n",
       "    <tr>\n",
       "      <th>3</th>\n",
       "      <td>False</td>\n",
       "      <td>0.0</td>\n",
       "      <td>0.0</td>\n",
       "      <td>0.710612</td>\n",
       "      <td>6.0</td>\n",
       "      <td>23.610644</td>\n",
       "      <td>33.930114</td>\n",
       "    </tr>\n",
       "    <tr>\n",
       "      <th>4</th>\n",
       "      <td>False</td>\n",
       "      <td>0.0</td>\n",
       "      <td>0.0</td>\n",
       "      <td>1.907141</td>\n",
       "      <td>7.0</td>\n",
       "      <td>21.833756</td>\n",
       "      <td>16.096060</td>\n",
       "    </tr>\n",
       "  </tbody>\n",
       "</table>\n",
       "</div>"
      ],
      "text/plain": [
       "     dam  damage_level  mr_level      size  who       xcor       ycor\n",
       "0  False           0.0       0.0  0.606664  3.0  33.838925   5.788118\n",
       "1  False           0.0       0.0  1.978244  4.0   8.427171  39.226555\n",
       "2  False           0.0       0.0  0.632903  5.0  38.620313  30.762756\n",
       "3  False           0.0       0.0  0.710612  6.0  23.610644  33.930114\n",
       "4  False           0.0       0.0  1.907141  7.0  21.833756  16.096060"
      ]
     },
     "execution_count": 4,
     "metadata": {},
     "output_type": "execute_result"
    }
   ],
   "source": [
    "mitos = mitologo.repagents(breed_name= 'mitos',indexes=['who','xcor','ycor','size','damage_level','mr_level','dam'])\n",
    "pd.DataFrame(mitos).head()"
   ]
  },
  {
   "cell_type": "markdown",
   "metadata": {},
   "source": [
    "## Plot "
   ]
  },
  {
   "cell_type": "code",
   "execution_count": 5,
   "metadata": {},
   "outputs": [
    {
     "data": {
      "image/png": "[encoded data removed]",
      "text/plain": [
       "<Figure size 720x720 with 1 Axes>"
      ]
     },
     "metadata": {},
     "output_type": "display_data"
    }
   ],
   "source": [
    "import matplotlib.pyplot as plt\n",
    "fig, ax = mitologo.plotcell(figsize=(10,10))\n",
    "plt.savefig(r'img/plotcell.pdf')"
   ]
  },
  {
   "cell_type": "markdown",
   "metadata": {},
   "source": [
    "## Proceed the model- go command"
   ]
  },
  {
   "cell_type": "markdown",
   "metadata": {},
   "source": [
    "When comparing dic1 and dic2, you can notice that the number of the first id is always increasing. This is due to biogensis and inhilation of mitochondria "
   ]
  },
  {
   "cell_type": "code",
   "execution_count": 6,
   "metadata": {},
   "outputs": [
    {
     "data": {
      "text/plain": [
       "<Figure size 432x288 with 0 Axes>"
      ]
     },
     "metadata": {},
     "output_type": "display_data"
    },
    {
     "data": {
      "image/png": "[encoded data removed]",
      "text/plain": [
       "<Figure size 720x720 with 1 Axes>"
      ]
     },
     "metadata": {},
     "output_type": "display_data"
    },
    {
     "name": "stdout",
     "output_type": "stream",
     "text": [
      "CPU times: user 15.7 s, sys: 254 ms, total: 16 s\n",
      "Wall time: 9.28 s\n"
     ]
    }
   ],
   "source": [
    "%%time\n",
    "# Proceed 10000 times\n",
    "\n",
    "steps = 10000\n",
    "\n",
    "for i in range(0,1):\n",
    "    plt.figure()\n",
    "    mitologo.go(steps=steps)\n",
    "    dic1 = mitologo.repagents()\n",
    "    mitologo.plotcell(title='Condition on Ticks: '+str(int(mitologo.report('ticks'))))\n",
    "    plt.show()"
   ]
  },
  {
   "cell_type": "markdown",
   "metadata": {},
   "source": [
    "## Interactive widgets"
   ]
  },
  {
   "cell_type": "code",
   "execution_count": 11,
   "metadata": {},
   "outputs": [],
   "source": [
    "# Reset the model \n",
    "mitologo.setup()"
   ]
  },
  {
   "cell_type": "code",
   "execution_count": 12,
   "metadata": {},
   "outputs": [
    {
     "data": {
      "application/vnd.jupyter.widget-view+json": {
       "model_id": "55a0e7ee9b764dc8a0675f01010beecd",
       "version_major": 2,
       "version_minor": 0
      },
      "text/plain": [
       "VBox(children=(Output(layout=Layout(height='300px', width='400px')), Button(description='Next', style=ButtonSt…"
      ]
     },
     "metadata": {},
     "output_type": "display_data"
    }
   ],
   "source": [
    "%matplotlib inline\n",
    "\n",
    "# To prevent automatic figure display when execution of the cell ends\n",
    "%config InlineBackend.close_figures=False \n",
    "\n",
    "import matplotlib.pyplot as plt\n",
    "import numpy as np\n",
    "from matplotlib.patches import Circle\n",
    "from matplotlib.collections import PatchCollection\n",
    "from ipywidgets import Layout, widgets\n",
    "from IPython.display import display,clear_output\n",
    "\n",
    "# ASSIGN STEPS\n",
    "steps = 1000\n",
    "\n",
    "plt.ioff()\n",
    "ax=plt.gca()\n",
    "out=widgets.Output(layout=Layout(height='300px', width = '400px'))\n",
    "# Add patches\n",
    "patches = []\n",
    "patches.append(Circle((mitologo.glob['cx'],mitologo.glob['cy']),mitologo.glob['diam_nuc']/2.0)) # Nucleus\n",
    "patches.append(Circle((mitologo.glob['cx'],mitologo.glob['cy']),mitologo.glob['dim_dom']/2.0)) # Cell\n",
    "\n",
    "# define collection\n",
    "p = PatchCollection(patches, alpha=0.4)\n",
    "button=widgets.Button(description='Next')\n",
    "vbox=widgets.VBox(children=(out,button))\n",
    "display(vbox)\n",
    "\n",
    "def click(b):\n",
    "    ax.clear()\n",
    "    plt.axis([0, mitologo.glob['dim_dom'], 0, mitologo.glob['dim_dom']])\n",
    "    ax.scatter(mitologo.agents['xcor'], mitologo.agents['ycor'], s=4)\n",
    "\n",
    "    ax.set_xlabel('xcor ($\\mu m$)')\n",
    "    ax.set_ylabel('ycor ($\\mu m$)')\n",
    "    ax.set_aspect('equal')\n",
    "    ax.add_collection(p)\n",
    "    plt.title('Condition on Ticks: '+str(int(mitologo.report('ticks'))))\n",
    "    with out:\n",
    "        mitologo.go(steps=steps)\n",
    "        clear_output(wait=True)\n",
    "        display(ax.figure)\n",
    "\n",
    "button.on_click(click)\n",
    "click(None)"
   ]
  },
  {
   "cell_type": "markdown",
   "metadata": {},
   "source": [
    "### Shutdown"
   ]
  },
  {
   "cell_type": "code",
   "execution_count": 9,
   "metadata": {},
   "outputs": [],
   "source": [
    "# mitologo.kill_workspace()"
   ]
  }
 ],
 "metadata": {
  "kernelspec": {
   "display_name": "Python 3",
   "language": "python",
   "name": "python3"
  },
  "language_info": {
   "codemirror_mode": {
    "name": "ipython",
    "version": 3
   },
   "file_extension": ".py",
   "mimetype": "text/x-python",
   "name": "python",
   "nbconvert_exporter": "python",
   "pygments_lexer": "ipython3",
   "version": "3.6.4"
  }
 },
 "nbformat": 4,
 "nbformat_minor": 2
}
