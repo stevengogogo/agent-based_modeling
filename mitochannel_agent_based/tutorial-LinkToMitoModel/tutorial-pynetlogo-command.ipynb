{
 "cells": [
  {
   "cell_type": "markdown",
   "metadata": {},
   "source": [
    "# NetLogo Command and PyNetlogo\n",
    "\n",
    "Organized common commands to link to [mitochondrial netlogo model](http://journals.plos.org/plosone/article/file?type=supplementary&id=info:doi/10.1371/journal.pone.0168198.s009)\n",
    "\n",
    "Ref: [Agent-Based Modeling of Mitochondria Links Sub-Cellular Dynamics to Cellular Homeostasis and Heterogeneity\n",
    "](https://doi.org/10.1371/journal.pone.0168198)"
   ]
  },
  {
   "cell_type": "markdown",
   "metadata": {},
   "source": [
    "## Load Model"
   ]
  },
  {
   "cell_type": "code",
   "execution_count": 1,
   "metadata": {},
   "outputs": [],
   "source": [
    "import pyNetLogo as nl\n",
    "\n",
    "# Link object\n",
    "mitologo = nl.NetLogoLink(gui=False)\n",
    "\n",
    "# Load model\n",
    "mitologo.load_model(r'model/mitochondrial-model_v6.nlogo')"
   ]
  },
  {
   "cell_type": "markdown",
   "metadata": {},
   "source": [
    "## Setup Model"
   ]
  },
  {
   "cell_type": "code",
   "execution_count": 12,
   "metadata": {},
   "outputs": [],
   "source": [
    "# Command method\n",
    "mitologo.command('setup')"
   ]
  },
  {
   "cell_type": "markdown",
   "metadata": {},
   "source": [
    "## Report\n",
    "\n",
    "In NetLogo, [sort](http://ccl.northwestern.edu/netlogo/docs/dict/sort.html) command can sort the array from lower to greater. \"sort mitos\" command sorts mitos based on id "
   ]
  },
  {
   "cell_type": "code",
   "execution_count": 3,
   "metadata": {},
   "outputs": [],
   "source": [
    "# Report method\n",
    "x = mitologo.report('map [ s -> [xcor] of s] sort mitos')\n",
    "y = mitologo.report('map [s -> [ycor] of s] sort mitos')\n",
    "ids = mitologo.report('map [s -> [who] of s] sort mitos')"
   ]
  },
  {
   "cell_type": "markdown",
   "metadata": {},
   "source": [
    "## Store in Pandas"
   ]
  },
  {
   "cell_type": "code",
   "execution_count": 4,
   "metadata": {},
   "outputs": [
    {
     "data": {
      "text/html": [
       "<div>\n",
       "<style scoped>\n",
       "    .dataframe tbody tr th:only-of-type {\n",
       "        vertical-align: middle;\n",
       "    }\n",
       "\n",
       "    .dataframe tbody tr th {\n",
       "        vertical-align: top;\n",
       "    }\n",
       "\n",
       "    .dataframe thead th {\n",
       "        text-align: right;\n",
       "    }\n",
       "</style>\n",
       "<table border=\"1\" class=\"dataframe\">\n",
       "  <thead>\n",
       "    <tr style=\"text-align: right;\">\n",
       "      <th></th>\n",
       "      <th>id</th>\n",
       "      <th>xpos</th>\n",
       "      <th>ypos</th>\n",
       "    </tr>\n",
       "  </thead>\n",
       "  <tbody>\n",
       "    <tr>\n",
       "      <th>0</th>\n",
       "      <td>3.0</td>\n",
       "      <td>25.382625</td>\n",
       "      <td>14.069575</td>\n",
       "    </tr>\n",
       "    <tr>\n",
       "      <th>1</th>\n",
       "      <td>4.0</td>\n",
       "      <td>28.131109</td>\n",
       "      <td>12.855487</td>\n",
       "    </tr>\n",
       "    <tr>\n",
       "      <th>2</th>\n",
       "      <td>5.0</td>\n",
       "      <td>15.090531</td>\n",
       "      <td>32.364420</td>\n",
       "    </tr>\n",
       "    <tr>\n",
       "      <th>3</th>\n",
       "      <td>6.0</td>\n",
       "      <td>12.523595</td>\n",
       "      <td>44.129983</td>\n",
       "    </tr>\n",
       "    <tr>\n",
       "      <th>4</th>\n",
       "      <td>7.0</td>\n",
       "      <td>39.446933</td>\n",
       "      <td>6.993968</td>\n",
       "    </tr>\n",
       "  </tbody>\n",
       "</table>\n",
       "</div>"
      ],
      "text/plain": [
       "    id       xpos       ypos\n",
       "0  3.0  25.382625  14.069575\n",
       "1  4.0  28.131109  12.855487\n",
       "2  5.0  15.090531  32.364420\n",
       "3  6.0  12.523595  44.129983\n",
       "4  7.0  39.446933   6.993968"
      ]
     },
     "execution_count": 4,
     "metadata": {},
     "output_type": "execute_result"
    }
   ],
   "source": [
    "import pandas as pd\n",
    "import numpy as np\n",
    "agents = pd.DataFrame({\n",
    "                        'id': ids,\n",
    "                        'xpos': x,\n",
    "                        'ypos': y\n",
    "                    })\n",
    "agents.head()"
   ]
  },
  {
   "cell_type": "markdown",
   "metadata": {},
   "source": [
    "## Plot"
   ]
  },
  {
   "cell_type": "code",
   "execution_count": 6,
   "metadata": {},
   "outputs": [
    {
     "data": {
      "image/png": "[encoded data removed]",
      "text/plain": [
       "<matplotlib.figure.Figure at 0x725981320>"
      ]
     },
     "metadata": {},
     "output_type": "display_data"
    }
   ],
   "source": [
    "import seaborn as sns\n",
    "import matplotlib.pyplot as plt\n",
    "# Seaborn\n",
    "# sns.distplot(x=agents['xpos'], y=agents[\"ypos\"], kind='kde')\n",
    "# sns.distplot(x=agents['xpos'], y=agents[\"ypos\"], kind='scatter')\n",
    "\n",
    "# Plot\n",
    "fig, ax = plt.subplots(1)\n",
    "\n",
    "plt.title('Mitochondria Location')\n",
    "ax.scatter(agents['xpos'], agents['ypos'], s=4)\n",
    "ax.set_xlabel('xcor')\n",
    "ax.set_ylabel('ycor')\n",
    "ax.set_aspect('equal')\n",
    "\n",
    "plt.show()"
   ]
  },
  {
   "cell_type": "markdown",
   "metadata": {},
   "source": [
    "## Get Global Variables\n",
    "\n",
    "* To do list:\n",
    "    - arrmito and arrmitoDam are Netlogo array which can not report to pyNetLogo"
   ]
  },
  {
   "cell_type": "code",
   "execution_count": 9,
   "metadata": {},
   "outputs": [],
   "source": [
    "\n",
    "glob = {\n",
    "  'cx': mitologo.report('cx'),                 #;; x coordinate of the cell\n",
    "  'cy': mitologo.report('cy'),                #;; y coordinate of the cell\n",
    "  'dim_dom': mitologo.report('dim_dom'),            #;; dimension of the domain\n",
    "  'diam_nuc': mitologo.report('diam_nuc'),           #;; diameter of the nucelus\n",
    "  'dt': mitologo.report('dt'),                 #;; temporal increment\n",
    "  'sec': mitologo.report('sec'),                #;; second\n",
    "  'minute': mitologo.report('minute'),             #;; minute\n",
    "  'hour': mitologo.report('hour'),               #;; hour\n",
    "  'ds': mitologo.report('ds'),                 #;; spatial increment\n",
    "  'mito-step_far': mitologo.report('mito-step_far'),      #;; mitochondrial step\n",
    "  'mito-step_close': mitologo.report('mito-step_close'),    #;; mitochondrial step\n",
    "  'EN_stress_level': mitologo.report('EN_stress_level'),    #;; energetic stress\n",
    "  'vel_far': mitologo.report('vel_far'),            #;; mitochondrial velocity\n",
    "  'vel_close': mitologo.report('vel_close'),          #;; mitochondrial velocity\n",
    "  'vel_far2': mitologo.report('vel_far2'),           #;; mitochondrial velocity\n",
    "  'vel_close2': mitologo.report('vel_close2'),         #;; mitochondrial velocity\n",
    "  'initial_tot_number': mitologo.report('initial_tot_number'), #;; initial mitochondrial number\n",
    "  'MR_th': mitologo.report('MR_th'),              #;; MR threshold\n",
    "  'prob_fusIn': mitologo.report('prob_fusIn'),         #;; probability of fusion\n",
    "  'prob_fisIn': mitologo.report('prob_fisIn'),        #;; probability of fission\n",
    "  'prob_biogenesisIn': mitologo.report('prob_biogenesisIn'),  #;; probability of biogenesis\n",
    "  'prob_damIn': mitologo.report('prob_damIn'),         #;; probability of damage\n",
    "  'dam_th': mitologo.report('dam_th'),             #;; damage threshold\n",
    "  'totmass': mitologo.report('totmass'),            #;; total mass of mitochondria\n",
    "  'critMass': mitologo.report('critMass'),           #;; critical mass\n",
    "  'min_mito_mass': mitologo.report('min_mito_mass'),      #;; min mitochondrial mass\n",
    "  'max_mito_mass': mitologo.report('max_mito_mass'),      #;; max mitochondrial mass\n",
    "  'small': mitologo.report('small'),              #;; mitochondria with size <= 1\n",
    "  'mid': mitologo.report('mid'),                #;; mitochondria with size in (1,2]\n",
    "  'big': mitologo.report('big'),                #;; mitochondria with size > 2\n",
    "  'counter': mitologo.report('counter'),            #;; counter\n",
    "  'freq_fusionIn': mitologo.report('freq_fusionIn'),      #;; fusion frequency\n",
    "  'freq_fissionIn': mitologo.report('freq_fissionIn'),     #;; fission frequency\n",
    "  'freq_degIn': mitologo.report('freq_degIn'),         #;; degradation frequency\n",
    "  'freq_bioIn': mitologo.report('freq_bioIn'),         #;; biogenesis frequency\n",
    "  #'arrmito': mitologo.report('arrmito'),            #;; array of all mitochondria\n",
    "  #'arrmitoDam': mitologo.report('arrmitoDam'),         #;; array of all damaged mitochondria\n",
    "  'totmassGreen': mitologo.report('totmassGreen'),       #;; total mass of GFP labeled mitochondria\n",
    "  'totmassDam': mitologo.report('totmassDam'),         #;; total mass of damaged mitochondria\n",
    "  'totmassLow': mitologo.report('totmassLow'),         #;; total mass of low damaged mitochondria\n",
    "  'totmassHigh': mitologo.report('totmassHigh')        #;; total mass of high damaged mitochondria\n",
    "    }"
   ]
  },
  {
   "cell_type": "code",
   "execution_count": 11,
   "metadata": {},
   "outputs": [
    {
     "data": {
      "text/plain": [
       "dict_keys(['cx', 'cy', 'dim_dom', 'diam_nuc', 'dt', 'sec', 'minute', 'hour', 'ds', 'mito-step_far', 'mito-step_close', 'EN_stress_level', 'vel_far', 'vel_close', 'vel_far2', 'vel_close2', 'initial_tot_number', 'MR_th', 'prob_fusIn', 'prob_fisIn', 'prob_biogenesisIn', 'prob_damIn', 'dam_th', 'totmass', 'critMass', 'min_mito_mass', 'max_mito_mass', 'small', 'mid', 'big', 'counter', 'freq_fusionIn', 'freq_fissionIn', 'freq_degIn', 'freq_bioIn', 'totmassGreen', 'totmassDam', 'totmassLow', 'totmassHigh'])"
      ]
     },
     "execution_count": 11,
     "metadata": {},
     "output_type": "execute_result"
    }
   ],
   "source": []
  }
 ],
 "metadata": {
  "kernelspec": {
   "display_name": "Python 3",
   "language": "python",
   "name": "python3"
  },
  "language_info": {
   "codemirror_mode": {
    "name": "ipython",
    "version": 3
   },
   "file_extension": ".py",
   "mimetype": "text/x-python",
   "name": "python",
   "nbconvert_exporter": "python",
   "pygments_lexer": "ipython3",
   "version": "3.6.4"
  }
 },
 "nbformat": 4,
 "nbformat_minor": 2
}
