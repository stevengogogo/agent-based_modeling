{
 "cells": [
  {
   "cell_type": "markdown",
   "metadata": {},
   "source": [
    "## SALib Sensitivity analysis"
   ]
  },
  {
   "cell_type": "code",
   "execution_count": 1,
   "metadata": {},
   "outputs": [],
   "source": [
    "import numpy as np\n",
    "import pandas as pd\n",
    "import matplotlib.pyplot as plt\n",
    "import seaborn as sns\n",
    "import pyNetLogo\n",
    "\n",
    "# Import variance-based sensitivity analysis\n",
    "from SALib.sample import saltelli\n",
    "from SALib.analyze import sobol"
   ]
  },
  {
   "cell_type": "code",
   "execution_count": 2,
   "metadata": {},
   "outputs": [],
   "source": [
    "problem = {\n",
    "    'num_vars':6,\n",
    "    'names': ['random-seed',\n",
    "            'grass-regrowth-time',\n",
    "            'sheep-gain-from-food',\n",
    "            'wolf-gain-from-food',\n",
    "            'sheep-reproduce',\n",
    "            'wolf-reproduce'], \n",
    "  'bounds': [[1, 100000],\n",
    "             [20., 40.], \n",
    "             [2., 8.], \n",
    "             [16., 32.],\n",
    "             [2., 8.],\n",
    "             [2., 8.]]\n",
    "}"
   ]
  },
  {
   "cell_type": "code",
   "execution_count": 3,
   "metadata": {},
   "outputs": [],
   "source": [
    "netlogo = pyNetLogo.NetLogoLink(gui=False)\n",
    "netlogo.load_model(r'Wolf Sheep Predation_v6.nlogo')"
   ]
  },
  {
   "cell_type": "code",
   "execution_count": 4,
   "metadata": {},
   "outputs": [],
   "source": [
    "n = 1000\n",
    "param_values = saltelli.sample(problem, n, calc_second_order=True)"
   ]
  },
  {
   "cell_type": "code",
   "execution_count": 5,
   "metadata": {},
   "outputs": [
    {
     "data": {
      "text/plain": [
       "(14000, 6)"
      ]
     },
     "execution_count": 5,
     "metadata": {},
     "output_type": "execute_result"
    }
   ],
   "source": [
    "param_values.shape"
   ]
  },
  {
   "cell_type": "markdown",
   "metadata": {},
   "source": [
    "## How to start parallel engine\n",
    "Before running following cells, you need to open Anaconda Prompt, and run the following code:\n",
    "\n",
    "ipcluster nbextension enable\n",
    "\n",
    "ipcluster start -n 4 "
   ]
  },
  {
   "cell_type": "code",
   "execution_count": 6,
   "metadata": {},
   "outputs": [
    {
     "data": {
      "text/plain": [
       "[0, 1, 2, 3]"
      ]
     },
     "execution_count": 6,
     "metadata": {},
     "output_type": "execute_result"
    }
   ],
   "source": [
    "import ipyparallel\n",
    "\n",
    "client = ipyparallel.Client()\n",
    "client.ids"
   ]
  },
  {
   "cell_type": "code",
   "execution_count": 7,
   "metadata": {},
   "outputs": [],
   "source": [
    "results = pd.DataFrame(columns=['Avg. sheep', 'Avg. wolves'])"
   ]
  },
  {
   "cell_type": "code",
   "execution_count": 8,
   "metadata": {},
   "outputs": [],
   "source": [
    "direct_view = client[:]"
   ]
  },
  {
   "cell_type": "code",
   "execution_count": 9,
   "metadata": {},
   "outputs": [],
   "source": [
    "def simulation(experiment):\n",
    "    #Set the input parameters\n",
    "    for i, name in enumerate(problem['names']):\n",
    "        if name == 'random-seed':\n",
    "            #The NetLogo random seed requires a different syntax\n",
    "            netlogo.command('random-seed {}'.format(experiment[i]))\n",
    "        else:\n",
    "            #Otherwise, assume the input parameters are global variables\n",
    "            netlogo.command('set {0} {1}'.format(name, experiment[i]))\n",
    "\n",
    "    netlogo.command('setup')\n",
    "    #Run for 100 ticks and return the number of sheep and wolf agents at each time step\n",
    "    counts = netlogo.repeat_report(['count sheep','count wolves'], 100)    \n",
    "    \n",
    "    results = pd.Series([counts['count sheep'].values.mean(), \n",
    "                         counts['count wolves'].values.mean()], \n",
    "                         index=['Avg. sheep', 'Avg. wolves'])\n",
    "    \n",
    "    return results"
   ]
  },
  {
   "cell_type": "code",
   "execution_count": 10,
   "metadata": {},
   "outputs": [
    {
     "data": {
      "text/plain": [
       "<AsyncResult: _push>"
      ]
     },
     "execution_count": 10,
     "metadata": {},
     "output_type": "execute_result"
    }
   ],
   "source": [
    "import os\n",
    "\n",
    "direct_view.push(dict(cwd=os.getcwd()))"
   ]
  },
  {
   "cell_type": "code",
   "execution_count": 11,
   "metadata": {},
   "outputs": [],
   "source": [
    "%%px\n",
    "\n",
    "import os\n",
    "os.chdir(cwd)\n",
    "import pyNetLogo\n",
    "import pandas as pd\n",
    "\n",
    "netlogo = pyNetLogo.NetLogoLink(gui=False)\n",
    "netlogo.load_model(r'Wolf Sheep Predation_v6.nlogo')"
   ]
  },
  {
   "cell_type": "code",
   "execution_count": 12,
   "metadata": {},
   "outputs": [
    {
     "ename": "CompositeError",
     "evalue": "one or more exceptions from call to method: simulation\n[3:apply]: NameError: name 'problem' is not defined\n[2:apply]: NameError: name 'problem' is not defined\n[1:apply]: NameError: name 'problem' is not defined\n[0:apply]: NameError: name 'problem' is not defined\n.... 13996 more exceptions ...",
     "output_type": "error",
     "traceback": [
      "[3:apply]: ",
      "\u001b[1;31m---------------------------------------------------------------------------\u001b[0m\u001b[1;31mNameError\u001b[0m                                 Traceback (most recent call last)\u001b[1;32m<string>\u001b[0m in \u001b[0;36m<module>\u001b[1;34m()\u001b[0m",
      "\u001b[1;32mC:\\Users\\Stevenchiu\\Anaconda3\\lib\\site-packages\\ipyparallel\\client\\remotefunction.py\u001b[0m in \u001b[0;36m<lambda>\u001b[1;34m(f, *sequences)\u001b[0m",
      "\u001b[0;32m    141\u001b[0m \u001b[1;33m\u001b[0m\u001b[0m",
      "\u001b[0;32m    142\u001b[0m \u001b[1;32mif\u001b[0m \u001b[0msys\u001b[0m\u001b[1;33m.\u001b[0m\u001b[0mversion_info\u001b[0m\u001b[1;33m[\u001b[0m\u001b[1;36m0\u001b[0m\u001b[1;33m]\u001b[0m \u001b[1;33m>=\u001b[0m \u001b[1;36m3\u001b[0m\u001b[1;33m:\u001b[0m\u001b[1;33m\u001b[0m\u001b[0m",
      "\u001b[1;32m--> 143\u001b[1;33m     \u001b[0m_map\u001b[0m \u001b[1;33m=\u001b[0m \u001b[1;32mlambda\u001b[0m \u001b[0mf\u001b[0m\u001b[1;33m,\u001b[0m \u001b[1;33m*\u001b[0m\u001b[0msequences\u001b[0m\u001b[1;33m:\u001b[0m \u001b[0mlist\u001b[0m\u001b[1;33m(\u001b[0m\u001b[0mmap\u001b[0m\u001b[1;33m(\u001b[0m\u001b[0mf\u001b[0m\u001b[1;33m,\u001b[0m \u001b[1;33m*\u001b[0m\u001b[0msequences\u001b[0m\u001b[1;33m)\u001b[0m\u001b[1;33m)\u001b[0m\u001b[1;33m\u001b[0m\u001b[0m",
      "\u001b[0m\u001b[0;32m    144\u001b[0m \u001b[1;32melse\u001b[0m\u001b[1;33m:\u001b[0m\u001b[1;33m\u001b[0m\u001b[0m",
      "\u001b[0;32m    145\u001b[0m     \u001b[0m_map\u001b[0m \u001b[1;33m=\u001b[0m \u001b[0mmap\u001b[0m\u001b[1;33m\u001b[0m\u001b[0m",
      "\u001b[1;32m<ipython-input-9-91c71337a110>\u001b[0m in \u001b[0;36msimulation\u001b[1;34m(experiment)\u001b[0m",
      "\u001b[1;31mNameError\u001b[0m: name 'problem' is not defined",
      "",
      "[2:apply]: ",
      "\u001b[1;31m---------------------------------------------------------------------------\u001b[0m\u001b[1;31mNameError\u001b[0m                                 Traceback (most recent call last)\u001b[1;32m<string>\u001b[0m in \u001b[0;36m<module>\u001b[1;34m()\u001b[0m",
      "\u001b[1;32mC:\\Users\\Stevenchiu\\Anaconda3\\lib\\site-packages\\ipyparallel\\client\\remotefunction.py\u001b[0m in \u001b[0;36m<lambda>\u001b[1;34m(f, *sequences)\u001b[0m",
      "\u001b[0;32m    141\u001b[0m \u001b[1;33m\u001b[0m\u001b[0m",
      "\u001b[0;32m    142\u001b[0m \u001b[1;32mif\u001b[0m \u001b[0msys\u001b[0m\u001b[1;33m.\u001b[0m\u001b[0mversion_info\u001b[0m\u001b[1;33m[\u001b[0m\u001b[1;36m0\u001b[0m\u001b[1;33m]\u001b[0m \u001b[1;33m>=\u001b[0m \u001b[1;36m3\u001b[0m\u001b[1;33m:\u001b[0m\u001b[1;33m\u001b[0m\u001b[0m",
      "\u001b[1;32m--> 143\u001b[1;33m     \u001b[0m_map\u001b[0m \u001b[1;33m=\u001b[0m \u001b[1;32mlambda\u001b[0m \u001b[0mf\u001b[0m\u001b[1;33m,\u001b[0m \u001b[1;33m*\u001b[0m\u001b[0msequences\u001b[0m\u001b[1;33m:\u001b[0m \u001b[0mlist\u001b[0m\u001b[1;33m(\u001b[0m\u001b[0mmap\u001b[0m\u001b[1;33m(\u001b[0m\u001b[0mf\u001b[0m\u001b[1;33m,\u001b[0m \u001b[1;33m*\u001b[0m\u001b[0msequences\u001b[0m\u001b[1;33m)\u001b[0m\u001b[1;33m)\u001b[0m\u001b[1;33m\u001b[0m\u001b[0m",
      "\u001b[0m\u001b[0;32m    144\u001b[0m \u001b[1;32melse\u001b[0m\u001b[1;33m:\u001b[0m\u001b[1;33m\u001b[0m\u001b[0m",
      "\u001b[0;32m    145\u001b[0m     \u001b[0m_map\u001b[0m \u001b[1;33m=\u001b[0m \u001b[0mmap\u001b[0m\u001b[1;33m\u001b[0m\u001b[0m",
      "\u001b[1;32m<ipython-input-9-91c71337a110>\u001b[0m in \u001b[0;36msimulation\u001b[1;34m(experiment)\u001b[0m",
      "\u001b[1;31mNameError\u001b[0m: name 'problem' is not defined",
      "",
      "[1:apply]: ",
      "\u001b[1;31m---------------------------------------------------------------------------\u001b[0m\u001b[1;31mNameError\u001b[0m                                 Traceback (most recent call last)\u001b[1;32m<string>\u001b[0m in \u001b[0;36m<module>\u001b[1;34m()\u001b[0m",
      "\u001b[1;32mC:\\Users\\Stevenchiu\\Anaconda3\\lib\\site-packages\\ipyparallel\\client\\remotefunction.py\u001b[0m in \u001b[0;36m<lambda>\u001b[1;34m(f, *sequences)\u001b[0m",
      "\u001b[0;32m    141\u001b[0m \u001b[1;33m\u001b[0m\u001b[0m",
      "\u001b[0;32m    142\u001b[0m \u001b[1;32mif\u001b[0m \u001b[0msys\u001b[0m\u001b[1;33m.\u001b[0m\u001b[0mversion_info\u001b[0m\u001b[1;33m[\u001b[0m\u001b[1;36m0\u001b[0m\u001b[1;33m]\u001b[0m \u001b[1;33m>=\u001b[0m \u001b[1;36m3\u001b[0m\u001b[1;33m:\u001b[0m\u001b[1;33m\u001b[0m\u001b[0m",
      "\u001b[1;32m--> 143\u001b[1;33m     \u001b[0m_map\u001b[0m \u001b[1;33m=\u001b[0m \u001b[1;32mlambda\u001b[0m \u001b[0mf\u001b[0m\u001b[1;33m,\u001b[0m \u001b[1;33m*\u001b[0m\u001b[0msequences\u001b[0m\u001b[1;33m:\u001b[0m \u001b[0mlist\u001b[0m\u001b[1;33m(\u001b[0m\u001b[0mmap\u001b[0m\u001b[1;33m(\u001b[0m\u001b[0mf\u001b[0m\u001b[1;33m,\u001b[0m \u001b[1;33m*\u001b[0m\u001b[0msequences\u001b[0m\u001b[1;33m)\u001b[0m\u001b[1;33m)\u001b[0m\u001b[1;33m\u001b[0m\u001b[0m",
      "\u001b[0m\u001b[0;32m    144\u001b[0m \u001b[1;32melse\u001b[0m\u001b[1;33m:\u001b[0m\u001b[1;33m\u001b[0m\u001b[0m",
      "\u001b[0;32m    145\u001b[0m     \u001b[0m_map\u001b[0m \u001b[1;33m=\u001b[0m \u001b[0mmap\u001b[0m\u001b[1;33m\u001b[0m\u001b[0m",
      "\u001b[1;32m<ipython-input-9-91c71337a110>\u001b[0m in \u001b[0;36msimulation\u001b[1;34m(experiment)\u001b[0m",
      "\u001b[1;31mNameError\u001b[0m: name 'problem' is not defined",
      "",
      "[0:apply]: ",
      "\u001b[1;31m---------------------------------------------------------------------------\u001b[0m\u001b[1;31mNameError\u001b[0m                                 Traceback (most recent call last)\u001b[1;32m<string>\u001b[0m in \u001b[0;36m<module>\u001b[1;34m()\u001b[0m",
      "\u001b[1;32mC:\\Users\\Stevenchiu\\Anaconda3\\lib\\site-packages\\ipyparallel\\client\\remotefunction.py\u001b[0m in \u001b[0;36m<lambda>\u001b[1;34m(f, *sequences)\u001b[0m",
      "\u001b[0;32m    141\u001b[0m \u001b[1;33m\u001b[0m\u001b[0m",
      "\u001b[0;32m    142\u001b[0m \u001b[1;32mif\u001b[0m \u001b[0msys\u001b[0m\u001b[1;33m.\u001b[0m\u001b[0mversion_info\u001b[0m\u001b[1;33m[\u001b[0m\u001b[1;36m0\u001b[0m\u001b[1;33m]\u001b[0m \u001b[1;33m>=\u001b[0m \u001b[1;36m3\u001b[0m\u001b[1;33m:\u001b[0m\u001b[1;33m\u001b[0m\u001b[0m",
      "\u001b[1;32m--> 143\u001b[1;33m     \u001b[0m_map\u001b[0m \u001b[1;33m=\u001b[0m \u001b[1;32mlambda\u001b[0m \u001b[0mf\u001b[0m\u001b[1;33m,\u001b[0m \u001b[1;33m*\u001b[0m\u001b[0msequences\u001b[0m\u001b[1;33m:\u001b[0m \u001b[0mlist\u001b[0m\u001b[1;33m(\u001b[0m\u001b[0mmap\u001b[0m\u001b[1;33m(\u001b[0m\u001b[0mf\u001b[0m\u001b[1;33m,\u001b[0m \u001b[1;33m*\u001b[0m\u001b[0msequences\u001b[0m\u001b[1;33m)\u001b[0m\u001b[1;33m)\u001b[0m\u001b[1;33m\u001b[0m\u001b[0m",
      "\u001b[0m\u001b[0;32m    144\u001b[0m \u001b[1;32melse\u001b[0m\u001b[1;33m:\u001b[0m\u001b[1;33m\u001b[0m\u001b[0m",
      "\u001b[0;32m    145\u001b[0m     \u001b[0m_map\u001b[0m \u001b[1;33m=\u001b[0m \u001b[0mmap\u001b[0m\u001b[1;33m\u001b[0m\u001b[0m",
      "\u001b[1;32m<ipython-input-9-91c71337a110>\u001b[0m in \u001b[0;36msimulation\u001b[1;34m(experiment)\u001b[0m",
      "\u001b[1;31mNameError\u001b[0m: name 'problem' is not defined",
      "",
      "... 13996 more exceptions ..."
     ]
    }
   ],
   "source": [
    "import time\n",
    "\n",
    "t0 = time.time()\n",
    "\n",
    "lview = client.load_balanced_view()\n",
    "\n",
    "results = pd.DataFrame(lview.map_sync(simulation, param_values))\n",
    "\n",
    "elapsed = time.time() - t0\n"
   ]
  },
  {
   "cell_type": "code",
   "execution_count": null,
   "metadata": {},
   "outputs": [],
   "source": [
    "print(elapsed, ' seconds')"
   ]
  },
  {
   "cell_type": "code",
   "execution_count": null,
   "metadata": {},
   "outputs": [],
   "source": [
    "results.to_csv('Sobol_parallel.csv')"
   ]
  },
  {
   "cell_type": "code",
   "execution_count": null,
   "metadata": {},
   "outputs": [],
   "source": [
    "results.head(5)"
   ]
  },
  {
   "cell_type": "code",
   "execution_count": null,
   "metadata": {},
   "outputs": [],
   "source": []
  }
 ],
 "metadata": {
  "kernelspec": {
   "display_name": "Python 3",
   "language": "python",
   "name": "python3"
  },
  "language_info": {
   "codemirror_mode": {
    "name": "ipython",
    "version": 3
   },
   "file_extension": ".py",
   "mimetype": "text/x-python",
   "name": "python",
   "nbconvert_exporter": "python",
   "pygments_lexer": "ipython3",
   "version": "3.6.4"
  }
 },
 "nbformat": 4,
 "nbformat_minor": 2
}
