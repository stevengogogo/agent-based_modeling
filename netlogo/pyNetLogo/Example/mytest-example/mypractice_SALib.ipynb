{
 "cells": [
  {
   "cell_type": "markdown",
   "metadata": {},
   "source": [
    "## SALib Sensitivity analysis"
   ]
  },
  {
   "cell_type": "code",
   "execution_count": 1,
   "metadata": {},
   "outputs": [],
   "source": [
    "import numpy as np\n",
    "import pandas as pd\n",
    "import matplotlib.pyplot as plt\n",
    "import seaborn as sns\n",
    "import pyNetLogo\n",
    "\n",
    "# Import variance-based sensitivity analysis\n",
    "from SALib.sample import saltelli\n",
    "from SALib.analyze import sobol"
   ]
  },
  {
   "cell_type": "code",
   "execution_count": 2,
   "metadata": {},
   "outputs": [],
   "source": [
    "problem = {\n",
    "    'num_vars':6,\n",
    "    'names': ['random-seed',\n",
    "            'grass-regrowth-time',\n",
    "            'sheep-gain-from-food',\n",
    "            'wolf-gain-from-food',\n",
    "            'sheep-reproduce',\n",
    "            'wolf-reproduce'], \n",
    "  'bounds': [[1, 100000],\n",
    "             [20., 40.], \n",
    "             [2., 8.], \n",
    "             [16., 32.],\n",
    "             [2., 8.],\n",
    "             [2., 8.]]\n",
    "}"
   ]
  },
  {
   "cell_type": "code",
   "execution_count": 3,
   "metadata": {},
   "outputs": [],
   "source": [
    "netlogo = pyNetLogo.NetLogoLink(gui=False)\n",
    "netlogo.load_model(r'Wolf Sheep Predation_v6.nlogo')"
   ]
  },
  {
   "cell_type": "code",
   "execution_count": 4,
   "metadata": {},
   "outputs": [],
   "source": [
    "n = 1000\n",
    "param_values = saltelli.sample(problem, n, calc_second_order=True)"
   ]
  },
  {
   "cell_type": "code",
   "execution_count": 5,
   "metadata": {},
   "outputs": [
    {
     "data": {
      "text/plain": [
       "(14000, 6)"
      ]
     },
     "execution_count": 5,
     "metadata": {},
     "output_type": "execute_result"
    }
   ],
   "source": [
    "param_values.shape"
   ]
  },
  {
   "cell_type": "code",
   "execution_count": null,
   "metadata": {},
   "outputs": [],
   "source": [
    "results = pd.DataFrame(columns=['Avg. sheep', 'Avg. wolves'])"
   ]
  },
  {
   "cell_type": "code",
   "execution_count": null,
   "metadata": {},
   "outputs": [
    {
     "name": "stdout",
     "output_type": "stream",
     "text": [
      "Iteration:  0 times;  Elapsed:  1.0658960342407227  seconds\n",
      "Iteration:  10 times;  Elapsed:  3.8353471755981445  seconds\n",
      "Iteration:  20 times;  Elapsed:  5.4866485595703125  seconds\n",
      "Iteration:  30 times;  Elapsed:  7.152511358261108  seconds\n",
      "Iteration:  40 times;  Elapsed:  9.002635478973389  seconds\n",
      "Iteration:  50 times;  Elapsed:  10.502870321273804  seconds\n",
      "Iteration:  60 times;  Elapsed:  11.937369346618652  seconds\n",
      "Iteration:  70 times;  Elapsed:  13.67452597618103  seconds\n",
      "Iteration:  80 times;  Elapsed:  15.230409145355225  seconds\n",
      "Iteration:  90 times;  Elapsed:  16.847043991088867  seconds\n",
      "Iteration:  100 times;  Elapsed:  18.340049505233765  seconds\n",
      "Iteration:  110 times;  Elapsed:  19.73359704017639  seconds\n",
      "Iteration:  120 times;  Elapsed:  21.147326707839966  seconds\n",
      "Iteration:  130 times;  Elapsed:  22.46329665184021  seconds\n",
      "Iteration:  140 times;  Elapsed:  24.064109802246094  seconds\n",
      "Iteration:  150 times;  Elapsed:  25.528659105300903  seconds\n",
      "Iteration:  160 times;  Elapsed:  27.137102365493774  seconds\n",
      "Iteration:  170 times;  Elapsed:  28.611424446105957  seconds\n",
      "Iteration:  180 times;  Elapsed:  30.151968240737915  seconds\n",
      "Iteration:  190 times;  Elapsed:  31.759546041488647  seconds\n",
      "Iteration:  200 times;  Elapsed:  33.10815954208374  seconds\n",
      "Iteration:  210 times;  Elapsed:  34.63753414154053  seconds\n",
      "Iteration:  220 times;  Elapsed:  36.10122013092041  seconds\n",
      "Iteration:  230 times;  Elapsed:  37.43695116043091  seconds\n",
      "Iteration:  240 times;  Elapsed:  38.8282105922699  seconds\n",
      "Iteration:  250 times;  Elapsed:  40.434521436691284  seconds\n",
      "Iteration:  260 times;  Elapsed:  42.225571632385254  seconds\n",
      "Iteration:  270 times;  Elapsed:  43.768003702163696  seconds\n",
      "Iteration:  280 times;  Elapsed:  45.290310859680176  seconds\n",
      "Iteration:  290 times;  Elapsed:  46.990041971206665  seconds\n",
      "Iteration:  300 times;  Elapsed:  48.46452355384827  seconds\n",
      "Iteration:  310 times;  Elapsed:  50.10456347465515  seconds\n",
      "Iteration:  320 times;  Elapsed:  51.66204619407654  seconds\n",
      "Iteration:  330 times;  Elapsed:  53.324928283691406  seconds\n",
      "Iteration:  340 times;  Elapsed:  55.15461564064026  seconds\n",
      "Iteration:  350 times;  Elapsed:  56.786245822906494  seconds\n",
      "Iteration:  360 times;  Elapsed:  58.2447566986084  seconds\n",
      "Iteration:  370 times;  Elapsed:  59.66301393508911  seconds\n",
      "Iteration:  380 times;  Elapsed:  61.13638186454773  seconds\n",
      "Iteration:  390 times;  Elapsed:  62.79901742935181  seconds\n",
      "Iteration:  400 times;  Elapsed:  64.47471523284912  seconds\n",
      "Iteration:  410 times;  Elapsed:  65.96964192390442  seconds\n",
      "Iteration:  420 times;  Elapsed:  67.46906089782715  seconds\n",
      "Iteration:  430 times;  Elapsed:  68.90544199943542  seconds\n",
      "Iteration:  440 times;  Elapsed:  70.18070411682129  seconds\n",
      "Iteration:  450 times;  Elapsed:  71.58618903160095  seconds\n",
      "Iteration:  460 times;  Elapsed:  73.12350034713745  seconds\n",
      "Iteration:  470 times;  Elapsed:  75.06006693840027  seconds\n",
      "Iteration:  480 times;  Elapsed:  76.97754740715027  seconds\n",
      "Iteration:  490 times;  Elapsed:  78.6174488067627  seconds\n",
      "Iteration:  500 times;  Elapsed:  79.86351275444031  seconds\n",
      "Iteration:  510 times;  Elapsed:  81.33934617042542  seconds\n",
      "Iteration:  520 times;  Elapsed:  82.97922039031982  seconds\n",
      "Iteration:  530 times;  Elapsed:  84.37124848365784  seconds\n",
      "Iteration:  540 times;  Elapsed:  85.90885853767395  seconds\n",
      "Iteration:  550 times;  Elapsed:  87.41060400009155  seconds\n",
      "Iteration:  560 times;  Elapsed:  89.23132848739624  seconds\n",
      "Iteration:  570 times;  Elapsed:  90.96960592269897  seconds\n",
      "Iteration:  580 times;  Elapsed:  92.56819725036621  seconds\n",
      "Iteration:  590 times;  Elapsed:  94.00566267967224  seconds\n",
      "Iteration:  600 times;  Elapsed:  95.34957027435303  seconds\n",
      "Iteration:  610 times;  Elapsed:  96.83636736869812  seconds\n",
      "Iteration:  620 times;  Elapsed:  98.52498984336853  seconds\n",
      "Iteration:  630 times;  Elapsed:  99.84463047981262  seconds\n",
      "Iteration:  640 times;  Elapsed:  101.13636302947998  seconds\n",
      "Iteration:  650 times;  Elapsed:  102.74594378471375  seconds\n",
      "Iteration:  660 times;  Elapsed:  104.33972978591919  seconds\n",
      "Iteration:  670 times;  Elapsed:  105.77396297454834  seconds\n",
      "Iteration:  680 times;  Elapsed:  107.10495948791504  seconds\n",
      "Iteration:  690 times;  Elapsed:  108.58983135223389  seconds\n",
      "Iteration:  700 times;  Elapsed:  110.42408037185669  seconds\n",
      "Iteration:  710 times;  Elapsed:  112.39041662216187  seconds\n",
      "Iteration:  720 times;  Elapsed:  113.8752212524414  seconds\n",
      "Iteration:  730 times;  Elapsed:  115.11159348487854  seconds\n",
      "Iteration:  740 times;  Elapsed:  116.59850692749023  seconds\n",
      "Iteration:  750 times;  Elapsed:  118.00241446495056  seconds\n",
      "Iteration:  760 times;  Elapsed:  119.29741287231445  seconds\n",
      "Iteration:  770 times;  Elapsed:  120.57434034347534  seconds\n",
      "Iteration:  780 times;  Elapsed:  122.0262188911438  seconds\n",
      "Iteration:  790 times;  Elapsed:  123.59001135826111  seconds\n",
      "Iteration:  800 times;  Elapsed:  124.96432304382324  seconds\n",
      "Iteration:  810 times;  Elapsed:  126.26170516014099  seconds\n",
      "Iteration:  820 times;  Elapsed:  127.64887642860413  seconds\n",
      "Iteration:  830 times;  Elapsed:  128.9057719707489  seconds\n",
      "Iteration:  840 times;  Elapsed:  130.18948912620544  seconds\n",
      "Iteration:  850 times;  Elapsed:  131.63799023628235  seconds\n",
      "Iteration:  860 times;  Elapsed:  133.03770923614502  seconds\n",
      "Iteration:  870 times;  Elapsed:  134.38174152374268  seconds\n",
      "Iteration:  880 times;  Elapsed:  135.7372648715973  seconds\n",
      "Iteration:  890 times;  Elapsed:  137.15351033210754  seconds\n",
      "Iteration:  900 times;  Elapsed:  138.46457242965698  seconds\n",
      "Iteration:  910 times;  Elapsed:  139.70523190498352  seconds\n"
     ]
    }
   ],
   "source": [
    "import time\n",
    "\n",
    "t0 = time.time()\n",
    "for run in range(param_values.shape[0]):\n",
    "    #Set the input parameters\n",
    "    for i, name in enumerate(problem['names']):\n",
    "        if name == 'random-seed':\n",
    "            #The NetLogo random seed requires a different syntax\n",
    "            netlogo.command('random-seed {}'.format(param_values[run,i]))\n",
    "        else:\n",
    "            #Otherwise, assume the input parameters are global variables\n",
    "            netlogo.command('set {0} {1}'.format(name, param_values[run,i]))\n",
    "    netlogo.command('setup')\n",
    "    counts = netlogo.repeat_report(['count sheep', 'count wolves'], 100)\n",
    "    \n",
    "    results.loc[run, 'Avg. sheep'] = counts['count sheep'].values.mean()\n",
    "    results.loc[run, 'Avg. wolves'] = counts['count wolves'].values.mean()\n",
    "    \n",
    "    if run%10 == 0:\n",
    "        elapsed1 = time.time()-t0\n",
    "        print('Iteration: ',run ,'times; ','Elapsed: ',elapsed1,' seconds')\n",
    "        \n",
    "elapsed = time.time() - t0"
   ]
  },
  {
   "cell_type": "code",
   "execution_count": null,
   "metadata": {},
   "outputs": [],
   "source": [
    "print(elapsed)"
   ]
  },
  {
   "cell_type": "code",
   "execution_count": null,
   "metadata": {},
   "outputs": [],
   "source": [
    "netlogo2 = pyNetLogo.NetLogoLink(gui=True)\n",
    "netlogo2.load_model(r'Wolf Sheep Predation_v6.nlogo')"
   ]
  },
  {
   "cell_type": "code",
   "execution_count": null,
   "metadata": {},
   "outputs": [],
   "source": []
  }
 ],
 "metadata": {
  "kernelspec": {
   "display_name": "Python 3",
   "language": "python",
   "name": "python3"
  },
  "language_info": {
   "codemirror_mode": {
    "name": "ipython",
    "version": 3
   },
   "file_extension": ".py",
   "mimetype": "text/x-python",
   "name": "python",
   "nbconvert_exporter": "python",
   "pygments_lexer": "ipython3",
   "version": "3.6.4"
  }
 },
 "nbformat": 4,
 "nbformat_minor": 2
}
